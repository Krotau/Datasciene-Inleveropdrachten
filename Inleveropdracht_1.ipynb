{
  "cells": [
    {
      "cell_type": "markdown",
      "source": "# importeren van de Dataset\nDe data dat wordt gebruikt is gedownload van Kaggle, er is gekeken naar welke data potentieel veel over te vinden is.\nHier is een dataset over de prijzen van avocados gevonden dat goed kan worden gebruikt bij het maken van deze\nopdrachten.\n\nIn de code hieronder importeren we  de pandas library en laden we de avocado dataset in op de variabelen \u0027df\u0027.\n",
      "metadata": {
        "pycharm": {
          "metadata": false
        }
      }
    },
    {
      "cell_type": "code",
      "execution_count": 23,
      "metadata": {
        "collapsed": true,
        "pycharm": {
          "is_executing": false
        }
      },
      "outputs": [],
      "source": "from sklearn.model_selection import train_test_split\nfrom sklearn.linear_model import LinearRegression\nfrom sklearn.metrics import mean_absolute_error, mean_squared_error\nimport pandas as pd\nimport numpy as np\nimport matplotlib"
    },
    {
      "cell_type": "code",
      "execution_count": 2,
      "outputs": [
        {
          "data": {
            "text/plain": "   Unnamed: 0        Date  AveragePrice  Total Volume     4046       4225  \\\n0           0  2015-12-27          1.33      64236.62  1036.74   54454.85   \n1           1  2015-12-20          1.35      54876.98   674.28   44638.81   \n2           2  2015-12-13          0.93     118220.22   794.70  109149.67   \n3           3  2015-12-06          1.08      78992.15  1132.00   71976.41   \n4           4  2015-11-29          1.28      51039.60   941.48   43838.39   \n\n     4770  Total Bags  Small Bags  Large Bags  XLarge Bags          type  \\\n0   48.16     8696.87     8603.62       93.25          0.0  conventional   \n1   58.33     9505.56     9408.07       97.49          0.0  conventional   \n2  130.50     8145.35     8042.21      103.14          0.0  conventional   \n3   72.58     5811.16     5677.40      133.76          0.0  conventional   \n4   75.78     6183.95     5986.26      197.69          0.0  conventional   \n\n   year  region  \n0  2015  Albany  \n1  2015  Albany  \n2  2015  Albany  \n3  2015  Albany  \n4  2015  Albany  ",
            "text/html": "\u003cdiv\u003e\n\u003cstyle scoped\u003e\n    .dataframe tbody tr th:only-of-type {\n        vertical-align: middle;\n    }\n\n    .dataframe tbody tr th {\n        vertical-align: top;\n    }\n\n    .dataframe thead th {\n        text-align: right;\n    }\n\u003c/style\u003e\n\u003ctable border\u003d\"1\" class\u003d\"dataframe\"\u003e\n  \u003cthead\u003e\n    \u003ctr style\u003d\"text-align: right;\"\u003e\n      \u003cth\u003e\u003c/th\u003e\n      \u003cth\u003eUnnamed: 0\u003c/th\u003e\n      \u003cth\u003eDate\u003c/th\u003e\n      \u003cth\u003eAveragePrice\u003c/th\u003e\n      \u003cth\u003eTotal Volume\u003c/th\u003e\n      \u003cth\u003e4046\u003c/th\u003e\n      \u003cth\u003e4225\u003c/th\u003e\n      \u003cth\u003e4770\u003c/th\u003e\n      \u003cth\u003eTotal Bags\u003c/th\u003e\n      \u003cth\u003eSmall Bags\u003c/th\u003e\n      \u003cth\u003eLarge Bags\u003c/th\u003e\n      \u003cth\u003eXLarge Bags\u003c/th\u003e\n      \u003cth\u003etype\u003c/th\u003e\n      \u003cth\u003eyear\u003c/th\u003e\n      \u003cth\u003eregion\u003c/th\u003e\n    \u003c/tr\u003e\n  \u003c/thead\u003e\n  \u003ctbody\u003e\n    \u003ctr\u003e\n      \u003cth\u003e0\u003c/th\u003e\n      \u003ctd\u003e0\u003c/td\u003e\n      \u003ctd\u003e2015-12-27\u003c/td\u003e\n      \u003ctd\u003e1.33\u003c/td\u003e\n      \u003ctd\u003e64236.62\u003c/td\u003e\n      \u003ctd\u003e1036.74\u003c/td\u003e\n      \u003ctd\u003e54454.85\u003c/td\u003e\n      \u003ctd\u003e48.16\u003c/td\u003e\n      \u003ctd\u003e8696.87\u003c/td\u003e\n      \u003ctd\u003e8603.62\u003c/td\u003e\n      \u003ctd\u003e93.25\u003c/td\u003e\n      \u003ctd\u003e0.0\u003c/td\u003e\n      \u003ctd\u003econventional\u003c/td\u003e\n      \u003ctd\u003e2015\u003c/td\u003e\n      \u003ctd\u003eAlbany\u003c/td\u003e\n    \u003c/tr\u003e\n    \u003ctr\u003e\n      \u003cth\u003e1\u003c/th\u003e\n      \u003ctd\u003e1\u003c/td\u003e\n      \u003ctd\u003e2015-12-20\u003c/td\u003e\n      \u003ctd\u003e1.35\u003c/td\u003e\n      \u003ctd\u003e54876.98\u003c/td\u003e\n      \u003ctd\u003e674.28\u003c/td\u003e\n      \u003ctd\u003e44638.81\u003c/td\u003e\n      \u003ctd\u003e58.33\u003c/td\u003e\n      \u003ctd\u003e9505.56\u003c/td\u003e\n      \u003ctd\u003e9408.07\u003c/td\u003e\n      \u003ctd\u003e97.49\u003c/td\u003e\n      \u003ctd\u003e0.0\u003c/td\u003e\n      \u003ctd\u003econventional\u003c/td\u003e\n      \u003ctd\u003e2015\u003c/td\u003e\n      \u003ctd\u003eAlbany\u003c/td\u003e\n    \u003c/tr\u003e\n    \u003ctr\u003e\n      \u003cth\u003e2\u003c/th\u003e\n      \u003ctd\u003e2\u003c/td\u003e\n      \u003ctd\u003e2015-12-13\u003c/td\u003e\n      \u003ctd\u003e0.93\u003c/td\u003e\n      \u003ctd\u003e118220.22\u003c/td\u003e\n      \u003ctd\u003e794.70\u003c/td\u003e\n      \u003ctd\u003e109149.67\u003c/td\u003e\n      \u003ctd\u003e130.50\u003c/td\u003e\n      \u003ctd\u003e8145.35\u003c/td\u003e\n      \u003ctd\u003e8042.21\u003c/td\u003e\n      \u003ctd\u003e103.14\u003c/td\u003e\n      \u003ctd\u003e0.0\u003c/td\u003e\n      \u003ctd\u003econventional\u003c/td\u003e\n      \u003ctd\u003e2015\u003c/td\u003e\n      \u003ctd\u003eAlbany\u003c/td\u003e\n    \u003c/tr\u003e\n    \u003ctr\u003e\n      \u003cth\u003e3\u003c/th\u003e\n      \u003ctd\u003e3\u003c/td\u003e\n      \u003ctd\u003e2015-12-06\u003c/td\u003e\n      \u003ctd\u003e1.08\u003c/td\u003e\n      \u003ctd\u003e78992.15\u003c/td\u003e\n      \u003ctd\u003e1132.00\u003c/td\u003e\n      \u003ctd\u003e71976.41\u003c/td\u003e\n      \u003ctd\u003e72.58\u003c/td\u003e\n      \u003ctd\u003e5811.16\u003c/td\u003e\n      \u003ctd\u003e5677.40\u003c/td\u003e\n      \u003ctd\u003e133.76\u003c/td\u003e\n      \u003ctd\u003e0.0\u003c/td\u003e\n      \u003ctd\u003econventional\u003c/td\u003e\n      \u003ctd\u003e2015\u003c/td\u003e\n      \u003ctd\u003eAlbany\u003c/td\u003e\n    \u003c/tr\u003e\n    \u003ctr\u003e\n      \u003cth\u003e4\u003c/th\u003e\n      \u003ctd\u003e4\u003c/td\u003e\n      \u003ctd\u003e2015-11-29\u003c/td\u003e\n      \u003ctd\u003e1.28\u003c/td\u003e\n      \u003ctd\u003e51039.60\u003c/td\u003e\n      \u003ctd\u003e941.48\u003c/td\u003e\n      \u003ctd\u003e43838.39\u003c/td\u003e\n      \u003ctd\u003e75.78\u003c/td\u003e\n      \u003ctd\u003e6183.95\u003c/td\u003e\n      \u003ctd\u003e5986.26\u003c/td\u003e\n      \u003ctd\u003e197.69\u003c/td\u003e\n      \u003ctd\u003e0.0\u003c/td\u003e\n      \u003ctd\u003econventional\u003c/td\u003e\n      \u003ctd\u003e2015\u003c/td\u003e\n      \u003ctd\u003eAlbany\u003c/td\u003e\n    \u003c/tr\u003e\n  \u003c/tbody\u003e\n\u003c/table\u003e\n\u003c/div\u003e"
          },
          "metadata": {},
          "output_type": "execute_result",
          "execution_count": 2
        }
      ],
      "source": "data \u003d pd.read_csv(\u0027data/avocado.csv\u0027)\ndata.head()",
      "metadata": {
        "pycharm": {
          "metadata": false,
          "name": "#%%\n",
          "is_executing": false
        }
      }
    },
    {
      "cell_type": "markdown",
      "source": "## Multiple-Linear-Regression \nIn dit hoofdstuk gaan we een voorbeeld van Multiplaire Lineaire Regressie (MLR) uitwerken en evalueren. Met MLR gaan we\nproberen de prijzen van de avocados te voorspellen gegeven de waardes van andere kollomen.\n\nformule voor MLR: \u003cbr/\u003e\n\\begin{equation}\n\\ y_i \u003d \\beta_0 x_i{_0} + \\beta_1 x_i{_1}... + \\beta_p x_i{_p} + {m_i}\n\\end{equation}\n",
      "metadata": {
        "pycharm": {
          "metadata": false,
          "name": "#%% md\n"
        }
      }
    },
    {
      "cell_type": "markdown",
      "source": "### Wat gaan we analyseren\nMet behulp van MLR gaan we de prijzen van de advocado\u0027s voorspellen, de factoren die we hier voor gaan gebruiken zijn:\n1. totale volume\n2. Total Bags\n3. Aantal per soort bag: Small, Large, XLarge\n4. PLU (Price Lookup Codes) waardes: 4046, 4225, 4770\n\nMogelijke behulpzame factoren:\n1. Jaar\n2. Type: organisch of conventioneel\n3. Rgio\n\n### Uitwerking\n#### Schoonmkaen\nAllereerst moet er worden gecontroleerd worden hoeveel null waardes in de dataset zijn, pandas heeft hier een simpel\nmaar elegant truckje voor:",
      "metadata": {
        "pycharm": {
          "metadata": false,
          "name": "#%% md\n"
        }
      }
    },
    {
      "cell_type": "code",
      "execution_count": 3,
      "outputs": [
        {
          "data": {
            "text/plain": "Unnamed: 0      0\nDate            0\nAveragePrice    0\nTotal Volume    0\n4046            0\n4225            0\n4770            0\nTotal Bags      0\nSmall Bags      0\nLarge Bags      0\nXLarge Bags     0\ntype            0\nyear            0\nregion          0\ndtype: int64"
          },
          "metadata": {},
          "output_type": "execute_result",
          "execution_count": 3
        }
      ],
      "source": "data.isnull().sum()",
      "metadata": {
        "pycharm": {
          "metadata": false,
          "name": "#%%\n",
          "is_executing": false
        }
      }
    },
    {
      "cell_type": "markdown",
      "source": "Zoals te zien is de data schoon, dit is maar een eerste indruk dus er kan nog altijd wat fouten inzitten. Een van deze\nfouten kon al in het begin worden opgemerkt toen de .head() van de dataset werdt getoond; de kollommen zijn niet\ngeindexeerd en deze kollom wordt niet goed als datum object herkend.\n\nOm dit op te lossen wordt het voglende gedaan:",
      "metadata": {
        "pycharm": {
          "metadata": false,
          "name": "#%% md\n"
        }
      }
    },
    {
      "cell_type": "code",
      "execution_count": 4,
      "outputs": [],
      "source": "data[\"Date\"] \u003d pd.to_datetime(data[\"Date\"], yearfirst\u003dTrue)\ndata.set_index(\"Date\", inplace\u003dTrue)\ndata.sort_index(inplace\u003dTrue)",
      "metadata": {
        "pycharm": {
          "metadata": false,
          "name": "#%%\n",
          "is_executing": false
        }
      }
    },
    {
      "cell_type": "code",
      "execution_count": 5,
      "outputs": [
        {
          "data": {
            "text/plain": "            Unnamed: 0  AveragePrice  Total Volume     4046      4225    4770  \\\nDate                                                                            \n2015-01-04          51          1.75      27365.89  9307.34   3844.81  615.28   \n2015-01-04          51          1.49      17723.17  1189.35  15628.27    0.00   \n2015-01-04          51          1.68       2896.72   161.68    206.96    0.00   \n\n            Total Bags  Small Bags  Large Bags  XLarge Bags     type  year  \\\nDate                                                                         \n2015-01-04    13598.46    13061.10      537.36          0.0  organic  2015   \n2015-01-04      905.55      905.55        0.00          0.0  organic  2015   \n2015-01-04     2528.08     2528.08        0.00          0.0  organic  2015   \n\n                        region  \nDate                            \n2015-01-04           Southeast  \n2015-01-04             Chicago  \n2015-01-04  HarrisburgScranton  ",
            "text/html": "\u003cdiv\u003e\n\u003cstyle scoped\u003e\n    .dataframe tbody tr th:only-of-type {\n        vertical-align: middle;\n    }\n\n    .dataframe tbody tr th {\n        vertical-align: top;\n    }\n\n    .dataframe thead th {\n        text-align: right;\n    }\n\u003c/style\u003e\n\u003ctable border\u003d\"1\" class\u003d\"dataframe\"\u003e\n  \u003cthead\u003e\n    \u003ctr style\u003d\"text-align: right;\"\u003e\n      \u003cth\u003e\u003c/th\u003e\n      \u003cth\u003eUnnamed: 0\u003c/th\u003e\n      \u003cth\u003eAveragePrice\u003c/th\u003e\n      \u003cth\u003eTotal Volume\u003c/th\u003e\n      \u003cth\u003e4046\u003c/th\u003e\n      \u003cth\u003e4225\u003c/th\u003e\n      \u003cth\u003e4770\u003c/th\u003e\n      \u003cth\u003eTotal Bags\u003c/th\u003e\n      \u003cth\u003eSmall Bags\u003c/th\u003e\n      \u003cth\u003eLarge Bags\u003c/th\u003e\n      \u003cth\u003eXLarge Bags\u003c/th\u003e\n      \u003cth\u003etype\u003c/th\u003e\n      \u003cth\u003eyear\u003c/th\u003e\n      \u003cth\u003eregion\u003c/th\u003e\n    \u003c/tr\u003e\n    \u003ctr\u003e\n      \u003cth\u003eDate\u003c/th\u003e\n      \u003cth\u003e\u003c/th\u003e\n      \u003cth\u003e\u003c/th\u003e\n      \u003cth\u003e\u003c/th\u003e\n      \u003cth\u003e\u003c/th\u003e\n      \u003cth\u003e\u003c/th\u003e\n      \u003cth\u003e\u003c/th\u003e\n      \u003cth\u003e\u003c/th\u003e\n      \u003cth\u003e\u003c/th\u003e\n      \u003cth\u003e\u003c/th\u003e\n      \u003cth\u003e\u003c/th\u003e\n      \u003cth\u003e\u003c/th\u003e\n      \u003cth\u003e\u003c/th\u003e\n      \u003cth\u003e\u003c/th\u003e\n    \u003c/tr\u003e\n  \u003c/thead\u003e\n  \u003ctbody\u003e\n    \u003ctr\u003e\n      \u003cth\u003e2015-01-04\u003c/th\u003e\n      \u003ctd\u003e51\u003c/td\u003e\n      \u003ctd\u003e1.75\u003c/td\u003e\n      \u003ctd\u003e27365.89\u003c/td\u003e\n      \u003ctd\u003e9307.34\u003c/td\u003e\n      \u003ctd\u003e3844.81\u003c/td\u003e\n      \u003ctd\u003e615.28\u003c/td\u003e\n      \u003ctd\u003e13598.46\u003c/td\u003e\n      \u003ctd\u003e13061.10\u003c/td\u003e\n      \u003ctd\u003e537.36\u003c/td\u003e\n      \u003ctd\u003e0.0\u003c/td\u003e\n      \u003ctd\u003eorganic\u003c/td\u003e\n      \u003ctd\u003e2015\u003c/td\u003e\n      \u003ctd\u003eSoutheast\u003c/td\u003e\n    \u003c/tr\u003e\n    \u003ctr\u003e\n      \u003cth\u003e2015-01-04\u003c/th\u003e\n      \u003ctd\u003e51\u003c/td\u003e\n      \u003ctd\u003e1.49\u003c/td\u003e\n      \u003ctd\u003e17723.17\u003c/td\u003e\n      \u003ctd\u003e1189.35\u003c/td\u003e\n      \u003ctd\u003e15628.27\u003c/td\u003e\n      \u003ctd\u003e0.00\u003c/td\u003e\n      \u003ctd\u003e905.55\u003c/td\u003e\n      \u003ctd\u003e905.55\u003c/td\u003e\n      \u003ctd\u003e0.00\u003c/td\u003e\n      \u003ctd\u003e0.0\u003c/td\u003e\n      \u003ctd\u003eorganic\u003c/td\u003e\n      \u003ctd\u003e2015\u003c/td\u003e\n      \u003ctd\u003eChicago\u003c/td\u003e\n    \u003c/tr\u003e\n    \u003ctr\u003e\n      \u003cth\u003e2015-01-04\u003c/th\u003e\n      \u003ctd\u003e51\u003c/td\u003e\n      \u003ctd\u003e1.68\u003c/td\u003e\n      \u003ctd\u003e2896.72\u003c/td\u003e\n      \u003ctd\u003e161.68\u003c/td\u003e\n      \u003ctd\u003e206.96\u003c/td\u003e\n      \u003ctd\u003e0.00\u003c/td\u003e\n      \u003ctd\u003e2528.08\u003c/td\u003e\n      \u003ctd\u003e2528.08\u003c/td\u003e\n      \u003ctd\u003e0.00\u003c/td\u003e\n      \u003ctd\u003e0.0\u003c/td\u003e\n      \u003ctd\u003eorganic\u003c/td\u003e\n      \u003ctd\u003e2015\u003c/td\u003e\n      \u003ctd\u003eHarrisburgScranton\u003c/td\u003e\n    \u003c/tr\u003e\n  \u003c/tbody\u003e\n\u003c/table\u003e\n\u003c/div\u003e"
          },
          "metadata": {},
          "output_type": "execute_result",
          "execution_count": 5
        }
      ],
      "source": "data.head(3)",
      "metadata": {
        "pycharm": {
          "metadata": false,
          "name": "#%%\n",
          "is_executing": false
        }
      }
    },
    {
      "cell_type": "markdown",
      "source": "Door het opnieuw indelen van de index is de oude index, wat een gewoon geheel getal was, als een kollom toegevoegd,\ndeze is niet nodig en kan dus verwijderd worden",
      "metadata": {
        "pycharm": {
          "metadata": false,
          "name": "#%% md\n"
        }
      }
    },
    {
      "cell_type": "code",
      "execution_count": 6,
      "outputs": [],
      "source": "data.drop([\"Unnamed: 0\"], axis\u003d1, inplace\u003dTrue)",
      "metadata": {
        "pycharm": {
          "metadata": false,
          "name": "#%%\n",
          "is_executing": false
        }
      }
    },
    {
      "cell_type": "markdown",
      "source": "\n#### Factoren en coëfficiënten\n\nNu de dataset logisch gewijs klopt kunnen de factoren worden gedefinieerd, allereerst gaan we enkele kollomen weghalen\ndie geen continu data bevatten:\n\n1. Type\n2. Jaar\n3. Region\n\nDe kolommen zeggen uiteindelijk wel iets over de prijs, maar aangezien we MLR gebruiken kunnen we deze data niet\nin het model meenemen. Voor bij het gebruik van de categorische data (Type en Region) kan Multinomiale Logische Regressie\nworden gebruikt, maar aangezien dat buiten de scope van het onderzoek valt, wordt deze niet gebruikt. Year is discrete\ndata en daar zal Poisson  Regressie voor worden gebruikt, maar valt net als de categorische data buiten de scope.",
      "metadata": {
        "pycharm": {
          "metadata": false,
          "name": "#%% md\n",
          "is_executing": false
        }
      }
    },
    {
      "cell_type": "code",
      "execution_count": 18,
      "outputs": [
        {
          "data": {
            "text/plain": "            AveragePrice  Total Volume     4046      4225     4770  \\\nDate                                                                 \n2015-01-04          1.75      27365.89  9307.34   3844.81   615.28   \n2015-01-04          1.49      17723.17  1189.35  15628.27     0.00   \n2015-01-04          1.68       2896.72   161.68    206.96     0.00   \n2015-01-04          1.52      54956.80  3013.04  35456.88  1561.70   \n2015-01-04          1.64       1505.12     1.27   1129.50     0.00   \n\n            Total Bags  Small Bags  Large Bags  XLarge Bags  \nDate                                                         \n2015-01-04    13598.46    13061.10      537.36          0.0  \n2015-01-04      905.55      905.55        0.00          0.0  \n2015-01-04     2528.08     2528.08        0.00          0.0  \n2015-01-04    14925.18    11264.80     3660.38          0.0  \n2015-01-04      374.35      186.67      187.68          0.0  ",
            "text/html": "\u003cdiv\u003e\n\u003cstyle scoped\u003e\n    .dataframe tbody tr th:only-of-type {\n        vertical-align: middle;\n    }\n\n    .dataframe tbody tr th {\n        vertical-align: top;\n    }\n\n    .dataframe thead th {\n        text-align: right;\n    }\n\u003c/style\u003e\n\u003ctable border\u003d\"1\" class\u003d\"dataframe\"\u003e\n  \u003cthead\u003e\n    \u003ctr style\u003d\"text-align: right;\"\u003e\n      \u003cth\u003e\u003c/th\u003e\n      \u003cth\u003eAveragePrice\u003c/th\u003e\n      \u003cth\u003eTotal Volume\u003c/th\u003e\n      \u003cth\u003e4046\u003c/th\u003e\n      \u003cth\u003e4225\u003c/th\u003e\n      \u003cth\u003e4770\u003c/th\u003e\n      \u003cth\u003eTotal Bags\u003c/th\u003e\n      \u003cth\u003eSmall Bags\u003c/th\u003e\n      \u003cth\u003eLarge Bags\u003c/th\u003e\n      \u003cth\u003eXLarge Bags\u003c/th\u003e\n    \u003c/tr\u003e\n    \u003ctr\u003e\n      \u003cth\u003eDate\u003c/th\u003e\n      \u003cth\u003e\u003c/th\u003e\n      \u003cth\u003e\u003c/th\u003e\n      \u003cth\u003e\u003c/th\u003e\n      \u003cth\u003e\u003c/th\u003e\n      \u003cth\u003e\u003c/th\u003e\n      \u003cth\u003e\u003c/th\u003e\n      \u003cth\u003e\u003c/th\u003e\n      \u003cth\u003e\u003c/th\u003e\n      \u003cth\u003e\u003c/th\u003e\n    \u003c/tr\u003e\n  \u003c/thead\u003e\n  \u003ctbody\u003e\n    \u003ctr\u003e\n      \u003cth\u003e2015-01-04\u003c/th\u003e\n      \u003ctd\u003e1.75\u003c/td\u003e\n      \u003ctd\u003e27365.89\u003c/td\u003e\n      \u003ctd\u003e9307.34\u003c/td\u003e\n      \u003ctd\u003e3844.81\u003c/td\u003e\n      \u003ctd\u003e615.28\u003c/td\u003e\n      \u003ctd\u003e13598.46\u003c/td\u003e\n      \u003ctd\u003e13061.10\u003c/td\u003e\n      \u003ctd\u003e537.36\u003c/td\u003e\n      \u003ctd\u003e0.0\u003c/td\u003e\n    \u003c/tr\u003e\n    \u003ctr\u003e\n      \u003cth\u003e2015-01-04\u003c/th\u003e\n      \u003ctd\u003e1.49\u003c/td\u003e\n      \u003ctd\u003e17723.17\u003c/td\u003e\n      \u003ctd\u003e1189.35\u003c/td\u003e\n      \u003ctd\u003e15628.27\u003c/td\u003e\n      \u003ctd\u003e0.00\u003c/td\u003e\n      \u003ctd\u003e905.55\u003c/td\u003e\n      \u003ctd\u003e905.55\u003c/td\u003e\n      \u003ctd\u003e0.00\u003c/td\u003e\n      \u003ctd\u003e0.0\u003c/td\u003e\n    \u003c/tr\u003e\n    \u003ctr\u003e\n      \u003cth\u003e2015-01-04\u003c/th\u003e\n      \u003ctd\u003e1.68\u003c/td\u003e\n      \u003ctd\u003e2896.72\u003c/td\u003e\n      \u003ctd\u003e161.68\u003c/td\u003e\n      \u003ctd\u003e206.96\u003c/td\u003e\n      \u003ctd\u003e0.00\u003c/td\u003e\n      \u003ctd\u003e2528.08\u003c/td\u003e\n      \u003ctd\u003e2528.08\u003c/td\u003e\n      \u003ctd\u003e0.00\u003c/td\u003e\n      \u003ctd\u003e0.0\u003c/td\u003e\n    \u003c/tr\u003e\n    \u003ctr\u003e\n      \u003cth\u003e2015-01-04\u003c/th\u003e\n      \u003ctd\u003e1.52\u003c/td\u003e\n      \u003ctd\u003e54956.80\u003c/td\u003e\n      \u003ctd\u003e3013.04\u003c/td\u003e\n      \u003ctd\u003e35456.88\u003c/td\u003e\n      \u003ctd\u003e1561.70\u003c/td\u003e\n      \u003ctd\u003e14925.18\u003c/td\u003e\n      \u003ctd\u003e11264.80\u003c/td\u003e\n      \u003ctd\u003e3660.38\u003c/td\u003e\n      \u003ctd\u003e0.0\u003c/td\u003e\n    \u003c/tr\u003e\n    \u003ctr\u003e\n      \u003cth\u003e2015-01-04\u003c/th\u003e\n      \u003ctd\u003e1.64\u003c/td\u003e\n      \u003ctd\u003e1505.12\u003c/td\u003e\n      \u003ctd\u003e1.27\u003c/td\u003e\n      \u003ctd\u003e1129.50\u003c/td\u003e\n      \u003ctd\u003e0.00\u003c/td\u003e\n      \u003ctd\u003e374.35\u003c/td\u003e\n      \u003ctd\u003e186.67\u003c/td\u003e\n      \u003ctd\u003e187.68\u003c/td\u003e\n      \u003ctd\u003e0.0\u003c/td\u003e\n    \u003c/tr\u003e\n  \u003c/tbody\u003e\n\u003c/table\u003e\n\u003c/div\u003e"
          },
          "metadata": {},
          "output_type": "execute_result",
          "execution_count": 18
        }
      ],
      "source": "data_continue \u003d data.drop([\"type\", \"region\", \"year\"], axis\u003d1).dropna()\ndata_continue.head()",
      "metadata": {
        "pycharm": {
          "metadata": false,
          "name": "#%%\n",
          "is_executing": false
        }
      }
    },
    {
      "cell_type": "markdown",
      "source": "Ten tweede wordt vanuit deze cotinue data de factoren opgebouwd, hiervoor gaan we sci-kit learn gebruiken:",
      "metadata": {
        "pycharm": {
          "metadata": false,
          "name": "#%% md\n"
        }
      }
    },
    {
      "cell_type": "code",
      "execution_count": 19,
      "outputs": [],
      "source": "Xs \u003d data_continue.drop([\"AveragePrice\"], axis\u003d1).values\ny \u003d data_continue[\"AveragePrice\"].values\nX_train, X_test, y_train, y_test \u003d train_test_split(Xs, y, test_size\u003d0.2, random_state\u003d0)",
      "metadata": {
        "pycharm": {
          "metadata": false,
          "name": "#%%\n",
          "is_executing": false
        }
      }
    },
    {
      "cell_type": "markdown",
      "source": "Als laatst gaan we de lineaire regressie opbouwen, hiervoor gebruiken we weer sci-kit-learn.",
      "metadata": {
        "pycharm": {
          "metadata": false
        }
      }
    },
    {
      "cell_type": "code",
      "execution_count": 20,
      "outputs": [
        {
          "name": "stdout",
          "text": [
            "1.4205921802106742\n[ 0.00020275 -0.00020286 -0.00020269 -0.0002032  -0.02537155  0.02516883\n  0.0251687   0.02517015]\n"
          ],
          "output_type": "stream"
        }
      ],
      "source": "reg \u003d LinearRegression(normalize\u003dTrue)\nreg.fit(X_train, y_train)\nprint(reg.intercept_) \nprint(reg.coef_)",
      "metadata": {
        "pycharm": {
          "metadata": false,
          "name": "#%%\n",
          "is_executing": false
        }
      }
    },
    {
      "cell_type": "markdown",
      "source": "#### Voorspellen van prijzen\nNu de coëfficiënten zijn bepaald voor de factoren kunnen we dit model gebruiken om voorspellingen op de prijzen te maken",
      "metadata": {
        "pycharm": {
          "metadata": false,
          "name": "#%% md\n"
        }
      }
    },
    {
      "cell_type": "code",
      "execution_count": 21,
      "outputs": [
        {
          "data": {
            "text/plain": "    Werkelijk  Voorspelt\n0        1.11   1.414800\n1        1.68   1.421365\n2        2.11   1.421134\n3        2.15   1.391286\n4        1.70   1.424736\n5        1.91   1.420939\n6        0.76   1.370642\n7        1.93   1.423610\n8        1.42   1.418669\n9        1.20   1.419781\n10       1.13   1.266377\n11       1.08   1.410570\n12       1.22   1.425765\n13       1.53   1.414732\n14       1.05   1.407383\n15       1.52   1.418903\n16       2.06   1.420277\n17       1.31   1.418894\n18       1.76   1.420522\n19       1.60   1.420954",
            "text/html": "\u003cdiv\u003e\n\u003cstyle scoped\u003e\n    .dataframe tbody tr th:only-of-type {\n        vertical-align: middle;\n    }\n\n    .dataframe tbody tr th {\n        vertical-align: top;\n    }\n\n    .dataframe thead th {\n        text-align: right;\n    }\n\u003c/style\u003e\n\u003ctable border\u003d\"1\" class\u003d\"dataframe\"\u003e\n  \u003cthead\u003e\n    \u003ctr style\u003d\"text-align: right;\"\u003e\n      \u003cth\u003e\u003c/th\u003e\n      \u003cth\u003eWerkelijk\u003c/th\u003e\n      \u003cth\u003eVoorspelt\u003c/th\u003e\n    \u003c/tr\u003e\n  \u003c/thead\u003e\n  \u003ctbody\u003e\n    \u003ctr\u003e\n      \u003cth\u003e0\u003c/th\u003e\n      \u003ctd\u003e1.11\u003c/td\u003e\n      \u003ctd\u003e1.414800\u003c/td\u003e\n    \u003c/tr\u003e\n    \u003ctr\u003e\n      \u003cth\u003e1\u003c/th\u003e\n      \u003ctd\u003e1.68\u003c/td\u003e\n      \u003ctd\u003e1.421365\u003c/td\u003e\n    \u003c/tr\u003e\n    \u003ctr\u003e\n      \u003cth\u003e2\u003c/th\u003e\n      \u003ctd\u003e2.11\u003c/td\u003e\n      \u003ctd\u003e1.421134\u003c/td\u003e\n    \u003c/tr\u003e\n    \u003ctr\u003e\n      \u003cth\u003e3\u003c/th\u003e\n      \u003ctd\u003e2.15\u003c/td\u003e\n      \u003ctd\u003e1.391286\u003c/td\u003e\n    \u003c/tr\u003e\n    \u003ctr\u003e\n      \u003cth\u003e4\u003c/th\u003e\n      \u003ctd\u003e1.70\u003c/td\u003e\n      \u003ctd\u003e1.424736\u003c/td\u003e\n    \u003c/tr\u003e\n    \u003ctr\u003e\n      \u003cth\u003e5\u003c/th\u003e\n      \u003ctd\u003e1.91\u003c/td\u003e\n      \u003ctd\u003e1.420939\u003c/td\u003e\n    \u003c/tr\u003e\n    \u003ctr\u003e\n      \u003cth\u003e6\u003c/th\u003e\n      \u003ctd\u003e0.76\u003c/td\u003e\n      \u003ctd\u003e1.370642\u003c/td\u003e\n    \u003c/tr\u003e\n    \u003ctr\u003e\n      \u003cth\u003e7\u003c/th\u003e\n      \u003ctd\u003e1.93\u003c/td\u003e\n      \u003ctd\u003e1.423610\u003c/td\u003e\n    \u003c/tr\u003e\n    \u003ctr\u003e\n      \u003cth\u003e8\u003c/th\u003e\n      \u003ctd\u003e1.42\u003c/td\u003e\n      \u003ctd\u003e1.418669\u003c/td\u003e\n    \u003c/tr\u003e\n    \u003ctr\u003e\n      \u003cth\u003e9\u003c/th\u003e\n      \u003ctd\u003e1.20\u003c/td\u003e\n      \u003ctd\u003e1.419781\u003c/td\u003e\n    \u003c/tr\u003e\n    \u003ctr\u003e\n      \u003cth\u003e10\u003c/th\u003e\n      \u003ctd\u003e1.13\u003c/td\u003e\n      \u003ctd\u003e1.266377\u003c/td\u003e\n    \u003c/tr\u003e\n    \u003ctr\u003e\n      \u003cth\u003e11\u003c/th\u003e\n      \u003ctd\u003e1.08\u003c/td\u003e\n      \u003ctd\u003e1.410570\u003c/td\u003e\n    \u003c/tr\u003e\n    \u003ctr\u003e\n      \u003cth\u003e12\u003c/th\u003e\n      \u003ctd\u003e1.22\u003c/td\u003e\n      \u003ctd\u003e1.425765\u003c/td\u003e\n    \u003c/tr\u003e\n    \u003ctr\u003e\n      \u003cth\u003e13\u003c/th\u003e\n      \u003ctd\u003e1.53\u003c/td\u003e\n      \u003ctd\u003e1.414732\u003c/td\u003e\n    \u003c/tr\u003e\n    \u003ctr\u003e\n      \u003cth\u003e14\u003c/th\u003e\n      \u003ctd\u003e1.05\u003c/td\u003e\n      \u003ctd\u003e1.407383\u003c/td\u003e\n    \u003c/tr\u003e\n    \u003ctr\u003e\n      \u003cth\u003e15\u003c/th\u003e\n      \u003ctd\u003e1.52\u003c/td\u003e\n      \u003ctd\u003e1.418903\u003c/td\u003e\n    \u003c/tr\u003e\n    \u003ctr\u003e\n      \u003cth\u003e16\u003c/th\u003e\n      \u003ctd\u003e2.06\u003c/td\u003e\n      \u003ctd\u003e1.420277\u003c/td\u003e\n    \u003c/tr\u003e\n    \u003ctr\u003e\n      \u003cth\u003e17\u003c/th\u003e\n      \u003ctd\u003e1.31\u003c/td\u003e\n      \u003ctd\u003e1.418894\u003c/td\u003e\n    \u003c/tr\u003e\n    \u003ctr\u003e\n      \u003cth\u003e18\u003c/th\u003e\n      \u003ctd\u003e1.76\u003c/td\u003e\n      \u003ctd\u003e1.420522\u003c/td\u003e\n    \u003c/tr\u003e\n    \u003ctr\u003e\n      \u003cth\u003e19\u003c/th\u003e\n      \u003ctd\u003e1.60\u003c/td\u003e\n      \u003ctd\u003e1.420954\u003c/td\u003e\n    \u003c/tr\u003e\n  \u003c/tbody\u003e\n\u003c/table\u003e\n\u003c/div\u003e"
          },
          "metadata": {},
          "output_type": "execute_result",
          "execution_count": 21
        }
      ],
      "source": "y_voorspelling \u003d reg.predict(X_test)\nvoorspellingen_df \u003d pd.DataFrame({\u0027Werkelijk\u0027: y_test, \u0027Voorspelt\u0027: y_voorspelling})\nvoorspellingen_df.head(20)",
      "metadata": {
        "pycharm": {
          "metadata": false,
          "name": "#%%\n",
          "is_executing": false
        }
      }
    },
    {
      "cell_type": "markdown",
      "source": "### Evaluatie\nom te evalueren hoe goed de voorspellingen bestaan enkele rekenmethodes om de error te berekenen, iedere rekenmethode is\neen manier om de error uit te rekenen en geven ieder een ander soort waarde aan. Maar de waardes moeten eerst tegen iets\nworden opgewogen; het algemene gemiddelde van de dataset.",
      "metadata": {
        "pycharm": {
          "metadata": false,
          "name": "#%% md\n"
        }
      }
    },
    {
      "cell_type": "code",
      "execution_count": 32,
      "outputs": [
        {
          "name": "stdout",
          "text": [
            "[1.41353151 1.41353151 1.41353151 ... 1.41353151 1.41353151 1.41353151]\n"
          ],
          "output_type": "stream"
        }
      ],
      "source": "y_gemiddeld \u003d np.empty(y_test.shape, y_test.dtype)\ny_gemiddeld.fill(np.mean(y_test))\nprint(y_gemiddeld)",
      "metadata": {
        "pycharm": {
          "metadata": false,
          "name": "#%%\n",
          "is_executing": false
        }
      }
    },
    {
      "cell_type": "markdown",
      "source": "#### Mean Absolute Error (MAE)\nDe MAE geeft aan hoeveel de absolute afwijking per voorspelling is, zo te zien is het MLR model gemiddeld 31 cent\nafwijkend van de daadwerkelijke prijs. Vergeleken met de 32 cent van het gemiddelde, een kleine verbeterin, maar\nnogsteeds slecht\n\nVergeleken met voorspelling:",
      "metadata": {
        "pycharm": {
          "metadata": false,
          "name": "#%% md\n"
        }
      }
    },
    {
      "cell_type": "code",
      "execution_count": 34,
      "outputs": [
        {
          "name": "stdout",
          "text": [
            "Mean Absolute Error: 0.3135968009826497\n"
          ],
          "output_type": "stream"
        }
      ],
      "source": "print(\u0027Mean Absolute Error:\u0027, mean_absolute_error(y_test, y_voorspelling)) ",
      "metadata": {
        "pycharm": {
          "metadata": false,
          "name": "#%%\n",
          "is_executing": false
        }
      }
    },
    {
      "cell_type": "markdown",
      "source": "Vergeleken met het gemiddelde van y_test",
      "metadata": {
        "pycharm": {
          "metadata": false,
          "name": "#%% md\n"
        }
      }
    },
    {
      "cell_type": "code",
      "execution_count": 35,
      "outputs": [
        {
          "name": "stdout",
          "text": [
            "Mean Absolute Error: 0.32494888647025705\n"
          ],
          "output_type": "stream"
        }
      ],
      "source": "print(\u0027Mean Absolute Error:\u0027, mean_absolute_error(y_test, y_gemiddeld)) ",
      "metadata": {
        "pycharm": {
          "metadata": false,
          "name": "#%%\n",
          "is_executing": false
        }
      }
    },
    {
      "cell_type": "markdown",
      "source": "#### Mean Squared Error (MSE) \nMet MSE geef je de kwadratische error aan, hiermee kan je testen of er veel outliers in data zitten, zoals te zien is\ndat de error relatief in de buurt is vergeleken met de MAE zijn er niet veel outliers in de dataset.",
      "metadata": {
        "pycharm": {
          "metadata": false,
          "name": "#%% md\n"
        }
      }
    },
    {
      "cell_type": "code",
      "execution_count": 36,
      "outputs": [
        {
          "name": "stdout",
          "text": [
            "Mean Squared Error: 0.15359315535007795\n"
          ],
          "output_type": "stream"
        }
      ],
      "source": "print(\u0027Mean Squared Error:\u0027, mean_squared_error(y_test, y_voorspelling))",
      "metadata": {
        "pycharm": {
          "metadata": false,
          "name": "#%%\n",
          "is_executing": false
        }
      }
    },
    {
      "cell_type": "markdown",
      "source": "Vergeleken met het gemiddelde van y_test",
      "metadata": {
        "pycharm": {
          "metadata": false
        }
      }
    },
    {
      "cell_type": "code",
      "execution_count": 37,
      "outputs": [
        {
          "name": "stdout",
          "text": [
            "Mean Absolute Error: 0.1632669531169075\n"
          ],
          "output_type": "stream"
        }
      ],
      "source": "print(\u0027Mean Absolute Error:\u0027, mean_squared_error(y_test, y_gemiddeld)) ",
      "metadata": {
        "pycharm": {
          "metadata": false,
          "name": "#%%\n",
          "is_executing": false
        }
      }
    },
    {
      "cell_type": "markdown",
      "source": "#### Root Mean Squared Error (RMSE)\nGezien de MSE een klein getal ( \u003e1 ) is de RMSE geen goede meetmethode voor de uitkomsten bij deze dataset.",
      "metadata": {
        "pycharm": {
          "metadata": false,
          "name": "#%% md\n"
        }
      }
    },
    {
      "cell_type": "code",
      "execution_count": 38,
      "outputs": [
        {
          "name": "stdout",
          "text": [
            "Root Mean Squared Error: 0.39190962650855865\n"
          ],
          "output_type": "stream"
        }
      ],
      "source": "print(\u0027Root Mean Squared Error:\u0027, np.sqrt(mean_squared_error(y_test, y_voorspelling))) ",
      "metadata": {
        "pycharm": {
          "metadata": false,
          "name": "#%%\n",
          "is_executing": false
        }
      }
    },
    {
      "cell_type": "markdown",
      "source": "Vergeleken met het gemiddelde van y_test",
      "metadata": {
        "pycharm": {
          "metadata": false
        }
      }
    },
    {
      "cell_type": "code",
      "execution_count": 39,
      "outputs": [
        {
          "name": "stdout",
          "text": [
            "Mean Absolute Error: 0.40406305586740726\n"
          ],
          "output_type": "stream"
        }
      ],
      "source": "print(\u0027Mean Absolute Error:\u0027, np.sqrt(mean_squared_error(y_test, y_gemiddeld)))",
      "metadata": {
        "pycharm": {
          "metadata": false,
          "name": "#%%\n",
          "is_executing": false
        }
      }
    },
    {
      "cell_type": "markdown",
      "source": "### Conclusie\nMLR werkt maar de eigenschappen van de dataset hebben weinig correlatie met elkaar, waardoor bij het voorspellen van de\ngemiddelde prijs het iets beter gaat dan het gemiddelde gebruiken, maar het zo klein het verschil is dat het bijna\nnutteloos is.",
      "metadata": {
        "pycharm": {
          "metadata": false,
          "name": "#%% md\n"
        }
      }
    },
    {
      "cell_type": "markdown",
      "source": "## K-nearest Neighbour\nIn dit hoofdstuk gaan we een voorbeeld van K-nearest Neighbour uitwerken en evalueren. Door middel van deze analyse\ntechniek wordt geprobeerd te voorspellen wat voor type de avocado is\n\n### Wat gaan we analyseren\n\n### Uitwerking\n\n### Evaluatie\n",
      "metadata": {
        "pycharm": {
          "metadata": false
        }
      }
    },
    {
      "cell_type": "markdown",
      "source": "## Naives Bayes\nIn dit hoofdstuk gaan we een voorbeeld van Nayves Bayes uitwerken en evalueren\n\n### Wat gaan we analyseren\n\n### Uitwerking\n\n### Evaluatie",
      "metadata": {
        "pycharm": {
          "metadata": false
        }
      }
    }
  ],
  "metadata": {
    "language_info": {
      "codemirror_mode": {
        "name": "ipython",
        "version": 2
      },
      "file_extension": ".py",
      "mimetype": "text/x-python",
      "name": "python",
      "nbconvert_exporter": "python",
      "pygments_lexer": "ipython2",
      "version": "2.7.6"
    },
    "kernelspec": {
      "name": "python3",
      "language": "python",
      "display_name": "Python 3"
    },
    "stem_cell": {
      "cell_type": "raw",
      "source": "",
      "metadata": {
        "pycharm": {
          "metadata": false
        }
      }
    }
  },
  "nbformat": 4,
  "nbformat_minor": 0
}