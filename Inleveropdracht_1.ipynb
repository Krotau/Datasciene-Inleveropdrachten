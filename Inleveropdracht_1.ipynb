{
  "cells": [
    {
      "cell_type": "markdown",
      "source": "# importeren van de Dataset\nDe data dat wordt gebruikt is gedownload van Kaggle, er is gekeken naar welke data potentieel veel over te vinden is.\nHier is een dataset over de prijzen van avocados gevonden dat goed kan worden gebruikt bij het maken van deze\nopdrachten.\n\nIn de code hieronder importeren we  de pandas library en laden we de avocado dataset in op de variabelen \u0027df\u0027.\n",
      "metadata": {
        "pycharm": {
          "metadata": false
        }
      }
    },
    {
      "cell_type": "code",
      "execution_count": 11,
      "metadata": {
        "collapsed": true,
        "pycharm": {
          "is_executing": false
        }
      },
      "outputs": [],
      "source": "from sklearn.model_selection import train_test_split\nfrom sklearn.linear_model import LinearRegression \nimport pandas as pd"
    },
    {
      "cell_type": "code",
      "execution_count": null,
      "outputs": [],
      "source": "data \u003d pd.read_csv(\u0027data/avocado.csv\u0027)",
      "metadata": {
        "pycharm": {
          "metadata": false,
          "name": "#%%\n"
        }
      }
    },
    {
      "cell_type": "markdown",
      "source": "## Multiple-Linear-Regression \nIn dit hoofdstuk gaan we een voorbeeld van Multiplaire Lineaire Regressie (MLR) uitwerken en evalueren. Met MLR gaan we\nproberen de prijzen van de avocados te voorspellen gegeven de waardes van andere kollomen.\n\nformule voor MLR: \u003cbr/\u003e\n\\begin{equation}\n\\ y_i \u003d \\beta_0 x_i{_0} + \\beta_1 x_i{_1}... + \\beta_p x_i{_p} + {m_i}\n\\end{equation}\n",
      "metadata": {
        "pycharm": {
          "metadata": false,
          "name": "#%% md\n"
        }
      }
    },
    {
      "cell_type": "markdown",
      "source": "### Wat gaan we analyseren\nMet behulp van MLR gaan we de prijzen van de advocado\u0027s voorspellen, de factoren die we hier voor gaan gebruiken zijn:\n1. totale volume\n2. Total Bags\n3. Aantal per soort bag: Small, Large, XLarge\n4. PLU (Price Lookup Codes) waardes: 4046, 4225, 4770\n\nMogelijke behulpzame factoren:\n1. Jaar\n2. Type: organisch of conventioneel\n3. Rgio\n\n### Uitwerking\n#### Schoonmkaen\nAllereerst moet er worden gecontroleerd hoeveel null waardes in de data is, pandas heeft hier een simpel maar elegant\ntruckje voor:",
      "metadata": {
        "pycharm": {
          "metadata": false,
          "name": "#%% md\n"
        }
      }
    },
    {
      "cell_type": "code",
      "execution_count": 2,
      "outputs": [
        {
          "data": {
            "text/plain": "Unnamed: 0      0\nDate            0\nAveragePrice    0\nTotal Volume    0\n4046            0\n4225            0\n4770            0\nTotal Bags      0\nSmall Bags      0\nLarge Bags      0\nXLarge Bags     0\ntype            0\nyear            0\nregion          0\ndtype: int64"
          },
          "metadata": {},
          "output_type": "execute_result",
          "execution_count": 2
        }
      ],
      "source": "data.isnull().sum()",
      "metadata": {
        "pycharm": {
          "metadata": false,
          "name": "#%%\n",
          "is_executing": false
        }
      }
    },
    {
      "cell_type": "markdown",
      "source": "Zoals te zien is de data schoon, dit is maar een eerste indruk dus er kan nog altijd wat fouten inzitten. Een van deze\nfouten kon al in het begon worden opgemerkt toen de head() van de dataset werdt getoond; de kollommen zijn niet\ngeindexeerd en deze kollom wordt niet goed als datum object herkend.\n\nOm dit op te lossen wordt het voglende gedaan:",
      "metadata": {
        "pycharm": {
          "metadata": false,
          "name": "#%% md\n"
        }
      }
    },
    {
      "cell_type": "code",
      "execution_count": 3,
      "outputs": [],
      "source": "data[\"Date\"] \u003d pd.to_datetime(data[\"Date\"], yearfirst\u003dTrue)\ndata.set_index(\"Date\", inplace\u003dTrue)\ndata.sort_index(inplace\u003dTrue)",
      "metadata": {
        "pycharm": {
          "metadata": false,
          "name": "#%%\n",
          "is_executing": false
        }
      }
    },
    {
      "cell_type": "code",
      "execution_count": 4,
      "outputs": [
        {
          "data": {
            "text/plain": "            Unnamed: 0  AveragePrice  Total Volume     4046      4225    4770  \\\nDate                                                                            \n2015-01-04          51          1.75      27365.89  9307.34   3844.81  615.28   \n2015-01-04          51          1.49      17723.17  1189.35  15628.27    0.00   \n2015-01-04          51          1.68       2896.72   161.68    206.96    0.00   \n\n            Total Bags  Small Bags  Large Bags  XLarge Bags     type  year  \\\nDate                                                                         \n2015-01-04    13598.46    13061.10      537.36          0.0  organic  2015   \n2015-01-04      905.55      905.55        0.00          0.0  organic  2015   \n2015-01-04     2528.08     2528.08        0.00          0.0  organic  2015   \n\n                        region  \nDate                            \n2015-01-04           Southeast  \n2015-01-04             Chicago  \n2015-01-04  HarrisburgScranton  ",
            "text/html": "\u003cdiv\u003e\n\u003cstyle scoped\u003e\n    .dataframe tbody tr th:only-of-type {\n        vertical-align: middle;\n    }\n\n    .dataframe tbody tr th {\n        vertical-align: top;\n    }\n\n    .dataframe thead th {\n        text-align: right;\n    }\n\u003c/style\u003e\n\u003ctable border\u003d\"1\" class\u003d\"dataframe\"\u003e\n  \u003cthead\u003e\n    \u003ctr style\u003d\"text-align: right;\"\u003e\n      \u003cth\u003e\u003c/th\u003e\n      \u003cth\u003eUnnamed: 0\u003c/th\u003e\n      \u003cth\u003eAveragePrice\u003c/th\u003e\n      \u003cth\u003eTotal Volume\u003c/th\u003e\n      \u003cth\u003e4046\u003c/th\u003e\n      \u003cth\u003e4225\u003c/th\u003e\n      \u003cth\u003e4770\u003c/th\u003e\n      \u003cth\u003eTotal Bags\u003c/th\u003e\n      \u003cth\u003eSmall Bags\u003c/th\u003e\n      \u003cth\u003eLarge Bags\u003c/th\u003e\n      \u003cth\u003eXLarge Bags\u003c/th\u003e\n      \u003cth\u003etype\u003c/th\u003e\n      \u003cth\u003eyear\u003c/th\u003e\n      \u003cth\u003eregion\u003c/th\u003e\n    \u003c/tr\u003e\n    \u003ctr\u003e\n      \u003cth\u003eDate\u003c/th\u003e\n      \u003cth\u003e\u003c/th\u003e\n      \u003cth\u003e\u003c/th\u003e\n      \u003cth\u003e\u003c/th\u003e\n      \u003cth\u003e\u003c/th\u003e\n      \u003cth\u003e\u003c/th\u003e\n      \u003cth\u003e\u003c/th\u003e\n      \u003cth\u003e\u003c/th\u003e\n      \u003cth\u003e\u003c/th\u003e\n      \u003cth\u003e\u003c/th\u003e\n      \u003cth\u003e\u003c/th\u003e\n      \u003cth\u003e\u003c/th\u003e\n      \u003cth\u003e\u003c/th\u003e\n      \u003cth\u003e\u003c/th\u003e\n    \u003c/tr\u003e\n  \u003c/thead\u003e\n  \u003ctbody\u003e\n    \u003ctr\u003e\n      \u003cth\u003e2015-01-04\u003c/th\u003e\n      \u003ctd\u003e51\u003c/td\u003e\n      \u003ctd\u003e1.75\u003c/td\u003e\n      \u003ctd\u003e27365.89\u003c/td\u003e\n      \u003ctd\u003e9307.34\u003c/td\u003e\n      \u003ctd\u003e3844.81\u003c/td\u003e\n      \u003ctd\u003e615.28\u003c/td\u003e\n      \u003ctd\u003e13598.46\u003c/td\u003e\n      \u003ctd\u003e13061.10\u003c/td\u003e\n      \u003ctd\u003e537.36\u003c/td\u003e\n      \u003ctd\u003e0.0\u003c/td\u003e\n      \u003ctd\u003eorganic\u003c/td\u003e\n      \u003ctd\u003e2015\u003c/td\u003e\n      \u003ctd\u003eSoutheast\u003c/td\u003e\n    \u003c/tr\u003e\n    \u003ctr\u003e\n      \u003cth\u003e2015-01-04\u003c/th\u003e\n      \u003ctd\u003e51\u003c/td\u003e\n      \u003ctd\u003e1.49\u003c/td\u003e\n      \u003ctd\u003e17723.17\u003c/td\u003e\n      \u003ctd\u003e1189.35\u003c/td\u003e\n      \u003ctd\u003e15628.27\u003c/td\u003e\n      \u003ctd\u003e0.00\u003c/td\u003e\n      \u003ctd\u003e905.55\u003c/td\u003e\n      \u003ctd\u003e905.55\u003c/td\u003e\n      \u003ctd\u003e0.00\u003c/td\u003e\n      \u003ctd\u003e0.0\u003c/td\u003e\n      \u003ctd\u003eorganic\u003c/td\u003e\n      \u003ctd\u003e2015\u003c/td\u003e\n      \u003ctd\u003eChicago\u003c/td\u003e\n    \u003c/tr\u003e\n    \u003ctr\u003e\n      \u003cth\u003e2015-01-04\u003c/th\u003e\n      \u003ctd\u003e51\u003c/td\u003e\n      \u003ctd\u003e1.68\u003c/td\u003e\n      \u003ctd\u003e2896.72\u003c/td\u003e\n      \u003ctd\u003e161.68\u003c/td\u003e\n      \u003ctd\u003e206.96\u003c/td\u003e\n      \u003ctd\u003e0.00\u003c/td\u003e\n      \u003ctd\u003e2528.08\u003c/td\u003e\n      \u003ctd\u003e2528.08\u003c/td\u003e\n      \u003ctd\u003e0.00\u003c/td\u003e\n      \u003ctd\u003e0.0\u003c/td\u003e\n      \u003ctd\u003eorganic\u003c/td\u003e\n      \u003ctd\u003e2015\u003c/td\u003e\n      \u003ctd\u003eHarrisburgScranton\u003c/td\u003e\n    \u003c/tr\u003e\n  \u003c/tbody\u003e\n\u003c/table\u003e\n\u003c/div\u003e"
          },
          "metadata": {},
          "output_type": "execute_result",
          "execution_count": 4
        }
      ],
      "source": "data.head(3)",
      "metadata": {
        "pycharm": {
          "metadata": false,
          "name": "#%%\n",
          "is_executing": false
        }
      }
    },
    {
      "cell_type": "markdown",
      "source": "Door het opnieuw indelen van de index is de oude index, wat een gewoon geheel getal was, als een kollom toegevoegd,\ndeze is niet nodig en kan dus verwijderd worden",
      "metadata": {
        "pycharm": {
          "metadata": false,
          "name": "#%% md\n"
        }
      }
    },
    {
      "cell_type": "code",
      "execution_count": 5,
      "outputs": [],
      "source": "data.drop([\"Unnamed: 0\"], axis\u003d1, inplace\u003dTrue)",
      "metadata": {
        "pycharm": {
          "metadata": false,
          "name": "#%%\n",
          "is_executing": false
        }
      }
    },
    {
      "cell_type": "markdown",
      "source": "\n#### Factoren en coëfficiënten\n\nNu de dataset logisch gewijs klopt kunnen de factoren worden gedefineerd, allereerst gaan we enkele kollomen weghalen\ndie geen continu data bevatten:\n\n1. Type\n2. Jaar\n3. Region\n\nDe kollomen zeggen uiteindelijk wel iets over de prijs, maar aangezien we MLR gebruiken kunnen we deze data niet\nin het model meenemen. Voor bij het gebruik van de categorische data (Type en Region) kan Multinomale Logische Regressie\nworden gebruikt, maar aangezien dat buiten de scope van het onderzoek valt, wordt deze niet gebruikt. Year is discrete\ndata en daar zal Possion Regressie voor worden gebruikt, maar valt net als de categorische data buiten de scope.",
      "metadata": {
        "pycharm": {
          "metadata": false,
          "name": "#%% md\n",
          "is_executing": false
        }
      }
    },
    {
      "cell_type": "code",
      "execution_count": 6,
      "outputs": [],
      "source": "data_continue \u003d data.drop([\"type\", \"region\", \"year\"], axis\u003d1)",
      "metadata": {
        "pycharm": {
          "metadata": false,
          "name": "#%%\n",
          "is_executing": false
        }
      }
    },
    {
      "cell_type": "markdown",
      "source": "Ten tweede wordt vanuit deze cotinue data de factoren opgebouwd, hiervoor gaan we sci-kit learn gebruiken:",
      "metadata": {
        "pycharm": {
          "metadata": false,
          "name": "#%% md\n"
        }
      }
    },
    {
      "cell_type": "code",
      "execution_count": 9,
      "outputs": [],
      "source": "Xs \u003d data_continue.drop([\"AveragePrice\"], axis\u003d1).values\ny \u003d data_continue[\"AveragePrice\"].values\nX_train, X_test, y_train, y_test \u003d train_test_split(Xs, y, test_size\u003d0.2, random_state\u003d0)",
      "metadata": {
        "pycharm": {
          "metadata": false,
          "name": "#%%\n",
          "is_executing": false
        }
      }
    },
    {
      "cell_type": "markdown",
      "source": "Als laatst gaan we de lineaire regressie opbouwen, hiervoor gebruiken we weer sci-kit-learn.",
      "metadata": {
        "pycharm": {
          "metadata": false
        }
      }
    },
    {
      "cell_type": "code",
      "execution_count": 14,
      "outputs": [
        {
          "name": "stdout",
          "text": [
            "1.4205921802171544\n[ 0.00020275 -0.00020286 -0.00020269 -0.0002032  -0.02537155  0.02516883\n  0.0251687   0.02517015]\n"
          ],
          "output_type": "stream"
        }
      ],
      "source": "reg \u003d LinearRegression()  \nreg.fit(X_train, y_train)\nprint(reg.intercept_) \nprint(reg.coef_)",
      "metadata": {
        "pycharm": {
          "metadata": false,
          "name": "#%%\n",
          "is_executing": false
        }
      }
    },
    {
      "cell_type": "markdown",
      "source": "#### Voorspellen van prijzen\nNu de coëfficiënten zijn bepaald voor de factoren kunnen we dit model gebruiken om voorspellingen op de prijzen te maken",
      "metadata": {
        "pycharm": {
          "metadata": false,
          "name": "#%% md\n"
        }
      }
    },
    {
      "cell_type": "code",
      "execution_count": 15,
      "outputs": [
        {
          "data": {
            "text/plain": "   Werkelijke  Voorspelde\n0        1.11    1.414800\n1        1.68    1.421365\n2        2.11    1.421134\n3        2.15    1.391286\n4        1.70    1.424736\n5        1.91    1.420939\n6        0.76    1.370642\n7        1.93    1.423610\n8        1.42    1.418669\n9        1.20    1.419781",
            "text/html": "\u003cdiv\u003e\n\u003cstyle scoped\u003e\n    .dataframe tbody tr th:only-of-type {\n        vertical-align: middle;\n    }\n\n    .dataframe tbody tr th {\n        vertical-align: top;\n    }\n\n    .dataframe thead th {\n        text-align: right;\n    }\n\u003c/style\u003e\n\u003ctable border\u003d\"1\" class\u003d\"dataframe\"\u003e\n  \u003cthead\u003e\n    \u003ctr style\u003d\"text-align: right;\"\u003e\n      \u003cth\u003e\u003c/th\u003e\n      \u003cth\u003eWerkelijke\u003c/th\u003e\n      \u003cth\u003eVoorspelde\u003c/th\u003e\n    \u003c/tr\u003e\n  \u003c/thead\u003e\n  \u003ctbody\u003e\n    \u003ctr\u003e\n      \u003cth\u003e0\u003c/th\u003e\n      \u003ctd\u003e1.11\u003c/td\u003e\n      \u003ctd\u003e1.414800\u003c/td\u003e\n    \u003c/tr\u003e\n    \u003ctr\u003e\n      \u003cth\u003e1\u003c/th\u003e\n      \u003ctd\u003e1.68\u003c/td\u003e\n      \u003ctd\u003e1.421365\u003c/td\u003e\n    \u003c/tr\u003e\n    \u003ctr\u003e\n      \u003cth\u003e2\u003c/th\u003e\n      \u003ctd\u003e2.11\u003c/td\u003e\n      \u003ctd\u003e1.421134\u003c/td\u003e\n    \u003c/tr\u003e\n    \u003ctr\u003e\n      \u003cth\u003e3\u003c/th\u003e\n      \u003ctd\u003e2.15\u003c/td\u003e\n      \u003ctd\u003e1.391286\u003c/td\u003e\n    \u003c/tr\u003e\n    \u003ctr\u003e\n      \u003cth\u003e4\u003c/th\u003e\n      \u003ctd\u003e1.70\u003c/td\u003e\n      \u003ctd\u003e1.424736\u003c/td\u003e\n    \u003c/tr\u003e\n    \u003ctr\u003e\n      \u003cth\u003e5\u003c/th\u003e\n      \u003ctd\u003e1.91\u003c/td\u003e\n      \u003ctd\u003e1.420939\u003c/td\u003e\n    \u003c/tr\u003e\n    \u003ctr\u003e\n      \u003cth\u003e6\u003c/th\u003e\n      \u003ctd\u003e0.76\u003c/td\u003e\n      \u003ctd\u003e1.370642\u003c/td\u003e\n    \u003c/tr\u003e\n    \u003ctr\u003e\n      \u003cth\u003e7\u003c/th\u003e\n      \u003ctd\u003e1.93\u003c/td\u003e\n      \u003ctd\u003e1.423610\u003c/td\u003e\n    \u003c/tr\u003e\n    \u003ctr\u003e\n      \u003cth\u003e8\u003c/th\u003e\n      \u003ctd\u003e1.42\u003c/td\u003e\n      \u003ctd\u003e1.418669\u003c/td\u003e\n    \u003c/tr\u003e\n    \u003ctr\u003e\n      \u003cth\u003e9\u003c/th\u003e\n      \u003ctd\u003e1.20\u003c/td\u003e\n      \u003ctd\u003e1.419781\u003c/td\u003e\n    \u003c/tr\u003e\n  \u003c/tbody\u003e\n\u003c/table\u003e\n\u003c/div\u003e"
          },
          "metadata": {},
          "output_type": "execute_result",
          "execution_count": 15
        }
      ],
      "source": "y_voorspelling \u003d reg.predict(X_test)\nvoorspellingen_df \u003d pd.DataFrame({\u0027Werkelijke\u0027: y_test, \u0027Voorspelde\u0027: y_voorspelling})\nvoorspellingen_df.head(10)",
      "metadata": {
        "pycharm": {
          "metadata": false,
          "name": "#%%\n",
          "is_executing": false
        }
      }
    },
    {
      "cell_type": "markdown",
      "source": "### Evaluatie\n",
      "metadata": {
        "pycharm": {
          "metadata": false,
          "name": "#%% md\n"
        }
      }
    },
    {
      "cell_type": "markdown",
      "source": "## K-nearest Neighbour\nIn dit hoofdstuk gaan we een voorbeeld van K-nearest Neighbour uitwerken en evalueren. Door middel van deze analyse\ntechniek wordt geprobeerd te voorspellen wat voor type de avocado is\n\n### Wat gaan we analyseren\n\n### Uitwerking\n\n### Evaluatie\n",
      "metadata": {
        "pycharm": {
          "metadata": false
        }
      }
    },
    {
      "cell_type": "markdown",
      "source": "## Naives Bayes\nIn dit hoofdstuk gaan we een voorbeeld van Nayves Bayes uitwerken en evalueren\n\n### Wat gaan we analyseren\n\n### Uitwerking\n\n### Evaluatie",
      "metadata": {
        "pycharm": {
          "metadata": false
        }
      }
    }
  ],
  "metadata": {
    "language_info": {
      "codemirror_mode": {
        "name": "ipython",
        "version": 2
      },
      "file_extension": ".py",
      "mimetype": "text/x-python",
      "name": "python",
      "nbconvert_exporter": "python",
      "pygments_lexer": "ipython2",
      "version": "2.7.6"
    },
    "kernelspec": {
      "name": "python3",
      "language": "python",
      "display_name": "Python 3"
    },
    "stem_cell": {
      "cell_type": "raw",
      "source": "",
      "metadata": {
        "pycharm": {
          "metadata": false
        }
      }
    }
  },
  "nbformat": 4,
  "nbformat_minor": 0
}