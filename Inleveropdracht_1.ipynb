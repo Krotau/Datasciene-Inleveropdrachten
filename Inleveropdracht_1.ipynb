{
  "cells": [
    {
      "cell_type": "markdown",
      "source": "# importeren van de Dataset\nDe data dat wordt gebruikt is gedownload van Kaggle, er is gekeken naar welke data potentieel veel over te vinden is.\nHier is een dataset over de prijzen van avocados gevonden dat goed kan worden gebruikt bij het maken van deze\nopdrachten.\n\nIn de code hieronder importeren we  de pandas library en laden we de avocado dataset in op de variabelen \u0027df\u0027.\n",
      "metadata": {
        "pycharm": {
          "metadata": false
        }
      }
    },
    {
      "cell_type": "code",
      "execution_count": 7,
      "metadata": {
        "collapsed": true,
        "pycharm": {
          "is_executing": false
        }
      },
      "outputs": [],
      "source": "import pandas as pd\ndf \u003d pd.read_csv(\u0027data/avocado.csv\u0027)\ndf.head()"
    },
    {
      "cell_type": "markdown",
      "source": "## Multiple-Linear-Regression \n\n",
      "metadata": {
        "pycharm": {
          "metadata": false,
          "name": "#%% md\n"
        }
      }
    }
  ],
  "metadata": {
    "language_info": {
      "codemirror_mode": {
        "name": "ipython",
        "version": 2
      },
      "file_extension": ".py",
      "mimetype": "text/x-python",
      "name": "python",
      "nbconvert_exporter": "python",
      "pygments_lexer": "ipython2",
      "version": "2.7.6"
    },
    "kernelspec": {
      "name": "python3",
      "language": "python",
      "display_name": "Python 3"
    },
    "stem_cell": {
      "cell_type": "raw",
      "source": "",
      "metadata": {
        "pycharm": {
          "metadata": false
        }
      }
    }
  },
  "nbformat": 4,
  "nbformat_minor": 0
}