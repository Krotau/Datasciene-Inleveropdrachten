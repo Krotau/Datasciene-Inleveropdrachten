{
  "cells": [
    {
      "cell_type": "markdown",
      "metadata": {
        "pycharm": {
          "metadata": false
        }
      },
      "source": [
        "# importeren van de Dataset\n",
        "De data dat wordt gebruikt is gedownload van Kaggle, er is gekeken naar welke data potentieel veel over te vinden is.\n",
        "Hier is een dataset over de prijzen van avocados gevonden dat goed kan worden gebruikt bij het maken van deze\n",
        "opdrachten.\n",
        "\n",
        "In de code hieronder importeren we  de pandas library en laden we de avocado dataset in op de variabelen \u0027df\u0027.\n"
      ]
    },
    {
      "cell_type": "code",
      "execution_count": 1,
      "metadata": {
        "pycharm": {
          "is_executing": false
        }
      },
      "outputs": [],
      "source": [
        "from sklearn.model_selection import train_test_split\n",
        "from sklearn.linear_model import LinearRegression\n",
        "from sklearn.metrics import mean_absolute_error, mean_squared_error, r2_score\n",
        "import pandas as pd\n",
        "import numpy as np\n",
        "import matplotlib.pyplot as plt\n"
      ]
    },
    {
      "cell_type": "code",
      "execution_count": 2,
      "metadata": {
        "pycharm": {
          "is_executing": false,
          "metadata": false,
          "name": "#%%\n"
        }
      },
      "outputs": [
        {
          "data": {
            "text/html": [
              "\u003cdiv\u003e\n",
              "\u003cstyle scoped\u003e\n",
              "    .dataframe tbody tr th:only-of-type {\n",
              "        vertical-align: middle;\n",
              "    }\n",
              "\n",
              "    .dataframe tbody tr th {\n",
              "        vertical-align: top;\n",
              "    }\n",
              "\n",
              "    .dataframe thead th {\n",
              "        text-align: right;\n",
              "    }\n",
              "\u003c/style\u003e\n",
              "\u003ctable border\u003d\"1\" class\u003d\"dataframe\"\u003e\n",
              "  \u003cthead\u003e\n",
              "    \u003ctr style\u003d\"text-align: right;\"\u003e\n",
              "      \u003cth\u003e\u003c/th\u003e\n",
              "      \u003cth\u003eUnnamed: 0\u003c/th\u003e\n",
              "      \u003cth\u003eDate\u003c/th\u003e\n",
              "      \u003cth\u003eAveragePrice\u003c/th\u003e\n",
              "      \u003cth\u003eTotal Volume\u003c/th\u003e\n",
              "      \u003cth\u003e4046\u003c/th\u003e\n",
              "      \u003cth\u003e4225\u003c/th\u003e\n",
              "      \u003cth\u003e4770\u003c/th\u003e\n",
              "      \u003cth\u003eTotal Bags\u003c/th\u003e\n",
              "      \u003cth\u003eSmall Bags\u003c/th\u003e\n",
              "      \u003cth\u003eLarge Bags\u003c/th\u003e\n",
              "      \u003cth\u003eXLarge Bags\u003c/th\u003e\n",
              "      \u003cth\u003etype\u003c/th\u003e\n",
              "      \u003cth\u003eyear\u003c/th\u003e\n",
              "      \u003cth\u003eregion\u003c/th\u003e\n",
              "    \u003c/tr\u003e\n",
              "  \u003c/thead\u003e\n",
              "  \u003ctbody\u003e\n",
              "    \u003ctr\u003e\n",
              "      \u003cth\u003e0\u003c/th\u003e\n",
              "      \u003ctd\u003e0\u003c/td\u003e\n",
              "      \u003ctd\u003e2015-12-27\u003c/td\u003e\n",
              "      \u003ctd\u003e1.33\u003c/td\u003e\n",
              "      \u003ctd\u003e64236.62\u003c/td\u003e\n",
              "      \u003ctd\u003e1036.74\u003c/td\u003e\n",
              "      \u003ctd\u003e54454.85\u003c/td\u003e\n",
              "      \u003ctd\u003e48.16\u003c/td\u003e\n",
              "      \u003ctd\u003e8696.87\u003c/td\u003e\n",
              "      \u003ctd\u003e8603.62\u003c/td\u003e\n",
              "      \u003ctd\u003e93.25\u003c/td\u003e\n",
              "      \u003ctd\u003e0.0\u003c/td\u003e\n",
              "      \u003ctd\u003econventional\u003c/td\u003e\n",
              "      \u003ctd\u003e2015\u003c/td\u003e\n",
              "      \u003ctd\u003eAlbany\u003c/td\u003e\n",
              "    \u003c/tr\u003e\n",
              "    \u003ctr\u003e\n",
              "      \u003cth\u003e1\u003c/th\u003e\n",
              "      \u003ctd\u003e1\u003c/td\u003e\n",
              "      \u003ctd\u003e2015-12-20\u003c/td\u003e\n",
              "      \u003ctd\u003e1.35\u003c/td\u003e\n",
              "      \u003ctd\u003e54876.98\u003c/td\u003e\n",
              "      \u003ctd\u003e674.28\u003c/td\u003e\n",
              "      \u003ctd\u003e44638.81\u003c/td\u003e\n",
              "      \u003ctd\u003e58.33\u003c/td\u003e\n",
              "      \u003ctd\u003e9505.56\u003c/td\u003e\n",
              "      \u003ctd\u003e9408.07\u003c/td\u003e\n",
              "      \u003ctd\u003e97.49\u003c/td\u003e\n",
              "      \u003ctd\u003e0.0\u003c/td\u003e\n",
              "      \u003ctd\u003econventional\u003c/td\u003e\n",
              "      \u003ctd\u003e2015\u003c/td\u003e\n",
              "      \u003ctd\u003eAlbany\u003c/td\u003e\n",
              "    \u003c/tr\u003e\n",
              "    \u003ctr\u003e\n",
              "      \u003cth\u003e2\u003c/th\u003e\n",
              "      \u003ctd\u003e2\u003c/td\u003e\n",
              "      \u003ctd\u003e2015-12-13\u003c/td\u003e\n",
              "      \u003ctd\u003e0.93\u003c/td\u003e\n",
              "      \u003ctd\u003e118220.22\u003c/td\u003e\n",
              "      \u003ctd\u003e794.70\u003c/td\u003e\n",
              "      \u003ctd\u003e109149.67\u003c/td\u003e\n",
              "      \u003ctd\u003e130.50\u003c/td\u003e\n",
              "      \u003ctd\u003e8145.35\u003c/td\u003e\n",
              "      \u003ctd\u003e8042.21\u003c/td\u003e\n",
              "      \u003ctd\u003e103.14\u003c/td\u003e\n",
              "      \u003ctd\u003e0.0\u003c/td\u003e\n",
              "      \u003ctd\u003econventional\u003c/td\u003e\n",
              "      \u003ctd\u003e2015\u003c/td\u003e\n",
              "      \u003ctd\u003eAlbany\u003c/td\u003e\n",
              "    \u003c/tr\u003e\n",
              "    \u003ctr\u003e\n",
              "      \u003cth\u003e3\u003c/th\u003e\n",
              "      \u003ctd\u003e3\u003c/td\u003e\n",
              "      \u003ctd\u003e2015-12-06\u003c/td\u003e\n",
              "      \u003ctd\u003e1.08\u003c/td\u003e\n",
              "      \u003ctd\u003e78992.15\u003c/td\u003e\n",
              "      \u003ctd\u003e1132.00\u003c/td\u003e\n",
              "      \u003ctd\u003e71976.41\u003c/td\u003e\n",
              "      \u003ctd\u003e72.58\u003c/td\u003e\n",
              "      \u003ctd\u003e5811.16\u003c/td\u003e\n",
              "      \u003ctd\u003e5677.40\u003c/td\u003e\n",
              "      \u003ctd\u003e133.76\u003c/td\u003e\n",
              "      \u003ctd\u003e0.0\u003c/td\u003e\n",
              "      \u003ctd\u003econventional\u003c/td\u003e\n",
              "      \u003ctd\u003e2015\u003c/td\u003e\n",
              "      \u003ctd\u003eAlbany\u003c/td\u003e\n",
              "    \u003c/tr\u003e\n",
              "    \u003ctr\u003e\n",
              "      \u003cth\u003e4\u003c/th\u003e\n",
              "      \u003ctd\u003e4\u003c/td\u003e\n",
              "      \u003ctd\u003e2015-11-29\u003c/td\u003e\n",
              "      \u003ctd\u003e1.28\u003c/td\u003e\n",
              "      \u003ctd\u003e51039.60\u003c/td\u003e\n",
              "      \u003ctd\u003e941.48\u003c/td\u003e\n",
              "      \u003ctd\u003e43838.39\u003c/td\u003e\n",
              "      \u003ctd\u003e75.78\u003c/td\u003e\n",
              "      \u003ctd\u003e6183.95\u003c/td\u003e\n",
              "      \u003ctd\u003e5986.26\u003c/td\u003e\n",
              "      \u003ctd\u003e197.69\u003c/td\u003e\n",
              "      \u003ctd\u003e0.0\u003c/td\u003e\n",
              "      \u003ctd\u003econventional\u003c/td\u003e\n",
              "      \u003ctd\u003e2015\u003c/td\u003e\n",
              "      \u003ctd\u003eAlbany\u003c/td\u003e\n",
              "    \u003c/tr\u003e\n",
              "  \u003c/tbody\u003e\n",
              "\u003c/table\u003e\n",
              "\u003c/div\u003e"
            ],
            "text/plain": [
              "   Unnamed: 0        Date  AveragePrice  Total Volume     4046       4225  \\\n",
              "0           0  2015-12-27          1.33      64236.62  1036.74   54454.85   \n",
              "1           1  2015-12-20          1.35      54876.98   674.28   44638.81   \n",
              "2           2  2015-12-13          0.93     118220.22   794.70  109149.67   \n",
              "3           3  2015-12-06          1.08      78992.15  1132.00   71976.41   \n",
              "4           4  2015-11-29          1.28      51039.60   941.48   43838.39   \n",
              "\n",
              "     4770  Total Bags  Small Bags  Large Bags  XLarge Bags          type  \\\n",
              "0   48.16     8696.87     8603.62       93.25          0.0  conventional   \n",
              "1   58.33     9505.56     9408.07       97.49          0.0  conventional   \n",
              "2  130.50     8145.35     8042.21      103.14          0.0  conventional   \n",
              "3   72.58     5811.16     5677.40      133.76          0.0  conventional   \n",
              "4   75.78     6183.95     5986.26      197.69          0.0  conventional   \n",
              "\n",
              "   year  region  \n",
              "0  2015  Albany  \n",
              "1  2015  Albany  \n",
              "2  2015  Albany  \n",
              "3  2015  Albany  \n",
              "4  2015  Albany  "
            ]
          },
          "execution_count": 2,
          "metadata": {},
          "output_type": "execute_result"
        }
      ],
      "source": [
        "data \u003d pd.read_csv(\u0027data/avocado.csv\u0027)\n",
        "data.head()\n"
      ]
    },
    {
      "cell_type": "markdown",
      "metadata": {
        "pycharm": {
          "metadata": false,
          "name": "#%% md\n"
        }
      },
      "source": [
        "## Multiple-Linear-Regression \n",
        "In dit hoofdstuk gaan we een voorbeeld van Multiplaire Lineaire Regressie (MLR) uitwerken en evalueren. Met MLR gaan we\n",
        "proberen de prijzen van de avocados te voorspellen gegeven de waardes van andere kollomen.\n",
        "\n",
        "formule voor MLR: \u003cbr/\u003e\n",
        "\\begin{equation}\n",
        "\\ y_i \u003d \\beta_0 x_i{_0} + \\beta_1 x_i{_1}... + \\beta_p x_i{_p} + {m_i}\n",
        "\\end{equation}\n"
      ]
    },
    {
      "cell_type": "markdown",
      "metadata": {
        "pycharm": {
          "metadata": false,
          "name": "#%% md\n"
        }
      },
      "source": [
        "### Wat gaan we analyseren\n",
        "Met behulp van MLR gaan we de prijzen van de advocado\u0027s voorspellen, de factoren die we hier voor gaan gebruiken zijn:\n",
        "1. totale volume\n",
        "2. Total Bags\n",
        "3. Aantal per soort bag: Small, Large, XLarge\n",
        "4. PLU (Price Lookup Codes) waardes: 4046, 4225, 4770\n",
        "\n",
        "Mogelijke behulpzame factoren:\n",
        "1. Jaar\n",
        "2. Type: organisch of conventioneel\n",
        "3. Rgio\n",
        "\n",
        "### Uitwerking\n",
        "#### Schoonmkaen\n",
        "Allereerst moet er worden gecontroleerd worden hoeveel null waardes in de dataset zijn, pandas heeft hier een simpel\n",
        "maar elegant truckje voor:\n"
      ]
    },
    {
      "cell_type": "code",
      "execution_count": 3,
      "metadata": {
        "pycharm": {
          "is_executing": false,
          "metadata": false,
          "name": "#%%\n"
        }
      },
      "outputs": [
        {
          "data": {
            "text/plain": [
              "Unnamed: 0      0\n",
              "Date            0\n",
              "AveragePrice    0\n",
              "Total Volume    0\n",
              "4046            0\n",
              "4225            0\n",
              "4770            0\n",
              "Total Bags      0\n",
              "Small Bags      0\n",
              "Large Bags      0\n",
              "XLarge Bags     0\n",
              "type            0\n",
              "year            0\n",
              "region          0\n",
              "dtype: int64"
            ]
          },
          "execution_count": 3,
          "metadata": {},
          "output_type": "execute_result"
        }
      ],
      "source": [
        "data.isnull().sum()\n"
      ]
    },
    {
      "cell_type": "markdown",
      "metadata": {
        "pycharm": {
          "metadata": false,
          "name": "#%% md\n"
        }
      },
      "source": [
        "Zoals te zien is de data schoon, dit is maar een eerste indruk dus er kan nog altijd wat fouten inzitten. Een van deze\n",
        "fouten kon al in het begin worden opgemerkt toen de .head() van de dataset werdt getoond; de kollommen zijn niet\n",
        "geindexeerd en deze kollom wordt niet goed als datum object herkend.\n",
        "\n",
        "Om dit op te lossen wordt het voglende gedaan:\n"
      ]
    },
    {
      "cell_type": "code",
      "execution_count": 4,
      "metadata": {
        "pycharm": {
          "is_executing": false,
          "metadata": false,
          "name": "#%%\n"
        }
      },
      "outputs": [],
      "source": [
        "data[\"Date\"] \u003d pd.to_datetime(data[\"Date\"], yearfirst\u003dTrue)\n",
        "data.set_index(\"Date\", inplace\u003dTrue)\n",
        "data.sort_index(inplace\u003dTrue)\n"
      ]
    },
    {
      "cell_type": "code",
      "execution_count": 5,
      "metadata": {
        "pycharm": {
          "is_executing": false,
          "metadata": false,
          "name": "#%%\n"
        }
      },
      "outputs": [
        {
          "data": {
            "text/html": [
              "\u003cdiv\u003e\n",
              "\u003cstyle scoped\u003e\n",
              "    .dataframe tbody tr th:only-of-type {\n",
              "        vertical-align: middle;\n",
              "    }\n",
              "\n",
              "    .dataframe tbody tr th {\n",
              "        vertical-align: top;\n",
              "    }\n",
              "\n",
              "    .dataframe thead th {\n",
              "        text-align: right;\n",
              "    }\n",
              "\u003c/style\u003e\n",
              "\u003ctable border\u003d\"1\" class\u003d\"dataframe\"\u003e\n",
              "  \u003cthead\u003e\n",
              "    \u003ctr style\u003d\"text-align: right;\"\u003e\n",
              "      \u003cth\u003e\u003c/th\u003e\n",
              "      \u003cth\u003eUnnamed: 0\u003c/th\u003e\n",
              "      \u003cth\u003eAveragePrice\u003c/th\u003e\n",
              "      \u003cth\u003eTotal Volume\u003c/th\u003e\n",
              "      \u003cth\u003e4046\u003c/th\u003e\n",
              "      \u003cth\u003e4225\u003c/th\u003e\n",
              "      \u003cth\u003e4770\u003c/th\u003e\n",
              "      \u003cth\u003eTotal Bags\u003c/th\u003e\n",
              "      \u003cth\u003eSmall Bags\u003c/th\u003e\n",
              "      \u003cth\u003eLarge Bags\u003c/th\u003e\n",
              "      \u003cth\u003eXLarge Bags\u003c/th\u003e\n",
              "      \u003cth\u003etype\u003c/th\u003e\n",
              "      \u003cth\u003eyear\u003c/th\u003e\n",
              "      \u003cth\u003eregion\u003c/th\u003e\n",
              "    \u003c/tr\u003e\n",
              "    \u003ctr\u003e\n",
              "      \u003cth\u003eDate\u003c/th\u003e\n",
              "      \u003cth\u003e\u003c/th\u003e\n",
              "      \u003cth\u003e\u003c/th\u003e\n",
              "      \u003cth\u003e\u003c/th\u003e\n",
              "      \u003cth\u003e\u003c/th\u003e\n",
              "      \u003cth\u003e\u003c/th\u003e\n",
              "      \u003cth\u003e\u003c/th\u003e\n",
              "      \u003cth\u003e\u003c/th\u003e\n",
              "      \u003cth\u003e\u003c/th\u003e\n",
              "      \u003cth\u003e\u003c/th\u003e\n",
              "      \u003cth\u003e\u003c/th\u003e\n",
              "      \u003cth\u003e\u003c/th\u003e\n",
              "      \u003cth\u003e\u003c/th\u003e\n",
              "      \u003cth\u003e\u003c/th\u003e\n",
              "    \u003c/tr\u003e\n",
              "  \u003c/thead\u003e\n",
              "  \u003ctbody\u003e\n",
              "    \u003ctr\u003e\n",
              "      \u003cth\u003e2015-01-04\u003c/th\u003e\n",
              "      \u003ctd\u003e51\u003c/td\u003e\n",
              "      \u003ctd\u003e1.75\u003c/td\u003e\n",
              "      \u003ctd\u003e27365.89\u003c/td\u003e\n",
              "      \u003ctd\u003e9307.34\u003c/td\u003e\n",
              "      \u003ctd\u003e3844.81\u003c/td\u003e\n",
              "      \u003ctd\u003e615.28\u003c/td\u003e\n",
              "      \u003ctd\u003e13598.46\u003c/td\u003e\n",
              "      \u003ctd\u003e13061.10\u003c/td\u003e\n",
              "      \u003ctd\u003e537.36\u003c/td\u003e\n",
              "      \u003ctd\u003e0.0\u003c/td\u003e\n",
              "      \u003ctd\u003eorganic\u003c/td\u003e\n",
              "      \u003ctd\u003e2015\u003c/td\u003e\n",
              "      \u003ctd\u003eSoutheast\u003c/td\u003e\n",
              "    \u003c/tr\u003e\n",
              "    \u003ctr\u003e\n",
              "      \u003cth\u003e2015-01-04\u003c/th\u003e\n",
              "      \u003ctd\u003e51\u003c/td\u003e\n",
              "      \u003ctd\u003e1.49\u003c/td\u003e\n",
              "      \u003ctd\u003e17723.17\u003c/td\u003e\n",
              "      \u003ctd\u003e1189.35\u003c/td\u003e\n",
              "      \u003ctd\u003e15628.27\u003c/td\u003e\n",
              "      \u003ctd\u003e0.00\u003c/td\u003e\n",
              "      \u003ctd\u003e905.55\u003c/td\u003e\n",
              "      \u003ctd\u003e905.55\u003c/td\u003e\n",
              "      \u003ctd\u003e0.00\u003c/td\u003e\n",
              "      \u003ctd\u003e0.0\u003c/td\u003e\n",
              "      \u003ctd\u003eorganic\u003c/td\u003e\n",
              "      \u003ctd\u003e2015\u003c/td\u003e\n",
              "      \u003ctd\u003eChicago\u003c/td\u003e\n",
              "    \u003c/tr\u003e\n",
              "    \u003ctr\u003e\n",
              "      \u003cth\u003e2015-01-04\u003c/th\u003e\n",
              "      \u003ctd\u003e51\u003c/td\u003e\n",
              "      \u003ctd\u003e1.68\u003c/td\u003e\n",
              "      \u003ctd\u003e2896.72\u003c/td\u003e\n",
              "      \u003ctd\u003e161.68\u003c/td\u003e\n",
              "      \u003ctd\u003e206.96\u003c/td\u003e\n",
              "      \u003ctd\u003e0.00\u003c/td\u003e\n",
              "      \u003ctd\u003e2528.08\u003c/td\u003e\n",
              "      \u003ctd\u003e2528.08\u003c/td\u003e\n",
              "      \u003ctd\u003e0.00\u003c/td\u003e\n",
              "      \u003ctd\u003e0.0\u003c/td\u003e\n",
              "      \u003ctd\u003eorganic\u003c/td\u003e\n",
              "      \u003ctd\u003e2015\u003c/td\u003e\n",
              "      \u003ctd\u003eHarrisburgScranton\u003c/td\u003e\n",
              "    \u003c/tr\u003e\n",
              "  \u003c/tbody\u003e\n",
              "\u003c/table\u003e\n",
              "\u003c/div\u003e"
            ],
            "text/plain": [
              "            Unnamed: 0  AveragePrice  Total Volume     4046      4225    4770  \\\n",
              "Date                                                                            \n",
              "2015-01-04          51          1.75      27365.89  9307.34   3844.81  615.28   \n",
              "2015-01-04          51          1.49      17723.17  1189.35  15628.27    0.00   \n",
              "2015-01-04          51          1.68       2896.72   161.68    206.96    0.00   \n",
              "\n",
              "            Total Bags  Small Bags  Large Bags  XLarge Bags     type  year  \\\n",
              "Date                                                                         \n",
              "2015-01-04    13598.46    13061.10      537.36          0.0  organic  2015   \n",
              "2015-01-04      905.55      905.55        0.00          0.0  organic  2015   \n",
              "2015-01-04     2528.08     2528.08        0.00          0.0  organic  2015   \n",
              "\n",
              "                        region  \n",
              "Date                            \n",
              "2015-01-04           Southeast  \n",
              "2015-01-04             Chicago  \n",
              "2015-01-04  HarrisburgScranton  "
            ]
          },
          "execution_count": 5,
          "metadata": {},
          "output_type": "execute_result"
        }
      ],
      "source": [
        "data.head(3)\n"
      ]
    },
    {
      "cell_type": "markdown",
      "metadata": {
        "pycharm": {
          "metadata": false,
          "name": "#%% md\n"
        }
      },
      "source": [
        "Door het opnieuw indelen van de index is de oude index, wat een gewoon geheel getal was, als een kollom toegevoegd,\n",
        "deze is niet nodig en kan dus verwijderd worden\n"
      ]
    },
    {
      "cell_type": "code",
      "execution_count": 6,
      "metadata": {
        "pycharm": {
          "is_executing": false,
          "metadata": false,
          "name": "#%%\n"
        }
      },
      "outputs": [],
      "source": [
        "data.drop([\"Unnamed: 0\"], axis\u003d1, inplace\u003dTrue)\n"
      ]
    },
    {
      "cell_type": "markdown",
      "metadata": {
        "pycharm": {
          "metadata": false,
          "name": "#%% md\n"
        }
      },
      "source": [
        "De dataset kan nu worden opgeslagen om veradnering te behouden\n"
      ]
    },
    {
      "cell_type": "code",
      "execution_count": 7,
      "metadata": {
        "pycharm": {
          "is_executing": false,
          "metadata": false,
          "name": "#%%\n"
        }
      },
      "outputs": [],
      "source": [
        "data.to_csv(\u0027data/avocado_schoon.csv\u0027, index\u003d\u0027Date\u0027)\n"
      ]
    },
    {
      "cell_type": "markdown",
      "metadata": {
        "pycharm": {
          "is_executing": false,
          "metadata": false,
          "name": "#%% md\n"
        }
      },
      "source": [
        "\n",
        "#### Factoren en coëfficiënten\n",
        "\n",
        "Nu de dataset logisch gewijs klopt kunnen de factoren worden gedefinieerd, allereerst gaan we enkele kollomen weghalen\n",
        "die geen continu data bevatten:\n",
        "\n",
        "1. Type\n",
        "2. Jaar\n",
        "3. Region\n",
        "\n",
        "De kolommen zeggen uiteindelijk wel iets over de prijs, maar aangezien we MLR gebruiken kunnen we deze data niet\n",
        "in het model meenemen. Voor bij het gebruik van de categorische data (Type en Region) kan Multinomiale Logische Regressie\n",
        "worden gebruikt, maar aangezien dat buiten de scope van het onderzoek valt, wordt deze niet gebruikt. Year is discrete\n",
        "data en daar zal Poisson  Regressie voor worden gebruikt, maar valt net als de categorische data buiten de scope.\n",
        "\n",
        "#### Waarom geen dummy variabelen\n",
        "Voor het bouwen van de correlatielijn dat uit meerdere coëfficiënten bestaat, is het bijvoegen van categorische data\n",
        "omgezet in dummy variabelen negatieve impact, omdat het bij MLR over continue data gaat.\n"
      ]
    },
    {
      "cell_type": "code",
      "execution_count": 8,
      "metadata": {
        "pycharm": {
          "is_executing": false,
          "metadata": false,
          "name": "#%%\n"
        }
      },
      "outputs": [
        {
          "data": {
            "text/html": [
              "\u003cdiv\u003e\n",
              "\u003cstyle scoped\u003e\n",
              "    .dataframe tbody tr th:only-of-type {\n",
              "        vertical-align: middle;\n",
              "    }\n",
              "\n",
              "    .dataframe tbody tr th {\n",
              "        vertical-align: top;\n",
              "    }\n",
              "\n",
              "    .dataframe thead th {\n",
              "        text-align: right;\n",
              "    }\n",
              "\u003c/style\u003e\n",
              "\u003ctable border\u003d\"1\" class\u003d\"dataframe\"\u003e\n",
              "  \u003cthead\u003e\n",
              "    \u003ctr style\u003d\"text-align: right;\"\u003e\n",
              "      \u003cth\u003e\u003c/th\u003e\n",
              "      \u003cth\u003eAveragePrice\u003c/th\u003e\n",
              "      \u003cth\u003eTotal Volume\u003c/th\u003e\n",
              "      \u003cth\u003e4046\u003c/th\u003e\n",
              "      \u003cth\u003e4225\u003c/th\u003e\n",
              "      \u003cth\u003e4770\u003c/th\u003e\n",
              "      \u003cth\u003eTotal Bags\u003c/th\u003e\n",
              "      \u003cth\u003eSmall Bags\u003c/th\u003e\n",
              "      \u003cth\u003eLarge Bags\u003c/th\u003e\n",
              "      \u003cth\u003eXLarge Bags\u003c/th\u003e\n",
              "    \u003c/tr\u003e\n",
              "    \u003ctr\u003e\n",
              "      \u003cth\u003eDate\u003c/th\u003e\n",
              "      \u003cth\u003e\u003c/th\u003e\n",
              "      \u003cth\u003e\u003c/th\u003e\n",
              "      \u003cth\u003e\u003c/th\u003e\n",
              "      \u003cth\u003e\u003c/th\u003e\n",
              "      \u003cth\u003e\u003c/th\u003e\n",
              "      \u003cth\u003e\u003c/th\u003e\n",
              "      \u003cth\u003e\u003c/th\u003e\n",
              "      \u003cth\u003e\u003c/th\u003e\n",
              "      \u003cth\u003e\u003c/th\u003e\n",
              "    \u003c/tr\u003e\n",
              "  \u003c/thead\u003e\n",
              "  \u003ctbody\u003e\n",
              "    \u003ctr\u003e\n",
              "      \u003cth\u003e2015-01-04\u003c/th\u003e\n",
              "      \u003ctd\u003e1.75\u003c/td\u003e\n",
              "      \u003ctd\u003e27365.89\u003c/td\u003e\n",
              "      \u003ctd\u003e9307.34\u003c/td\u003e\n",
              "      \u003ctd\u003e3844.81\u003c/td\u003e\n",
              "      \u003ctd\u003e615.28\u003c/td\u003e\n",
              "      \u003ctd\u003e13598.46\u003c/td\u003e\n",
              "      \u003ctd\u003e13061.10\u003c/td\u003e\n",
              "      \u003ctd\u003e537.36\u003c/td\u003e\n",
              "      \u003ctd\u003e0.0\u003c/td\u003e\n",
              "    \u003c/tr\u003e\n",
              "    \u003ctr\u003e\n",
              "      \u003cth\u003e2015-01-04\u003c/th\u003e\n",
              "      \u003ctd\u003e1.49\u003c/td\u003e\n",
              "      \u003ctd\u003e17723.17\u003c/td\u003e\n",
              "      \u003ctd\u003e1189.35\u003c/td\u003e\n",
              "      \u003ctd\u003e15628.27\u003c/td\u003e\n",
              "      \u003ctd\u003e0.00\u003c/td\u003e\n",
              "      \u003ctd\u003e905.55\u003c/td\u003e\n",
              "      \u003ctd\u003e905.55\u003c/td\u003e\n",
              "      \u003ctd\u003e0.00\u003c/td\u003e\n",
              "      \u003ctd\u003e0.0\u003c/td\u003e\n",
              "    \u003c/tr\u003e\n",
              "    \u003ctr\u003e\n",
              "      \u003cth\u003e2015-01-04\u003c/th\u003e\n",
              "      \u003ctd\u003e1.68\u003c/td\u003e\n",
              "      \u003ctd\u003e2896.72\u003c/td\u003e\n",
              "      \u003ctd\u003e161.68\u003c/td\u003e\n",
              "      \u003ctd\u003e206.96\u003c/td\u003e\n",
              "      \u003ctd\u003e0.00\u003c/td\u003e\n",
              "      \u003ctd\u003e2528.08\u003c/td\u003e\n",
              "      \u003ctd\u003e2528.08\u003c/td\u003e\n",
              "      \u003ctd\u003e0.00\u003c/td\u003e\n",
              "      \u003ctd\u003e0.0\u003c/td\u003e\n",
              "    \u003c/tr\u003e\n",
              "    \u003ctr\u003e\n",
              "      \u003cth\u003e2015-01-04\u003c/th\u003e\n",
              "      \u003ctd\u003e1.52\u003c/td\u003e\n",
              "      \u003ctd\u003e54956.80\u003c/td\u003e\n",
              "      \u003ctd\u003e3013.04\u003c/td\u003e\n",
              "      \u003ctd\u003e35456.88\u003c/td\u003e\n",
              "      \u003ctd\u003e1561.70\u003c/td\u003e\n",
              "      \u003ctd\u003e14925.18\u003c/td\u003e\n",
              "      \u003ctd\u003e11264.80\u003c/td\u003e\n",
              "      \u003ctd\u003e3660.38\u003c/td\u003e\n",
              "      \u003ctd\u003e0.0\u003c/td\u003e\n",
              "    \u003c/tr\u003e\n",
              "    \u003ctr\u003e\n",
              "      \u003cth\u003e2015-01-04\u003c/th\u003e\n",
              "      \u003ctd\u003e1.64\u003c/td\u003e\n",
              "      \u003ctd\u003e1505.12\u003c/td\u003e\n",
              "      \u003ctd\u003e1.27\u003c/td\u003e\n",
              "      \u003ctd\u003e1129.50\u003c/td\u003e\n",
              "      \u003ctd\u003e0.00\u003c/td\u003e\n",
              "      \u003ctd\u003e374.35\u003c/td\u003e\n",
              "      \u003ctd\u003e186.67\u003c/td\u003e\n",
              "      \u003ctd\u003e187.68\u003c/td\u003e\n",
              "      \u003ctd\u003e0.0\u003c/td\u003e\n",
              "    \u003c/tr\u003e\n",
              "  \u003c/tbody\u003e\n",
              "\u003c/table\u003e\n",
              "\u003c/div\u003e"
            ],
            "text/plain": [
              "            AveragePrice  Total Volume     4046      4225     4770  \\\n",
              "Date                                                                 \n",
              "2015-01-04          1.75      27365.89  9307.34   3844.81   615.28   \n",
              "2015-01-04          1.49      17723.17  1189.35  15628.27     0.00   \n",
              "2015-01-04          1.68       2896.72   161.68    206.96     0.00   \n",
              "2015-01-04          1.52      54956.80  3013.04  35456.88  1561.70   \n",
              "2015-01-04          1.64       1505.12     1.27   1129.50     0.00   \n",
              "\n",
              "            Total Bags  Small Bags  Large Bags  XLarge Bags  \n",
              "Date                                                         \n",
              "2015-01-04    13598.46    13061.10      537.36          0.0  \n",
              "2015-01-04      905.55      905.55        0.00          0.0  \n",
              "2015-01-04     2528.08     2528.08        0.00          0.0  \n",
              "2015-01-04    14925.18    11264.80     3660.38          0.0  \n",
              "2015-01-04      374.35      186.67      187.68          0.0  "
            ]
          },
          "execution_count": 8,
          "metadata": {},
          "output_type": "execute_result"
        }
      ],
      "source": [
        "data_continue \u003d data.drop([\"type\", \"region\", \"year\"], axis\u003d1).dropna()\n",
        "data_continue.head()\n"
      ]
    },
    {
      "cell_type": "markdown",
      "metadata": {
        "pycharm": {
          "metadata": false,
          "name": "#%% md\n"
        }
      },
      "source": [
        "Ten tweede wordt vanuit deze cotinue data de factoren opgebouwd, hiervoor gaan we sci-kit learn gebruiken:\n"
      ]
    },
    {
      "cell_type": "code",
      "execution_count": 9,
      "metadata": {
        "pycharm": {
          "is_executing": false,
          "metadata": false,
          "name": "#%%\n"
        }
      },
      "outputs": [],
      "source": [
        "Xs \u003d data_continue.drop([\"AveragePrice\"], axis\u003d1).values\n",
        "y \u003d data_continue[\"AveragePrice\"].values\n",
        "X_train, X_test, y_train, y_test \u003d train_test_split(Xs, y, test_size\u003d0.2, random_state\u003d0)\n"
      ]
    },
    {
      "cell_type": "markdown",
      "metadata": {
        "pycharm": {
          "metadata": false
        }
      },
      "source": [
        "Als laatst gaan we de lineaire regressie opbouwen, hiervoor gebruiken we weer sci-kit-learn.\n"
      ]
    },
    {
      "cell_type": "code",
      "execution_count": 10,
      "metadata": {
        "pycharm": {
          "is_executing": false,
          "metadata": false,
          "name": "#%%\n"
        }
      },
      "outputs": [
        {
          "name": "stdout",
          "output_type": "stream",
          "text": [
            "1.4205921802106742\n",
            "[ 0.00020275 -0.00020286 -0.00020269 -0.0002032  -0.02537155  0.02516883\n",
            "  0.0251687   0.02517015]\n"
          ]
        }
      ],
      "source": [
        "reg \u003d LinearRegression(normalize\u003dTrue)\n",
        "reg.fit(X_train, y_train)\n",
        "print(reg.intercept_) \n",
        "print(reg.coef_)\n"
      ]
    },
    {
      "cell_type": "markdown",
      "metadata": {
        "pycharm": {
          "metadata": false,
          "name": "#%% md\n"
        }
      },
      "source": [
        "#### Voorspellen van prijzen\n",
        "Nu de coëfficiënten zijn bepaald voor de factoren kunnen we dit model gebruiken om voorspellingen op de prijzen te maken"
      ]
    },
    {
      "cell_type": "code",
      "execution_count": 11,
      "metadata": {
        "pycharm": {
          "is_executing": false,
          "metadata": false,
          "name": "#%%\n"
        }
      },
      "outputs": [
        {
          "data": {
            "text/html": [
              "\u003cdiv\u003e\n",
              "\u003cstyle scoped\u003e\n",
              "    .dataframe tbody tr th:only-of-type {\n",
              "        vertical-align: middle;\n",
              "    }\n",
              "\n",
              "    .dataframe tbody tr th {\n",
              "        vertical-align: top;\n",
              "    }\n",
              "\n",
              "    .dataframe thead th {\n",
              "        text-align: right;\n",
              "    }\n",
              "\u003c/style\u003e\n",
              "\u003ctable border\u003d\"1\" class\u003d\"dataframe\"\u003e\n",
              "  \u003cthead\u003e\n",
              "    \u003ctr style\u003d\"text-align: right;\"\u003e\n",
              "      \u003cth\u003e\u003c/th\u003e\n",
              "      \u003cth\u003eWerkelijk\u003c/th\u003e\n",
              "      \u003cth\u003eVoorspelt\u003c/th\u003e\n",
              "    \u003c/tr\u003e\n",
              "  \u003c/thead\u003e\n",
              "  \u003ctbody\u003e\n",
              "    \u003ctr\u003e\n",
              "      \u003cth\u003e0\u003c/th\u003e\n",
              "      \u003ctd\u003e1.11\u003c/td\u003e\n",
              "      \u003ctd\u003e1.414800\u003c/td\u003e\n",
              "    \u003c/tr\u003e\n",
              "    \u003ctr\u003e\n",
              "      \u003cth\u003e1\u003c/th\u003e\n",
              "      \u003ctd\u003e1.68\u003c/td\u003e\n",
              "      \u003ctd\u003e1.421365\u003c/td\u003e\n",
              "    \u003c/tr\u003e\n",
              "    \u003ctr\u003e\n",
              "      \u003cth\u003e2\u003c/th\u003e\n",
              "      \u003ctd\u003e2.11\u003c/td\u003e\n",
              "      \u003ctd\u003e1.421134\u003c/td\u003e\n",
              "    \u003c/tr\u003e\n",
              "    \u003ctr\u003e\n",
              "      \u003cth\u003e3\u003c/th\u003e\n",
              "      \u003ctd\u003e2.15\u003c/td\u003e\n",
              "      \u003ctd\u003e1.391286\u003c/td\u003e\n",
              "    \u003c/tr\u003e\n",
              "    \u003ctr\u003e\n",
              "      \u003cth\u003e4\u003c/th\u003e\n",
              "      \u003ctd\u003e1.70\u003c/td\u003e\n",
              "      \u003ctd\u003e1.424736\u003c/td\u003e\n",
              "    \u003c/tr\u003e\n",
              "    \u003ctr\u003e\n",
              "      \u003cth\u003e5\u003c/th\u003e\n",
              "      \u003ctd\u003e1.91\u003c/td\u003e\n",
              "      \u003ctd\u003e1.420939\u003c/td\u003e\n",
              "    \u003c/tr\u003e\n",
              "    \u003ctr\u003e\n",
              "      \u003cth\u003e6\u003c/th\u003e\n",
              "      \u003ctd\u003e0.76\u003c/td\u003e\n",
              "      \u003ctd\u003e1.370642\u003c/td\u003e\n",
              "    \u003c/tr\u003e\n",
              "    \u003ctr\u003e\n",
              "      \u003cth\u003e7\u003c/th\u003e\n",
              "      \u003ctd\u003e1.93\u003c/td\u003e\n",
              "      \u003ctd\u003e1.423610\u003c/td\u003e\n",
              "    \u003c/tr\u003e\n",
              "    \u003ctr\u003e\n",
              "      \u003cth\u003e8\u003c/th\u003e\n",
              "      \u003ctd\u003e1.42\u003c/td\u003e\n",
              "      \u003ctd\u003e1.418669\u003c/td\u003e\n",
              "    \u003c/tr\u003e\n",
              "    \u003ctr\u003e\n",
              "      \u003cth\u003e9\u003c/th\u003e\n",
              "      \u003ctd\u003e1.20\u003c/td\u003e\n",
              "      \u003ctd\u003e1.419781\u003c/td\u003e\n",
              "    \u003c/tr\u003e\n",
              "    \u003ctr\u003e\n",
              "      \u003cth\u003e10\u003c/th\u003e\n",
              "      \u003ctd\u003e1.13\u003c/td\u003e\n",
              "      \u003ctd\u003e1.266377\u003c/td\u003e\n",
              "    \u003c/tr\u003e\n",
              "    \u003ctr\u003e\n",
              "      \u003cth\u003e11\u003c/th\u003e\n",
              "      \u003ctd\u003e1.08\u003c/td\u003e\n",
              "      \u003ctd\u003e1.410570\u003c/td\u003e\n",
              "    \u003c/tr\u003e\n",
              "    \u003ctr\u003e\n",
              "      \u003cth\u003e12\u003c/th\u003e\n",
              "      \u003ctd\u003e1.22\u003c/td\u003e\n",
              "      \u003ctd\u003e1.425765\u003c/td\u003e\n",
              "    \u003c/tr\u003e\n",
              "    \u003ctr\u003e\n",
              "      \u003cth\u003e13\u003c/th\u003e\n",
              "      \u003ctd\u003e1.53\u003c/td\u003e\n",
              "      \u003ctd\u003e1.414732\u003c/td\u003e\n",
              "    \u003c/tr\u003e\n",
              "    \u003ctr\u003e\n",
              "      \u003cth\u003e14\u003c/th\u003e\n",
              "      \u003ctd\u003e1.05\u003c/td\u003e\n",
              "      \u003ctd\u003e1.407383\u003c/td\u003e\n",
              "    \u003c/tr\u003e\n",
              "    \u003ctr\u003e\n",
              "      \u003cth\u003e15\u003c/th\u003e\n",
              "      \u003ctd\u003e1.52\u003c/td\u003e\n",
              "      \u003ctd\u003e1.418903\u003c/td\u003e\n",
              "    \u003c/tr\u003e\n",
              "    \u003ctr\u003e\n",
              "      \u003cth\u003e16\u003c/th\u003e\n",
              "      \u003ctd\u003e2.06\u003c/td\u003e\n",
              "      \u003ctd\u003e1.420277\u003c/td\u003e\n",
              "    \u003c/tr\u003e\n",
              "    \u003ctr\u003e\n",
              "      \u003cth\u003e17\u003c/th\u003e\n",
              "      \u003ctd\u003e1.31\u003c/td\u003e\n",
              "      \u003ctd\u003e1.418894\u003c/td\u003e\n",
              "    \u003c/tr\u003e\n",
              "    \u003ctr\u003e\n",
              "      \u003cth\u003e18\u003c/th\u003e\n",
              "      \u003ctd\u003e1.76\u003c/td\u003e\n",
              "      \u003ctd\u003e1.420522\u003c/td\u003e\n",
              "    \u003c/tr\u003e\n",
              "    \u003ctr\u003e\n",
              "      \u003cth\u003e19\u003c/th\u003e\n",
              "      \u003ctd\u003e1.60\u003c/td\u003e\n",
              "      \u003ctd\u003e1.420954\u003c/td\u003e\n",
              "    \u003c/tr\u003e\n",
              "  \u003c/tbody\u003e\n",
              "\u003c/table\u003e\n",
              "\u003c/div\u003e"
            ],
            "text/plain": [
              "    Werkelijk  Voorspelt\n",
              "0        1.11   1.414800\n",
              "1        1.68   1.421365\n",
              "2        2.11   1.421134\n",
              "3        2.15   1.391286\n",
              "4        1.70   1.424736\n",
              "5        1.91   1.420939\n",
              "6        0.76   1.370642\n",
              "7        1.93   1.423610\n",
              "8        1.42   1.418669\n",
              "9        1.20   1.419781\n",
              "10       1.13   1.266377\n",
              "11       1.08   1.410570\n",
              "12       1.22   1.425765\n",
              "13       1.53   1.414732\n",
              "14       1.05   1.407383\n",
              "15       1.52   1.418903\n",
              "16       2.06   1.420277\n",
              "17       1.31   1.418894\n",
              "18       1.76   1.420522\n",
              "19       1.60   1.420954"
            ]
          },
          "execution_count": 11,
          "metadata": {},
          "output_type": "execute_result"
        }
      ],
      "source": [
        "y_voorspelling \u003d reg.predict(X_test)\n",
        "voorspellingen_df \u003d pd.DataFrame({\u0027Werkelijk\u0027: y_test, \u0027Voorspelt\u0027: y_voorspelling})\n",
        "voorspellingen_df.head(20)\n"
      ]
    },
    {
      "cell_type": "markdown",
      "metadata": {
        "pycharm": {
          "metadata": false,
          "name": "#%% md\n"
        }
      },
      "source": [
        "### Evaluatie\n",
        "om te evalueren hoe goed de voorspellingen bestaan enkele rekenmethodes om de error te berekenen, iedere rekenmethode is\n",
        "een manier om de error uit te rekenen en geven ieder een ander soort waarde aan. Maar de waardes moeten eerst tegen iets\n",
        "worden opgewogen; het algemene gemiddelde van de dataset.\n"
      ]
    },
    {
      "cell_type": "code",
      "execution_count": 12,
      "metadata": {
        "pycharm": {
          "is_executing": false,
          "metadata": false,
          "name": "#%%\n"
        }
      },
      "outputs": [
        {
          "name": "stdout",
          "output_type": "stream",
          "text": [
            "[1.41353151 1.41353151 1.41353151 ... 1.41353151 1.41353151 1.41353151]\n"
          ]
        }
      ],
      "source": [
        "y_gemiddeld \u003d np.empty(y_test.shape, y_test.dtype)\n",
        "y_gemiddeld.fill(np.mean(y_test))\n",
        "print(y_gemiddeld)\n"
      ]
    },
    {
      "cell_type": "markdown",
      "metadata": {
        "pycharm": {
          "metadata": false,
          "name": "#%% md\n"
        }
      },
      "source": [
        "Ter controle wordt de correlatie lijn van het MLR model geplot tegenover het gemiddelde van de avocado\u0027s prijzen, de\n",
        "functies hieronder zorgen voor x en y waardes om de lijn te plotten.\n"
      ]
    },
    {
      "cell_type": "code",
      "execution_count": 13,
      "metadata": {
        "pycharm": {
          "is_executing": false,
          "metadata": false,
          "name": "#%%\n"
        }
      },
      "outputs": [],
      "source": [
        "def bereken_punt_y(x):\n",
        "    y \u003d 0\n",
        "    for coef in reg.coef_:\n",
        "        y +\u003d coef * x\n",
        "    y +\u003d reg.intercept_\n",
        "    return y\n",
        "\n",
        "x \u003d np.empty(y_test.shape, y_test.dtype)\n",
        "plot_mlr \u003d np.empty(y_test.shape, y_test.dtype)\n",
        "for i in range(len(plot_mlr)):\n",
        "    i \u003d i-100\n",
        "    plot_mlr[i] \u003d bereken_punt_y(i)\n",
        "    x[i] \u003d i\n",
        "    "
      ]
    },
    {
      "cell_type": "markdown",
      "metadata": {
        "pycharm": {
          "metadata": false,
          "name": "#%% md\n"
        }
      },
      "source": [
        "Hieronder is de plot te zien, zoals te zien is de lijn van MLR vrij dicht in de buurt van het gemiddelde, bij grote\n",
        "waardes van de coëfficiënten zullen er pas verschillen komen.\n"
      ]
    },
    {
      "cell_type": "code",
      "execution_count": 14,
      "metadata": {
        "pycharm": {
          "is_executing": false,
          "metadata": false,
          "name": "#%%\n"
        }
      },
      "outputs": [
        {
          "data": {
            "image/png": "[encoded data removed]",
            "text/plain": [
              "\u003cFigure size 960x720 with 1 Axes\u003e"
            ]
          },
          "metadata": {},
          "output_type": "display_data"
        }
      ],
      "source": [
        "plt.figure(num\u003dNone, figsize\u003d(8, 6), dpi\u003d120, facecolor\u003d\u0027w\u0027, edgecolor\u003d\u0027k\u0027)\n",
        "plt.ylim(-30, 30)\n",
        "plt.xlim(-100, 100)\n",
        "plt.plot(x, plot_mlr, linewidth\u003d1.4, c\u003d\u0027red\u0027)\n",
        "plt.plot(x, y_gemiddeld, linewidth\u003d1.4, c\u003d\u0027orange\u0027)\n",
        "plt.text(88.7,7.3, \u0027MLR\u0027, rotation\u003d0)\n",
        "plt.text(72,2.3, \u0027Gemiddelde\u0027, rotation\u003d0)\n",
        "plt.axhline(c\u003d\u0027black\u0027, linewidth\u003d0.8)\n",
        "plt.axvline(c\u003d\u0027black\u0027, linewidth\u003d0.8)\n",
        "plt.grid()\n",
        "plt.show()\n"
      ]
    },
    {
      "cell_type": "markdown",
      "metadata": {
        "pycharm": {
          "metadata": false,
          "name": "#%% md\n"
        }
      },
      "source": [
        "#### R kwadraat\n",
        "Berekenen van de r2 score voor y_pred en het gemiddelde (0 hopelijk)"
      ]
    },
    {
      "cell_type": "code",
      "execution_count": 15,
      "metadata": {
        "pycharm": {
          "is_executing": false,
          "metadata": false,
          "name": "#%%\n"
        }
      },
      "outputs": [
        {
          "name": "stdout",
          "output_type": "stream",
          "text": [
            "r^2 score van y_voorspelling: 0.059251413602988134\n",
            "r^2 score van y_gemiddled: 0.0\n"
          ]
        }
      ],
      "source": [
        "print(\u0027r^2 score van y_voorspelling:\u0027, r2_score(y_test, y_voorspelling))\n",
        "print(\u0027r^2 score van y_gemiddled:\u0027, r2_score(y_test, y_gemiddeld))\n"
      ]
    },
    {
      "cell_type": "markdown",
      "metadata": {
        "pycharm": {
          "metadata": false,
          "name": "#%% md\n"
        }
      },
      "source": [
        "#### Mean Absolute Error (MAE)\n",
        "De MAE geeft aan hoeveel de absolute afwijking per voorspelling is, zo te zien is het MLR model gemiddeld 31 cent\n",
        "afwijkend van de daadwerkelijke prijs. Vergeleken met de 32 cent van het gemiddelde, een kleine verbeterin, maar\n",
        "nogsteeds slecht\n",
        "\n",
        "Vergeleken met voorspelling:"
      ]
    },
    {
      "cell_type": "code",
      "execution_count": 16,
      "metadata": {
        "pycharm": {
          "is_executing": true,
          "metadata": false,
          "name": "#%%\n"
        }
      },
      "outputs": [
        {
          "name": "stdout",
          "output_type": "stream",
          "text": [
            "Mean Absolute Error: 0.3135968009826497\n"
          ]
        }
      ],
      "source": [
        "print(\u0027Mean Absolute Error:\u0027, mean_absolute_error(y_test, y_voorspelling))\n"
      ]
    },
    {
      "cell_type": "markdown",
      "metadata": {
        "pycharm": {
          "metadata": false,
          "name": "#%% md\n"
        }
      },
      "source": [
        "Vergeleken met het gemiddelde van y_test\n"
      ]
    },
    {
      "cell_type": "code",
      "execution_count": 17,
      "metadata": {
        "pycharm": {
          "is_executing": false,
          "metadata": false,
          "name": "#%%\n"
        }
      },
      "outputs": [
        {
          "name": "stdout",
          "output_type": "stream",
          "text": [
            "Mean Absolute Error: 0.32494888647025705\n"
          ]
        }
      ],
      "source": [
        "print(\u0027Mean Absolute Error:\u0027, mean_absolute_error(y_test, y_gemiddeld)) \n"
      ]
    },
    {
      "cell_type": "markdown",
      "metadata": {
        "pycharm": {
          "metadata": false,
          "name": "#%% md\n"
        }
      },
      "source": [
        "#### Mean Squared Error (MSE) \n",
        "Met MSE geef je de kwadratische error aan, hiermee kan je testen of er veel outliers in data zitten, zoals te zien is\n",
        "dat de error relatief in de buurt is vergeleken met de MAE zijn er niet veel outliers in de dataset.\n"
      ]
    },
    {
      "cell_type": "code",
      "execution_count": 18,
      "metadata": {
        "pycharm": {
          "is_executing": false,
          "metadata": false,
          "name": "#%%\n"
        }
      },
      "outputs": [
        {
          "name": "stdout",
          "output_type": "stream",
          "text": [
            "Mean Squared Error: 0.15359315535007795\n"
          ]
        }
      ],
      "source": [
        "print(\u0027Mean Squared Error:\u0027, mean_squared_error(y_test, y_voorspelling))"
      ]
    },
    {
      "cell_type": "markdown",
      "metadata": {
        "pycharm": {
          "metadata": false
        }
      },
      "source": [
        "\n",
        "Vergeleken met het gemiddelde van y_test"
      ]
    },
    {
      "cell_type": "code",
      "execution_count": 19,
      "metadata": {
        "pycharm": {
          "is_executing": false,
          "metadata": false,
          "name": "#%%\n"
        }
      },
      "outputs": [
        {
          "name": "stdout",
          "output_type": "stream",
          "text": [
            "Mean Absolute Error: 0.1632669531169075\n"
          ]
        }
      ],
      "source": [
        "print(\u0027Mean Absolute Error:\u0027, mean_squared_error(y_test, y_gemiddeld)) \n"
      ]
    },
    {
      "cell_type": "markdown",
      "metadata": {
        "pycharm": {
          "metadata": false,
          "name": "#%% md\n"
        }
      },
      "source": [
        "#### Root Mean Squared Error (RMSE)\n",
        "Gezien de MSE een klein getal ( \u003e1 ) is de RMSE geen goede meetmethode voor de uitkomsten bij deze dataset.\n"
      ]
    },
    {
      "cell_type": "code",
      "execution_count": 20,
      "metadata": {
        "pycharm": {
          "is_executing": false,
          "metadata": false,
          "name": "#%%\n"
        }
      },
      "outputs": [
        {
          "name": "stdout",
          "output_type": "stream",
          "text": [
            "Root Mean Squared Error: 0.39190962650855865\n"
          ]
        }
      ],
      "source": [
        "print(\u0027Root Mean Squared Error:\u0027, np.sqrt(mean_squared_error(y_test, y_voorspelling)))\n"
      ]
    },
    {
      "cell_type": "markdown",
      "metadata": {
        "pycharm": {
          "metadata": false
        }
      },
      "source": [
        "Vergeleken met het gemiddelde van y_test\n"
      ]
    },
    {
      "cell_type": "code",
      "execution_count": 21,
      "metadata": {
        "pycharm": {
          "is_executing": false,
          "metadata": false,
          "name": "#%%\n"
        }
      },
      "outputs": [
        {
          "name": "stdout",
          "output_type": "stream",
          "text": [
            "Mean Absolute Error: 0.40406305586740726\n"
          ]
        }
      ],
      "source": [
        "print(\u0027Mean Absolute Error:\u0027, np.sqrt(mean_squared_error(y_test, y_gemiddeld)))\n"
      ]
    },
    {
      "cell_type": "markdown",
      "metadata": {
        "pycharm": {
          "metadata": false,
          "name": "#%% md\n"
        }
      },
      "source": [
        "### Conclusie\n",
        "MLR werkt maar de eigenschappen van de dataset hebben weinig correlatie met elkaar, waardoor bij het voorspellen van de\n",
        "gemiddelde prijs het iets beter gaat dan het gemiddelde gebruiken, maar het zo klein het verschil is dat het bijna\n",
        "nutteloos is. Dit MLR model is een bewijs dat de data van de avocado\u0027s geen correlatie met de prijs heeft.\n"
      ]
    },
    {
      "cell_type": "markdown",
      "metadata": {
        "pycharm": {
          "metadata": false
        }
      },
      "source": [
        "## K-Nearest Neighbour\n",
        "In dit hoofdstuk gaan we een voorbeeld van K-nearest Neighbour (KNN) uitwerken en evalueren. Door middel van deze\n",
        "analyse techniek wordt geprobeerd te voorspellen wat voor type de avocado is.\n",
        "\n",
        "Formule voor KNN:\n",
        "\\begin{equation}\n",
        "\\\\ y_i \u003d \n",
        "\\end{equation}\n",
        "\n",
        "### Wat gaan we analyseren\n",
        "Met behulp van K-Nearest Neighbour gaan we proberen te voorspellen wat voor type de advocado\u0027s gegeven de factoren.\n",
        "\n",
        "Sci-Kit Learn biedt de mogelijkheid om een plot te maken voor KNN met een uniforme verdeling en een verdeling op\n",
        "afstand. Deze plots worden in het kopje Uitwerking toegelicht en weergegeven.\n",
        "\n",
        "### Uitwerking\n",
        "Voor dat we beginnen gaan we een aantal libraries van sklearn importeren"
      ]
    },
    {
      "cell_type": "code",
      "execution_count": 22,
      "metadata": {
        "pycharm": {}
      },
      "outputs": [
        {
          "name": "stdout",
          "output_type": "stream",
          "text": [
            "[0 0 0 0 0 0 0 0 0 0 0 0 0 0 0 0 0 0 0 0 0 0 0 0 0 0 0 0 0 0 0 0 0 0 0 0 0\n",
            " 0 0 0 0 0 0 0 0 0 0 0 0 0 1 1 1 1 1 1 1 1 1 1 1 1 1 1 1 1 1 1 1 1 1 1 1 1\n",
            " 1 1 1 1 1 1 1 1 1 1 1 1 1 1 1 1 1 1 1 1 1 1 1 1 1 1 2 2 2 2 2 2 2 2 2 2 2\n",
            " 2 2 2 2 2 2 2 2 2 2 2 2 2 2 2 2 2 2 2 2 2 2 2 2 2 2 2 2 2 2 2 2 2 2 2 2 2\n",
            " 2 2]\n"
          ]
        }
      ],
      "source": [
        "import numpy as np\n",
        "from sklearn import neighbors, datasets\n",
        "\n",
        "n_neighbors \u003d 15\n",
        "\n",
        "# import some data to play with\n",
        "iris \u003d datasets.load_iris()\n",
        "y \u003d iris.target\n",
        "print(y)"
      ]
    },
    {
      "cell_type": "code",
      "execution_count": 23,
      "metadata": {
        "pycharm": {
          "is_executing": false,
          "metadata": false,
          "name": "#%%\n"
        }
      },
      "outputs": [],
      "source": [
        "import pandas as pd\n",
        "import numpy as np\n",
        "import matplotlib.pyplot as plt\n",
        "from sklearn.neighbors import KNeighborsClassifier\n",
        "from sklearn import datasets\n",
        "from matplotlib.colors import ListedColormap\n"
      ]
    },
    {
      "cell_type": "code",
      "execution_count": 24,
      "metadata": {
        "pycharm": {}
      },
      "outputs": [
        {
          "data": {
            "text/html": [
              "\u003cdiv\u003e\n",
              "\u003cstyle scoped\u003e\n",
              "    .dataframe tbody tr th:only-of-type {\n",
              "        vertical-align: middle;\n",
              "    }\n",
              "\n",
              "    .dataframe tbody tr th {\n",
              "        vertical-align: top;\n",
              "    }\n",
              "\n",
              "    .dataframe thead th {\n",
              "        text-align: right;\n",
              "    }\n",
              "\u003c/style\u003e\n",
              "\u003ctable border\u003d\"1\" class\u003d\"dataframe\"\u003e\n",
              "  \u003cthead\u003e\n",
              "    \u003ctr style\u003d\"text-align: right;\"\u003e\n",
              "      \u003cth\u003e\u003c/th\u003e\n",
              "      \u003cth\u003eAveragePrice\u003c/th\u003e\n",
              "      \u003cth\u003eTotal Volume\u003c/th\u003e\n",
              "      \u003cth\u003e4046\u003c/th\u003e\n",
              "      \u003cth\u003e4225\u003c/th\u003e\n",
              "      \u003cth\u003e4770\u003c/th\u003e\n",
              "      \u003cth\u003eTotal Bags\u003c/th\u003e\n",
              "      \u003cth\u003eSmall Bags\u003c/th\u003e\n",
              "      \u003cth\u003eLarge Bags\u003c/th\u003e\n",
              "      \u003cth\u003eXLarge Bags\u003c/th\u003e\n",
              "      \u003cth\u003etype\u003c/th\u003e\n",
              "      \u003cth\u003eyear\u003c/th\u003e\n",
              "      \u003cth\u003eregion\u003c/th\u003e\n",
              "    \u003c/tr\u003e\n",
              "    \u003ctr\u003e\n",
              "      \u003cth\u003eDate\u003c/th\u003e\n",
              "      \u003cth\u003e\u003c/th\u003e\n",
              "      \u003cth\u003e\u003c/th\u003e\n",
              "      \u003cth\u003e\u003c/th\u003e\n",
              "      \u003cth\u003e\u003c/th\u003e\n",
              "      \u003cth\u003e\u003c/th\u003e\n",
              "      \u003cth\u003e\u003c/th\u003e\n",
              "      \u003cth\u003e\u003c/th\u003e\n",
              "      \u003cth\u003e\u003c/th\u003e\n",
              "      \u003cth\u003e\u003c/th\u003e\n",
              "      \u003cth\u003e\u003c/th\u003e\n",
              "      \u003cth\u003e\u003c/th\u003e\n",
              "      \u003cth\u003e\u003c/th\u003e\n",
              "    \u003c/tr\u003e\n",
              "  \u003c/thead\u003e\n",
              "  \u003ctbody\u003e\n",
              "    \u003ctr\u003e\n",
              "      \u003cth\u003e2015-01-04\u003c/th\u003e\n",
              "      \u003ctd\u003e1.75\u003c/td\u003e\n",
              "      \u003ctd\u003e27365.89\u003c/td\u003e\n",
              "      \u003ctd\u003e9307.34\u003c/td\u003e\n",
              "      \u003ctd\u003e3844.81\u003c/td\u003e\n",
              "      \u003ctd\u003e615.28\u003c/td\u003e\n",
              "      \u003ctd\u003e13598.46\u003c/td\u003e\n",
              "      \u003ctd\u003e13061.10\u003c/td\u003e\n",
              "      \u003ctd\u003e537.36\u003c/td\u003e\n",
              "      \u003ctd\u003e0.0\u003c/td\u003e\n",
              "      \u003ctd\u003e0\u003c/td\u003e\n",
              "      \u003ctd\u003e2015\u003c/td\u003e\n",
              "      \u003ctd\u003eSoutheast\u003c/td\u003e\n",
              "    \u003c/tr\u003e\n",
              "    \u003ctr\u003e\n",
              "      \u003cth\u003e2015-01-04\u003c/th\u003e\n",
              "      \u003ctd\u003e1.49\u003c/td\u003e\n",
              "      \u003ctd\u003e17723.17\u003c/td\u003e\n",
              "      \u003ctd\u003e1189.35\u003c/td\u003e\n",
              "      \u003ctd\u003e15628.27\u003c/td\u003e\n",
              "      \u003ctd\u003e0.00\u003c/td\u003e\n",
              "      \u003ctd\u003e905.55\u003c/td\u003e\n",
              "      \u003ctd\u003e905.55\u003c/td\u003e\n",
              "      \u003ctd\u003e0.00\u003c/td\u003e\n",
              "      \u003ctd\u003e0.0\u003c/td\u003e\n",
              "      \u003ctd\u003e0\u003c/td\u003e\n",
              "      \u003ctd\u003e2015\u003c/td\u003e\n",
              "      \u003ctd\u003eChicago\u003c/td\u003e\n",
              "    \u003c/tr\u003e\n",
              "    \u003ctr\u003e\n",
              "      \u003cth\u003e2015-01-04\u003c/th\u003e\n",
              "      \u003ctd\u003e1.68\u003c/td\u003e\n",
              "      \u003ctd\u003e2896.72\u003c/td\u003e\n",
              "      \u003ctd\u003e161.68\u003c/td\u003e\n",
              "      \u003ctd\u003e206.96\u003c/td\u003e\n",
              "      \u003ctd\u003e0.00\u003c/td\u003e\n",
              "      \u003ctd\u003e2528.08\u003c/td\u003e\n",
              "      \u003ctd\u003e2528.08\u003c/td\u003e\n",
              "      \u003ctd\u003e0.00\u003c/td\u003e\n",
              "      \u003ctd\u003e0.0\u003c/td\u003e\n",
              "      \u003ctd\u003e0\u003c/td\u003e\n",
              "      \u003ctd\u003e2015\u003c/td\u003e\n",
              "      \u003ctd\u003eHarrisburgScranton\u003c/td\u003e\n",
              "    \u003c/tr\u003e\n",
              "    \u003ctr\u003e\n",
              "      \u003cth\u003e2015-01-04\u003c/th\u003e\n",
              "      \u003ctd\u003e1.52\u003c/td\u003e\n",
              "      \u003ctd\u003e54956.80\u003c/td\u003e\n",
              "      \u003ctd\u003e3013.04\u003c/td\u003e\n",
              "      \u003ctd\u003e35456.88\u003c/td\u003e\n",
              "      \u003ctd\u003e1561.70\u003c/td\u003e\n",
              "      \u003ctd\u003e14925.18\u003c/td\u003e\n",
              "      \u003ctd\u003e11264.80\u003c/td\u003e\n",
              "      \u003ctd\u003e3660.38\u003c/td\u003e\n",
              "      \u003ctd\u003e0.0\u003c/td\u003e\n",
              "      \u003ctd\u003e1\u003c/td\u003e\n",
              "      \u003ctd\u003e2015\u003c/td\u003e\n",
              "      \u003ctd\u003ePittsburgh\u003c/td\u003e\n",
              "    \u003c/tr\u003e\n",
              "    \u003ctr\u003e\n",
              "      \u003cth\u003e2015-01-04\u003c/th\u003e\n",
              "      \u003ctd\u003e1.64\u003c/td\u003e\n",
              "      \u003ctd\u003e1505.12\u003c/td\u003e\n",
              "      \u003ctd\u003e1.27\u003c/td\u003e\n",
              "      \u003ctd\u003e1129.50\u003c/td\u003e\n",
              "      \u003ctd\u003e0.00\u003c/td\u003e\n",
              "      \u003ctd\u003e374.35\u003c/td\u003e\n",
              "      \u003ctd\u003e186.67\u003c/td\u003e\n",
              "      \u003ctd\u003e187.68\u003c/td\u003e\n",
              "      \u003ctd\u003e0.0\u003c/td\u003e\n",
              "      \u003ctd\u003e0\u003c/td\u003e\n",
              "      \u003ctd\u003e2015\u003c/td\u003e\n",
              "      \u003ctd\u003eBoise\u003c/td\u003e\n",
              "    \u003c/tr\u003e\n",
              "  \u003c/tbody\u003e\n",
              "\u003c/table\u003e\n",
              "\u003c/div\u003e"
            ],
            "text/plain": [
              "            AveragePrice  Total Volume     4046      4225     4770  \\\n",
              "Date                                                                 \n",
              "2015-01-04          1.75      27365.89  9307.34   3844.81   615.28   \n",
              "2015-01-04          1.49      17723.17  1189.35  15628.27     0.00   \n",
              "2015-01-04          1.68       2896.72   161.68    206.96     0.00   \n",
              "2015-01-04          1.52      54956.80  3013.04  35456.88  1561.70   \n",
              "2015-01-04          1.64       1505.12     1.27   1129.50     0.00   \n",
              "\n",
              "            Total Bags  Small Bags  Large Bags  XLarge Bags  type  year  \\\n",
              "Date                                                                      \n",
              "2015-01-04    13598.46    13061.10      537.36          0.0     0  2015   \n",
              "2015-01-04      905.55      905.55        0.00          0.0     0  2015   \n",
              "2015-01-04     2528.08     2528.08        0.00          0.0     0  2015   \n",
              "2015-01-04    14925.18    11264.80     3660.38          0.0     1  2015   \n",
              "2015-01-04      374.35      186.67      187.68          0.0     0  2015   \n",
              "\n",
              "                        region  \n",
              "Date                            \n",
              "2015-01-04           Southeast  \n",
              "2015-01-04             Chicago  \n",
              "2015-01-04  HarrisburgScranton  \n",
              "2015-01-04          Pittsburgh  \n",
              "2015-01-04               Boise  "
            ]
          },
          "execution_count": 24,
          "metadata": {},
          "output_type": "execute_result"
        }
      ],
      "source": [
        "data \u003d pd.read_csv(\u0027data/avocado_schoon.csv\u0027, index_col\u003d\"Date\")\n",
        "data.replace(to_replace\u003d[\u0027organic\u0027, \u0027conventional\u0027], value\u003d[0, 1], inplace\u003dTrue)\n",
        "data.head()\n"
      ]
    },
    {
      "cell_type": "markdown",
      "metadata": {
        "pycharm": {
          "metadata": false,
          "name": "#%% md\n"
        }
      },
      "source": [
        "Als eerst gaan we het data object van MLR gebruiken, aangezien deze al opgeschoont is, om de data te pakken dat nodig is\n",
        "voor KNN. Voor nu wordt het aantal neighbours op 10 gezet. Dit is een waarde dat willekeurig is gekozen.\n"
      ]
    },
    {
      "cell_type": "code",
      "execution_count": null,
      "metadata": {
        "pycharm": {
          "is_executing": true,
          "metadata": false,
          "name": "#%%\n"
        }
      },
      "outputs": [
        {
          "name": "stdout",
          "output_type": "stream",
          "text": [
            "distance\n",
            "\n",
            "Done fitting..\n",
            "(-0.56, 4.25)\n",
            "\n",
            "(83.56, 62505647.52)\n",
            "\n",
            "Done re-arraging x..\n",
            "Done re-arraging y..\n"
          ]
        },
        {
          "name": "stderr",
          "output_type": "stream",
          "text": [
            "/Users/tim/Developer/Pycharm/Datascience-Opdrachten/venv/lib/python3.7/site-packages/ipykernel_launcher.py:18: DataConversionWarning: A column-vector y was passed when a 1d array was expected. Please change the shape of y to (n_samples, ), for example using ravel().\n"
          ]
        },
        {
          "name": "stdout",
          "output_type": "stream",
          "text": [
            "Done meshing..\n",
            "Done predicting..\n",
            "Done reshaping..\n",
            "Done scattering..\n",
            "Done setting limits..\n",
            "\n",
            "[1.75 1.49 1.68 ... 1.42 1.7  1.34]\n",
            "[  27365.89   17723.17    2896.72 ...  163496.7   190257.38 1774776.77]\n",
            "\n",
            "uniform\n",
            "\n",
            "Done fitting..\n",
            "(-0.56, 4.25)\n",
            "\n",
            "(83.56, 62505647.52)\n",
            "\n",
            "Done re-arraging x..\n"
          ]
        },
        {
          "name": "stderr",
          "output_type": "stream",
          "text": [
            "/Users/tim/Developer/Pycharm/Datascience-Opdrachten/venv/lib/python3.7/site-packages/ipykernel_launcher.py:18: DataConversionWarning: A column-vector y was passed when a 1d array was expected. Please change the shape of y to (n_samples, ), for example using ravel().\n"
          ]
        },
        {
          "name": "stdout",
          "output_type": "stream",
          "text": [
            "Done re-arraging y..\n",
            "Done meshing..\n"
          ]
        }
      ],
      "source": [
        "n_neighbors \u003d 10\n",
        "X_knn \u003d data[[\u0027AveragePrice\u0027, \u0027Total Volume\u0027]].values\n",
        "y_knn \u003d data[[\u0027type\u0027]].values\n",
        "h_knn \u003d 4  # stap grote in de meshgrid\n",
        "\n",
        "# Create color maps\n",
        "cmap_light \u003d ListedColormap([\u0027#FFAAAA\u0027, \u0027#AAFFAA\u0027, \u0027#AAAAFF\u0027])\n",
        "cmap_bold \u003d ListedColormap([\u0027#FF0000\u0027, \u0027#00FF00\u0027, \u0027#0000FF\u0027])\n",
        "\n",
        "y_serialized \u003d []\n",
        "for element in y_knn:\n",
        "    y_serialized.append(element[0])\n",
        "\n",
        "for weights in [\u0027distance\u0027, \u0027uniform\u0027]:\n",
        "    print(f\"{weights}\\n\")\n",
        "    # we create an instance of Neighbours Classifier and fit the data.\n",
        "    clf \u003d KNeighborsClassifier(n_neighbors, weights\u003dweights)\n",
        "    clf.fit(X_knn, y_knn)\n",
        "    print(\"Done fitting..\")\n",
        "    \n",
        "    # Plot the decision boundary. For that, we will assign a color to each\n",
        "    # point in the mesh [x_min, x_max]x[y_min, y_max].\n",
        "    \n",
        "    x_min, x_max \u003d X_knn[:, 0].min() - 1, X_knn[:, 0].max() + 1\n",
        "    print(f\"{x_min, x_max}\\n\")\n",
        "    \n",
        "    y_min, y_max \u003d X_knn[:, 1].min() - 1, X_knn[:, 1].max() + 1\n",
        "    print(f\"{y_min, y_max}\\n\")\n",
        "    \n",
        "    x_a \u003d np.arange(x_min, x_max, h_knn)\n",
        "    print(\"Done re-arraging x..\")\n",
        "    \n",
        "    y_a \u003d np.arange(y_min, y_max, h_knn)\n",
        "    print(\"Done re-arraging y..\")\n",
        "    \n",
        "    xx, yy \u003d np.meshgrid(x_a, y_a)\n",
        "    print(\"Done meshing..\")\n",
        "    \n",
        "    Z \u003d clf.predict(np.c_[xx.ravel(), yy.ravel()])\n",
        "    print(\"Done predicting..\")\n",
        "    \n",
        "    # Put the result into a color plot\n",
        "    Z \u003d Z.reshape(xx.shape)\n",
        "    print(f\"Done reshaping..\")\n",
        "    plt.clf()\n",
        "    plt.figure(num\u003dNone, figsize\u003d(8, 6), dpi\u003d120, facecolor\u003d\u0027w\u0027, edgecolor\u003d\u0027k\u0027)\n",
        "    plt.pcolormesh(xx, yy, Z, cmap\u003dcmap_light)\n",
        "\n",
        "    # Plot also the training points\n",
        "    plt.scatter(X_knn[:, 0], X_knn[:, 1], c\u003dy_serialized, cmap\u003dcmap_bold, edgecolor\u003d\u0027k\u0027, s\u003d20)\n",
        "    print(f\"Done scattering..\")\n",
        "    \n",
        "    plt.xlim(xx.min(), xx.max())\n",
        "    plt.ylim(yy.min(), yy.max())\n",
        "    print(\"Done setting limits..\")\n",
        "    \n",
        "    plt.title(\"3-Class classification (k \u003d 10, weights \u003d \u0027Distance\u0027)\")\n",
        "    \n",
        "    print(f\"\\n{X_knn[:, 0]}\")\n",
        "    print(f\"{X_knn[:, 1]}\\n\")\n",
        "\n",
        "plt.show()\n"
      ]
    },
    {
      "cell_type": "code",
      "execution_count": null,
      "metadata": {
        "pycharm": {}
      },
      "outputs": [],
      "source": []
    },
    {
      "cell_type": "code",
      "execution_count": null,
      "metadata": {
        "pycharm": {}
      },
      "outputs": [],
      "source": []
    },
    {
      "cell_type": "markdown",
      "metadata": {
        "pycharm": {
          "metadata": false,
          "name": "#%% md\n"
        }
      },
      "source": [
        "### Evaluatie\n"
      ]
    },
    {
      "cell_type": "markdown",
      "metadata": {
        "pycharm": {
          "metadata": false
        }
      },
      "source": "KNearestNeighbour(\u0027distance\u0027)\n"
    },
    {
      "cell_type": "markdown",
      "source": "Bij de uniforme berekening worden de punten in een distributie geplaatsts en wordt naar de standaarddeviatie gekeken op welke type het moet worden verdeeld. De uniforme verdeling is handiger bij dichtbevolkte voorspelling zoals in deze grafieken te zien is.\n",
      "metadata": {
        "pycharm": {
          "metadata": false
        }
      }
    },
    {
      "cell_type": "code",
      "execution_count": null,
      "outputs": [],
      "source": "KNearestNeighbour(\u0027uniform\u0027)\n",
      "metadata": {
        "pycharm": {
          "metadata": false,
          "name": "#%%\n"
        }
      }
    }
  ],
  "metadata": {
    "kernelspec": {
      "display_name": "Python 3",
      "language": "python",
      "name": "python3"
    },
    "language_info": {
      "codemirror_mode": {
        "name": "ipython",
        "version": 3
      },
      "file_extension": ".py",
      "mimetype": "text/x-python",
      "name": "python",
      "nbconvert_exporter": "python",
      "pygments_lexer": "ipython3",
      "version": "3.7.2"
    },
    "stem_cell": {
      "cell_type": "raw",
      "metadata": {
        "pycharm": {
          "metadata": false
        }
      },
      "source": ""
    }
  },
  "nbformat": 4,
  "nbformat_minor": 1
}