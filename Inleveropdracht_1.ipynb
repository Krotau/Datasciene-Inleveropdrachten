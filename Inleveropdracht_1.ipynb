{
  "cells": [
    {
      "cell_type": "markdown",
      "source": "# importeren van de Dataset\nDe data dat wordt gebruikt is gedownload van Kaggle, er is gekeken naar welke data potentieel veel over te vinden is.\nHier is een dataset over de prijzen van avocados gevonden dat goed kan worden gebruikt bij het maken van deze\nopdrachten.\n\nIn de code hieronder importeren we  de pandas library en laden we de avocado dataset in op de variabelen \u0027df\u0027.\n",
      "metadata": {
        "pycharm": {
          "metadata": false
        }
      }
    },
    {
      "cell_type": "code",
      "execution_count": 24,
      "metadata": {
        "collapsed": true,
        "pycharm": {
          "is_executing": false
        }
      },
      "outputs": [
        {
          "data": {
            "text/plain": "   Unnamed: 0        Date  AveragePrice  Total Volume     4046       4225  \\\n0           0  2015-12-27          1.33      64236.62  1036.74   54454.85   \n1           1  2015-12-20          1.35      54876.98   674.28   44638.81   \n2           2  2015-12-13          0.93     118220.22   794.70  109149.67   \n3           3  2015-12-06          1.08      78992.15  1132.00   71976.41   \n4           4  2015-11-29          1.28      51039.60   941.48   43838.39   \n\n     4770  Total Bags  Small Bags  Large Bags  XLarge Bags          type  \\\n0   48.16     8696.87     8603.62       93.25          0.0  conventional   \n1   58.33     9505.56     9408.07       97.49          0.0  conventional   \n2  130.50     8145.35     8042.21      103.14          0.0  conventional   \n3   72.58     5811.16     5677.40      133.76          0.0  conventional   \n4   75.78     6183.95     5986.26      197.69          0.0  conventional   \n\n   year  region  \n0  2015  Albany  \n1  2015  Albany  \n2  2015  Albany  \n3  2015  Albany  \n4  2015  Albany  ",
            "text/html": "\u003cdiv\u003e\n\u003cstyle scoped\u003e\n    .dataframe tbody tr th:only-of-type {\n        vertical-align: middle;\n    }\n\n    .dataframe tbody tr th {\n        vertical-align: top;\n    }\n\n    .dataframe thead th {\n        text-align: right;\n    }\n\u003c/style\u003e\n\u003ctable border\u003d\"1\" class\u003d\"dataframe\"\u003e\n  \u003cthead\u003e\n    \u003ctr style\u003d\"text-align: right;\"\u003e\n      \u003cth\u003e\u003c/th\u003e\n      \u003cth\u003eUnnamed: 0\u003c/th\u003e\n      \u003cth\u003eDate\u003c/th\u003e\n      \u003cth\u003eAveragePrice\u003c/th\u003e\n      \u003cth\u003eTotal Volume\u003c/th\u003e\n      \u003cth\u003e4046\u003c/th\u003e\n      \u003cth\u003e4225\u003c/th\u003e\n      \u003cth\u003e4770\u003c/th\u003e\n      \u003cth\u003eTotal Bags\u003c/th\u003e\n      \u003cth\u003eSmall Bags\u003c/th\u003e\n      \u003cth\u003eLarge Bags\u003c/th\u003e\n      \u003cth\u003eXLarge Bags\u003c/th\u003e\n      \u003cth\u003etype\u003c/th\u003e\n      \u003cth\u003eyear\u003c/th\u003e\n      \u003cth\u003eregion\u003c/th\u003e\n    \u003c/tr\u003e\n  \u003c/thead\u003e\n  \u003ctbody\u003e\n    \u003ctr\u003e\n      \u003cth\u003e0\u003c/th\u003e\n      \u003ctd\u003e0\u003c/td\u003e\n      \u003ctd\u003e2015-12-27\u003c/td\u003e\n      \u003ctd\u003e1.33\u003c/td\u003e\n      \u003ctd\u003e64236.62\u003c/td\u003e\n      \u003ctd\u003e1036.74\u003c/td\u003e\n      \u003ctd\u003e54454.85\u003c/td\u003e\n      \u003ctd\u003e48.16\u003c/td\u003e\n      \u003ctd\u003e8696.87\u003c/td\u003e\n      \u003ctd\u003e8603.62\u003c/td\u003e\n      \u003ctd\u003e93.25\u003c/td\u003e\n      \u003ctd\u003e0.0\u003c/td\u003e\n      \u003ctd\u003econventional\u003c/td\u003e\n      \u003ctd\u003e2015\u003c/td\u003e\n      \u003ctd\u003eAlbany\u003c/td\u003e\n    \u003c/tr\u003e\n    \u003ctr\u003e\n      \u003cth\u003e1\u003c/th\u003e\n      \u003ctd\u003e1\u003c/td\u003e\n      \u003ctd\u003e2015-12-20\u003c/td\u003e\n      \u003ctd\u003e1.35\u003c/td\u003e\n      \u003ctd\u003e54876.98\u003c/td\u003e\n      \u003ctd\u003e674.28\u003c/td\u003e\n      \u003ctd\u003e44638.81\u003c/td\u003e\n      \u003ctd\u003e58.33\u003c/td\u003e\n      \u003ctd\u003e9505.56\u003c/td\u003e\n      \u003ctd\u003e9408.07\u003c/td\u003e\n      \u003ctd\u003e97.49\u003c/td\u003e\n      \u003ctd\u003e0.0\u003c/td\u003e\n      \u003ctd\u003econventional\u003c/td\u003e\n      \u003ctd\u003e2015\u003c/td\u003e\n      \u003ctd\u003eAlbany\u003c/td\u003e\n    \u003c/tr\u003e\n    \u003ctr\u003e\n      \u003cth\u003e2\u003c/th\u003e\n      \u003ctd\u003e2\u003c/td\u003e\n      \u003ctd\u003e2015-12-13\u003c/td\u003e\n      \u003ctd\u003e0.93\u003c/td\u003e\n      \u003ctd\u003e118220.22\u003c/td\u003e\n      \u003ctd\u003e794.70\u003c/td\u003e\n      \u003ctd\u003e109149.67\u003c/td\u003e\n      \u003ctd\u003e130.50\u003c/td\u003e\n      \u003ctd\u003e8145.35\u003c/td\u003e\n      \u003ctd\u003e8042.21\u003c/td\u003e\n      \u003ctd\u003e103.14\u003c/td\u003e\n      \u003ctd\u003e0.0\u003c/td\u003e\n      \u003ctd\u003econventional\u003c/td\u003e\n      \u003ctd\u003e2015\u003c/td\u003e\n      \u003ctd\u003eAlbany\u003c/td\u003e\n    \u003c/tr\u003e\n    \u003ctr\u003e\n      \u003cth\u003e3\u003c/th\u003e\n      \u003ctd\u003e3\u003c/td\u003e\n      \u003ctd\u003e2015-12-06\u003c/td\u003e\n      \u003ctd\u003e1.08\u003c/td\u003e\n      \u003ctd\u003e78992.15\u003c/td\u003e\n      \u003ctd\u003e1132.00\u003c/td\u003e\n      \u003ctd\u003e71976.41\u003c/td\u003e\n      \u003ctd\u003e72.58\u003c/td\u003e\n      \u003ctd\u003e5811.16\u003c/td\u003e\n      \u003ctd\u003e5677.40\u003c/td\u003e\n      \u003ctd\u003e133.76\u003c/td\u003e\n      \u003ctd\u003e0.0\u003c/td\u003e\n      \u003ctd\u003econventional\u003c/td\u003e\n      \u003ctd\u003e2015\u003c/td\u003e\n      \u003ctd\u003eAlbany\u003c/td\u003e\n    \u003c/tr\u003e\n    \u003ctr\u003e\n      \u003cth\u003e4\u003c/th\u003e\n      \u003ctd\u003e4\u003c/td\u003e\n      \u003ctd\u003e2015-11-29\u003c/td\u003e\n      \u003ctd\u003e1.28\u003c/td\u003e\n      \u003ctd\u003e51039.60\u003c/td\u003e\n      \u003ctd\u003e941.48\u003c/td\u003e\n      \u003ctd\u003e43838.39\u003c/td\u003e\n      \u003ctd\u003e75.78\u003c/td\u003e\n      \u003ctd\u003e6183.95\u003c/td\u003e\n      \u003ctd\u003e5986.26\u003c/td\u003e\n      \u003ctd\u003e197.69\u003c/td\u003e\n      \u003ctd\u003e0.0\u003c/td\u003e\n      \u003ctd\u003econventional\u003c/td\u003e\n      \u003ctd\u003e2015\u003c/td\u003e\n      \u003ctd\u003eAlbany\u003c/td\u003e\n    \u003c/tr\u003e\n  \u003c/tbody\u003e\n\u003c/table\u003e\n\u003c/div\u003e"
          },
          "metadata": {},
          "output_type": "execute_result",
          "execution_count": 24
        }
      ],
      "source": "import pandas as pd\ndata \u003d pd.read_csv(\u0027data/avocado.csv\u0027)\ndata.head()"
    },
    {
      "cell_type": "markdown",
      "source": "## Multiple-Linear-Regression \nIn dit hoofdstuk gaan we een voorbeeld van Multiplaire Lineaire Regressie (MLR) uitwerken en evalueren. Met MLR gaan we\nproberen de prijzen van de avocados te voorspellen gegeven de waardes van andere kollomen.\n\n### Wat gaan we analyseren\nMet behulp van MLR gaan we de prijzen van de advocado\u0027s voorspellen, de factoren die we hier voor gaan gebruiken zijn:\n1. totale volume\n2. Total Bags\n3. Aantal per soort bag: Small, Large, XLarge\n4. PLU (Price Lookup Codes) waardes: 4046, 4225, 4770\n\nMogelijke behulpzame factoren:\n1. Jaar\n2. Type: organisch of conventioneel\n3. Rgio\n\n### Uitwerking\nAllereerst moet er worden gecontroleerd hoeveel null waardes in de data is, pandas heeft hier een simpel maar elegant\ntruckje voor:",
      "metadata": {
        "pycharm": {
          "metadata": false,
          "name": "#%% md\n"
        }
      }
    },
    {
      "cell_type": "code",
      "execution_count": 25,
      "outputs": [
        {
          "data": {
            "text/plain": "Unnamed: 0      0\nDate            0\nAveragePrice    0\nTotal Volume    0\n4046            0\n4225            0\n4770            0\nTotal Bags      0\nSmall Bags      0\nLarge Bags      0\nXLarge Bags     0\ntype            0\nyear            0\nregion          0\ndtype: int64"
          },
          "metadata": {},
          "output_type": "execute_result",
          "execution_count": 25
        }
      ],
      "source": "data.isnull().sum()",
      "metadata": {
        "pycharm": {
          "metadata": false,
          "name": "#%%\n",
          "is_executing": false
        }
      }
    },
    {
      "cell_type": "markdown",
      "source": "Zoals te zien is de data schoon, dit is maar een eerste indruk dus er kan nog altijd wat fouten inzitten. Een van deze\nfouten kon al in het begon worden opgemerkt toen de head() van de dataset werdt getoond; de kollommen zijn niet\ngeindexeerd en deze kollom wordt niet goed als datum object herkend.\n\nOm dit op te lossen wordt het voglende gedaan:",
      "metadata": {
        "pycharm": {
          "metadata": false,
          "name": "#%% md\n"
        }
      }
    },
    {
      "cell_type": "code",
      "execution_count": 26,
      "outputs": [],
      "source": "data[\"Date\"] \u003d pd.to_datetime(data[\"Date\"], yearfirst\u003dTrue)\ndata.set_index(\"Date\", inplace\u003dTrue)\ndata.sort_index(inplace\u003dTrue)",
      "metadata": {
        "pycharm": {
          "metadata": false,
          "name": "#%%\n",
          "is_executing": false
        }
      }
    },
    {
      "cell_type": "code",
      "execution_count": 27,
      "outputs": [
        {
          "data": {
            "text/plain": "            Unnamed: 0  AveragePrice  Total Volume     4046      4225    4770  \\\nDate                                                                            \n2015-01-04          51          1.75      27365.89  9307.34   3844.81  615.28   \n2015-01-04          51          1.49      17723.17  1189.35  15628.27    0.00   \n2015-01-04          51          1.68       2896.72   161.68    206.96    0.00   \n\n            Total Bags  Small Bags  Large Bags  XLarge Bags     type  year  \\\nDate                                                                         \n2015-01-04    13598.46    13061.10      537.36          0.0  organic  2015   \n2015-01-04      905.55      905.55        0.00          0.0  organic  2015   \n2015-01-04     2528.08     2528.08        0.00          0.0  organic  2015   \n\n                        region  \nDate                            \n2015-01-04           Southeast  \n2015-01-04             Chicago  \n2015-01-04  HarrisburgScranton  ",
            "text/html": "\u003cdiv\u003e\n\u003cstyle scoped\u003e\n    .dataframe tbody tr th:only-of-type {\n        vertical-align: middle;\n    }\n\n    .dataframe tbody tr th {\n        vertical-align: top;\n    }\n\n    .dataframe thead th {\n        text-align: right;\n    }\n\u003c/style\u003e\n\u003ctable border\u003d\"1\" class\u003d\"dataframe\"\u003e\n  \u003cthead\u003e\n    \u003ctr style\u003d\"text-align: right;\"\u003e\n      \u003cth\u003e\u003c/th\u003e\n      \u003cth\u003eUnnamed: 0\u003c/th\u003e\n      \u003cth\u003eAveragePrice\u003c/th\u003e\n      \u003cth\u003eTotal Volume\u003c/th\u003e\n      \u003cth\u003e4046\u003c/th\u003e\n      \u003cth\u003e4225\u003c/th\u003e\n      \u003cth\u003e4770\u003c/th\u003e\n      \u003cth\u003eTotal Bags\u003c/th\u003e\n      \u003cth\u003eSmall Bags\u003c/th\u003e\n      \u003cth\u003eLarge Bags\u003c/th\u003e\n      \u003cth\u003eXLarge Bags\u003c/th\u003e\n      \u003cth\u003etype\u003c/th\u003e\n      \u003cth\u003eyear\u003c/th\u003e\n      \u003cth\u003eregion\u003c/th\u003e\n    \u003c/tr\u003e\n    \u003ctr\u003e\n      \u003cth\u003eDate\u003c/th\u003e\n      \u003cth\u003e\u003c/th\u003e\n      \u003cth\u003e\u003c/th\u003e\n      \u003cth\u003e\u003c/th\u003e\n      \u003cth\u003e\u003c/th\u003e\n      \u003cth\u003e\u003c/th\u003e\n      \u003cth\u003e\u003c/th\u003e\n      \u003cth\u003e\u003c/th\u003e\n      \u003cth\u003e\u003c/th\u003e\n      \u003cth\u003e\u003c/th\u003e\n      \u003cth\u003e\u003c/th\u003e\n      \u003cth\u003e\u003c/th\u003e\n      \u003cth\u003e\u003c/th\u003e\n      \u003cth\u003e\u003c/th\u003e\n    \u003c/tr\u003e\n  \u003c/thead\u003e\n  \u003ctbody\u003e\n    \u003ctr\u003e\n      \u003cth\u003e2015-01-04\u003c/th\u003e\n      \u003ctd\u003e51\u003c/td\u003e\n      \u003ctd\u003e1.75\u003c/td\u003e\n      \u003ctd\u003e27365.89\u003c/td\u003e\n      \u003ctd\u003e9307.34\u003c/td\u003e\n      \u003ctd\u003e3844.81\u003c/td\u003e\n      \u003ctd\u003e615.28\u003c/td\u003e\n      \u003ctd\u003e13598.46\u003c/td\u003e\n      \u003ctd\u003e13061.10\u003c/td\u003e\n      \u003ctd\u003e537.36\u003c/td\u003e\n      \u003ctd\u003e0.0\u003c/td\u003e\n      \u003ctd\u003eorganic\u003c/td\u003e\n      \u003ctd\u003e2015\u003c/td\u003e\n      \u003ctd\u003eSoutheast\u003c/td\u003e\n    \u003c/tr\u003e\n    \u003ctr\u003e\n      \u003cth\u003e2015-01-04\u003c/th\u003e\n      \u003ctd\u003e51\u003c/td\u003e\n      \u003ctd\u003e1.49\u003c/td\u003e\n      \u003ctd\u003e17723.17\u003c/td\u003e\n      \u003ctd\u003e1189.35\u003c/td\u003e\n      \u003ctd\u003e15628.27\u003c/td\u003e\n      \u003ctd\u003e0.00\u003c/td\u003e\n      \u003ctd\u003e905.55\u003c/td\u003e\n      \u003ctd\u003e905.55\u003c/td\u003e\n      \u003ctd\u003e0.00\u003c/td\u003e\n      \u003ctd\u003e0.0\u003c/td\u003e\n      \u003ctd\u003eorganic\u003c/td\u003e\n      \u003ctd\u003e2015\u003c/td\u003e\n      \u003ctd\u003eChicago\u003c/td\u003e\n    \u003c/tr\u003e\n    \u003ctr\u003e\n      \u003cth\u003e2015-01-04\u003c/th\u003e\n      \u003ctd\u003e51\u003c/td\u003e\n      \u003ctd\u003e1.68\u003c/td\u003e\n      \u003ctd\u003e2896.72\u003c/td\u003e\n      \u003ctd\u003e161.68\u003c/td\u003e\n      \u003ctd\u003e206.96\u003c/td\u003e\n      \u003ctd\u003e0.00\u003c/td\u003e\n      \u003ctd\u003e2528.08\u003c/td\u003e\n      \u003ctd\u003e2528.08\u003c/td\u003e\n      \u003ctd\u003e0.00\u003c/td\u003e\n      \u003ctd\u003e0.0\u003c/td\u003e\n      \u003ctd\u003eorganic\u003c/td\u003e\n      \u003ctd\u003e2015\u003c/td\u003e\n      \u003ctd\u003eHarrisburgScranton\u003c/td\u003e\n    \u003c/tr\u003e\n  \u003c/tbody\u003e\n\u003c/table\u003e\n\u003c/div\u003e"
          },
          "metadata": {},
          "output_type": "execute_result",
          "execution_count": 27
        }
      ],
      "source": "data.head(3)",
      "metadata": {
        "pycharm": {
          "metadata": false,
          "name": "#%%\n",
          "is_executing": false
        }
      }
    },
    {
      "cell_type": "markdown",
      "source": "Door het opnieuw indelen van de index is de oude index, wat een gewoon geheel getal was, als een kollom toegevoegd,\ndeze is niet nodig en kan dus verwijderd worden",
      "metadata": {
        "pycharm": {
          "metadata": false,
          "name": "#%% md\n"
        }
      }
    },
    {
      "cell_type": "code",
      "execution_count": 28,
      "outputs": [],
      "source": "data.drop([\"Unnamed: 0\"], axis\u003d1, inplace\u003dTrue)",
      "metadata": {
        "pycharm": {
          "metadata": false,
          "name": "#%%\n",
          "is_executing": false
        }
      }
    },
    {
      "cell_type": "code",
      "execution_count": 29,
      "outputs": [
        {
          "data": {
            "text/plain": "            AveragePrice  Total Volume     4046      4225     4770  \\\nDate                                                                 \n2015-01-04          1.75      27365.89  9307.34   3844.81   615.28   \n2015-01-04          1.49      17723.17  1189.35  15628.27     0.00   \n2015-01-04          1.68       2896.72   161.68    206.96     0.00   \n2015-01-04          1.52      54956.80  3013.04  35456.88  1561.70   \n2015-01-04          1.64       1505.12     1.27   1129.50     0.00   \n\n            Total Bags  Small Bags  Large Bags  XLarge Bags          type  \\\nDate                                                                        \n2015-01-04    13598.46    13061.10      537.36          0.0       organic   \n2015-01-04      905.55      905.55        0.00          0.0       organic   \n2015-01-04     2528.08     2528.08        0.00          0.0       organic   \n2015-01-04    14925.18    11264.80     3660.38          0.0  conventional   \n2015-01-04      374.35      186.67      187.68          0.0       organic   \n\n            year              region  \nDate                                  \n2015-01-04  2015           Southeast  \n2015-01-04  2015             Chicago  \n2015-01-04  2015  HarrisburgScranton  \n2015-01-04  2015          Pittsburgh  \n2015-01-04  2015               Boise  ",
            "text/html": "\u003cdiv\u003e\n\u003cstyle scoped\u003e\n    .dataframe tbody tr th:only-of-type {\n        vertical-align: middle;\n    }\n\n    .dataframe tbody tr th {\n        vertical-align: top;\n    }\n\n    .dataframe thead th {\n        text-align: right;\n    }\n\u003c/style\u003e\n\u003ctable border\u003d\"1\" class\u003d\"dataframe\"\u003e\n  \u003cthead\u003e\n    \u003ctr style\u003d\"text-align: right;\"\u003e\n      \u003cth\u003e\u003c/th\u003e\n      \u003cth\u003eAveragePrice\u003c/th\u003e\n      \u003cth\u003eTotal Volume\u003c/th\u003e\n      \u003cth\u003e4046\u003c/th\u003e\n      \u003cth\u003e4225\u003c/th\u003e\n      \u003cth\u003e4770\u003c/th\u003e\n      \u003cth\u003eTotal Bags\u003c/th\u003e\n      \u003cth\u003eSmall Bags\u003c/th\u003e\n      \u003cth\u003eLarge Bags\u003c/th\u003e\n      \u003cth\u003eXLarge Bags\u003c/th\u003e\n      \u003cth\u003etype\u003c/th\u003e\n      \u003cth\u003eyear\u003c/th\u003e\n      \u003cth\u003eregion\u003c/th\u003e\n    \u003c/tr\u003e\n    \u003ctr\u003e\n      \u003cth\u003eDate\u003c/th\u003e\n      \u003cth\u003e\u003c/th\u003e\n      \u003cth\u003e\u003c/th\u003e\n      \u003cth\u003e\u003c/th\u003e\n      \u003cth\u003e\u003c/th\u003e\n      \u003cth\u003e\u003c/th\u003e\n      \u003cth\u003e\u003c/th\u003e\n      \u003cth\u003e\u003c/th\u003e\n      \u003cth\u003e\u003c/th\u003e\n      \u003cth\u003e\u003c/th\u003e\n      \u003cth\u003e\u003c/th\u003e\n      \u003cth\u003e\u003c/th\u003e\n      \u003cth\u003e\u003c/th\u003e\n    \u003c/tr\u003e\n  \u003c/thead\u003e\n  \u003ctbody\u003e\n    \u003ctr\u003e\n      \u003cth\u003e2015-01-04\u003c/th\u003e\n      \u003ctd\u003e1.75\u003c/td\u003e\n      \u003ctd\u003e27365.89\u003c/td\u003e\n      \u003ctd\u003e9307.34\u003c/td\u003e\n      \u003ctd\u003e3844.81\u003c/td\u003e\n      \u003ctd\u003e615.28\u003c/td\u003e\n      \u003ctd\u003e13598.46\u003c/td\u003e\n      \u003ctd\u003e13061.10\u003c/td\u003e\n      \u003ctd\u003e537.36\u003c/td\u003e\n      \u003ctd\u003e0.0\u003c/td\u003e\n      \u003ctd\u003eorganic\u003c/td\u003e\n      \u003ctd\u003e2015\u003c/td\u003e\n      \u003ctd\u003eSoutheast\u003c/td\u003e\n    \u003c/tr\u003e\n    \u003ctr\u003e\n      \u003cth\u003e2015-01-04\u003c/th\u003e\n      \u003ctd\u003e1.49\u003c/td\u003e\n      \u003ctd\u003e17723.17\u003c/td\u003e\n      \u003ctd\u003e1189.35\u003c/td\u003e\n      \u003ctd\u003e15628.27\u003c/td\u003e\n      \u003ctd\u003e0.00\u003c/td\u003e\n      \u003ctd\u003e905.55\u003c/td\u003e\n      \u003ctd\u003e905.55\u003c/td\u003e\n      \u003ctd\u003e0.00\u003c/td\u003e\n      \u003ctd\u003e0.0\u003c/td\u003e\n      \u003ctd\u003eorganic\u003c/td\u003e\n      \u003ctd\u003e2015\u003c/td\u003e\n      \u003ctd\u003eChicago\u003c/td\u003e\n    \u003c/tr\u003e\n    \u003ctr\u003e\n      \u003cth\u003e2015-01-04\u003c/th\u003e\n      \u003ctd\u003e1.68\u003c/td\u003e\n      \u003ctd\u003e2896.72\u003c/td\u003e\n      \u003ctd\u003e161.68\u003c/td\u003e\n      \u003ctd\u003e206.96\u003c/td\u003e\n      \u003ctd\u003e0.00\u003c/td\u003e\n      \u003ctd\u003e2528.08\u003c/td\u003e\n      \u003ctd\u003e2528.08\u003c/td\u003e\n      \u003ctd\u003e0.00\u003c/td\u003e\n      \u003ctd\u003e0.0\u003c/td\u003e\n      \u003ctd\u003eorganic\u003c/td\u003e\n      \u003ctd\u003e2015\u003c/td\u003e\n      \u003ctd\u003eHarrisburgScranton\u003c/td\u003e\n    \u003c/tr\u003e\n    \u003ctr\u003e\n      \u003cth\u003e2015-01-04\u003c/th\u003e\n      \u003ctd\u003e1.52\u003c/td\u003e\n      \u003ctd\u003e54956.80\u003c/td\u003e\n      \u003ctd\u003e3013.04\u003c/td\u003e\n      \u003ctd\u003e35456.88\u003c/td\u003e\n      \u003ctd\u003e1561.70\u003c/td\u003e\n      \u003ctd\u003e14925.18\u003c/td\u003e\n      \u003ctd\u003e11264.80\u003c/td\u003e\n      \u003ctd\u003e3660.38\u003c/td\u003e\n      \u003ctd\u003e0.0\u003c/td\u003e\n      \u003ctd\u003econventional\u003c/td\u003e\n      \u003ctd\u003e2015\u003c/td\u003e\n      \u003ctd\u003ePittsburgh\u003c/td\u003e\n    \u003c/tr\u003e\n    \u003ctr\u003e\n      \u003cth\u003e2015-01-04\u003c/th\u003e\n      \u003ctd\u003e1.64\u003c/td\u003e\n      \u003ctd\u003e1505.12\u003c/td\u003e\n      \u003ctd\u003e1.27\u003c/td\u003e\n      \u003ctd\u003e1129.50\u003c/td\u003e\n      \u003ctd\u003e0.00\u003c/td\u003e\n      \u003ctd\u003e374.35\u003c/td\u003e\n      \u003ctd\u003e186.67\u003c/td\u003e\n      \u003ctd\u003e187.68\u003c/td\u003e\n      \u003ctd\u003e0.0\u003c/td\u003e\n      \u003ctd\u003eorganic\u003c/td\u003e\n      \u003ctd\u003e2015\u003c/td\u003e\n      \u003ctd\u003eBoise\u003c/td\u003e\n    \u003c/tr\u003e\n  \u003c/tbody\u003e\n\u003c/table\u003e\n\u003c/div\u003e"
          },
          "metadata": {},
          "output_type": "execute_result",
          "execution_count": 29
        }
      ],
      "source": "data.head()",
      "metadata": {
        "pycharm": {
          "metadata": false,
          "name": "#%%\n",
          "is_executing": false
        }
      }
    },
    {
      "cell_type": "markdown",
      "source": "Nu de dataset logisch gewijs klopt kunnen de factoren worden gedefineerd, allereerst gaan we enkele kollomen weghalen\ndie geen continu data bevatten:\n\n1. Type\n2. Jaar\n3. Region\n\nDe kollomen zeggen uiteindelijk wel iets over de prijs, maar aangezien we MLR gebruiken kunnen we deze data niet\nin het model meenemen. Voor bij het gebruik van de categorische data (Type en Region) kan Multinomale Logische Regressie\nworden gebruikt, maar aangezien dat buiten de scope van het onderzoek valt, wordt deze niet gebruikt. Year is discrete\ndata en daar zal Possion Regressie voor worden gebruikt, maar valt net als de categorische data buiten de scope.",
      "metadata": {
        "pycharm": {
          "metadata": false,
          "name": "#%% md\n",
          "is_executing": false
        }
      }
    },
    {
      "cell_type": "code",
      "execution_count": 30,
      "outputs": [
        {
          "data": {
            "text/plain": "            AveragePrice  Total Volume     4046      4225     4770  \\\nDate                                                                 \n2015-01-04          1.75      27365.89  9307.34   3844.81   615.28   \n2015-01-04          1.49      17723.17  1189.35  15628.27     0.00   \n2015-01-04          1.68       2896.72   161.68    206.96     0.00   \n2015-01-04          1.52      54956.80  3013.04  35456.88  1561.70   \n2015-01-04          1.64       1505.12     1.27   1129.50     0.00   \n\n            Total Bags  Small Bags  Large Bags  XLarge Bags  \nDate                                                         \n2015-01-04    13598.46    13061.10      537.36          0.0  \n2015-01-04      905.55      905.55        0.00          0.0  \n2015-01-04     2528.08     2528.08        0.00          0.0  \n2015-01-04    14925.18    11264.80     3660.38          0.0  \n2015-01-04      374.35      186.67      187.68          0.0  ",
            "text/html": "\u003cdiv\u003e\n\u003cstyle scoped\u003e\n    .dataframe tbody tr th:only-of-type {\n        vertical-align: middle;\n    }\n\n    .dataframe tbody tr th {\n        vertical-align: top;\n    }\n\n    .dataframe thead th {\n        text-align: right;\n    }\n\u003c/style\u003e\n\u003ctable border\u003d\"1\" class\u003d\"dataframe\"\u003e\n  \u003cthead\u003e\n    \u003ctr style\u003d\"text-align: right;\"\u003e\n      \u003cth\u003e\u003c/th\u003e\n      \u003cth\u003eAveragePrice\u003c/th\u003e\n      \u003cth\u003eTotal Volume\u003c/th\u003e\n      \u003cth\u003e4046\u003c/th\u003e\n      \u003cth\u003e4225\u003c/th\u003e\n      \u003cth\u003e4770\u003c/th\u003e\n      \u003cth\u003eTotal Bags\u003c/th\u003e\n      \u003cth\u003eSmall Bags\u003c/th\u003e\n      \u003cth\u003eLarge Bags\u003c/th\u003e\n      \u003cth\u003eXLarge Bags\u003c/th\u003e\n    \u003c/tr\u003e\n    \u003ctr\u003e\n      \u003cth\u003eDate\u003c/th\u003e\n      \u003cth\u003e\u003c/th\u003e\n      \u003cth\u003e\u003c/th\u003e\n      \u003cth\u003e\u003c/th\u003e\n      \u003cth\u003e\u003c/th\u003e\n      \u003cth\u003e\u003c/th\u003e\n      \u003cth\u003e\u003c/th\u003e\n      \u003cth\u003e\u003c/th\u003e\n      \u003cth\u003e\u003c/th\u003e\n      \u003cth\u003e\u003c/th\u003e\n    \u003c/tr\u003e\n  \u003c/thead\u003e\n  \u003ctbody\u003e\n    \u003ctr\u003e\n      \u003cth\u003e2015-01-04\u003c/th\u003e\n      \u003ctd\u003e1.75\u003c/td\u003e\n      \u003ctd\u003e27365.89\u003c/td\u003e\n      \u003ctd\u003e9307.34\u003c/td\u003e\n      \u003ctd\u003e3844.81\u003c/td\u003e\n      \u003ctd\u003e615.28\u003c/td\u003e\n      \u003ctd\u003e13598.46\u003c/td\u003e\n      \u003ctd\u003e13061.10\u003c/td\u003e\n      \u003ctd\u003e537.36\u003c/td\u003e\n      \u003ctd\u003e0.0\u003c/td\u003e\n    \u003c/tr\u003e\n    \u003ctr\u003e\n      \u003cth\u003e2015-01-04\u003c/th\u003e\n      \u003ctd\u003e1.49\u003c/td\u003e\n      \u003ctd\u003e17723.17\u003c/td\u003e\n      \u003ctd\u003e1189.35\u003c/td\u003e\n      \u003ctd\u003e15628.27\u003c/td\u003e\n      \u003ctd\u003e0.00\u003c/td\u003e\n      \u003ctd\u003e905.55\u003c/td\u003e\n      \u003ctd\u003e905.55\u003c/td\u003e\n      \u003ctd\u003e0.00\u003c/td\u003e\n      \u003ctd\u003e0.0\u003c/td\u003e\n    \u003c/tr\u003e\n    \u003ctr\u003e\n      \u003cth\u003e2015-01-04\u003c/th\u003e\n      \u003ctd\u003e1.68\u003c/td\u003e\n      \u003ctd\u003e2896.72\u003c/td\u003e\n      \u003ctd\u003e161.68\u003c/td\u003e\n      \u003ctd\u003e206.96\u003c/td\u003e\n      \u003ctd\u003e0.00\u003c/td\u003e\n      \u003ctd\u003e2528.08\u003c/td\u003e\n      \u003ctd\u003e2528.08\u003c/td\u003e\n      \u003ctd\u003e0.00\u003c/td\u003e\n      \u003ctd\u003e0.0\u003c/td\u003e\n    \u003c/tr\u003e\n    \u003ctr\u003e\n      \u003cth\u003e2015-01-04\u003c/th\u003e\n      \u003ctd\u003e1.52\u003c/td\u003e\n      \u003ctd\u003e54956.80\u003c/td\u003e\n      \u003ctd\u003e3013.04\u003c/td\u003e\n      \u003ctd\u003e35456.88\u003c/td\u003e\n      \u003ctd\u003e1561.70\u003c/td\u003e\n      \u003ctd\u003e14925.18\u003c/td\u003e\n      \u003ctd\u003e11264.80\u003c/td\u003e\n      \u003ctd\u003e3660.38\u003c/td\u003e\n      \u003ctd\u003e0.0\u003c/td\u003e\n    \u003c/tr\u003e\n    \u003ctr\u003e\n      \u003cth\u003e2015-01-04\u003c/th\u003e\n      \u003ctd\u003e1.64\u003c/td\u003e\n      \u003ctd\u003e1505.12\u003c/td\u003e\n      \u003ctd\u003e1.27\u003c/td\u003e\n      \u003ctd\u003e1129.50\u003c/td\u003e\n      \u003ctd\u003e0.00\u003c/td\u003e\n      \u003ctd\u003e374.35\u003c/td\u003e\n      \u003ctd\u003e186.67\u003c/td\u003e\n      \u003ctd\u003e187.68\u003c/td\u003e\n      \u003ctd\u003e0.0\u003c/td\u003e\n    \u003c/tr\u003e\n  \u003c/tbody\u003e\n\u003c/table\u003e\n\u003c/div\u003e"
          },
          "metadata": {},
          "output_type": "execute_result",
          "execution_count": 30
        }
      ],
      "source": "data_continu \u003d data.drop([\"type\", \"region\", \"year\"], axis\u003d1)\ndata_continu.head()",
      "metadata": {
        "pycharm": {
          "metadata": false,
          "name": "#%%\n",
          "is_executing": false
        }
      }
    },
    {
      "cell_type": "markdown",
      "source": "### Evaluatie\n",
      "metadata": {
        "pycharm": {
          "metadata": false,
          "name": "#%% md\n"
        }
      }
    },
    {
      "cell_type": "markdown",
      "source": "## K-nearest Neighbour\nIn dit hoofdstuk gaan we een voorbeeld van K-nearest Neighbour uitwerken en evalueren. Door middel van deze analyse\ntechniek wordt geprobeerd te voorspellen wat voor type de avocado is\n\n### Wat gaan we analyseren\n\n### Uitwerking\n\n### Evaluatie\n",
      "metadata": {
        "pycharm": {
          "metadata": false
        }
      }
    },
    {
      "cell_type": "markdown",
      "source": "## Naives Bayes\nIn dit hoofdstuk gaan we een voorbeeld van Nayves Bayes uitwerken en evalueren\n\n### Wat gaan we analyseren\n\n### Uitwerking\n\n### Evaluatie",
      "metadata": {
        "pycharm": {
          "metadata": false
        }
      }
    }
  ],
  "metadata": {
    "language_info": {
      "codemirror_mode": {
        "name": "ipython",
        "version": 2
      },
      "file_extension": ".py",
      "mimetype": "text/x-python",
      "name": "python",
      "nbconvert_exporter": "python",
      "pygments_lexer": "ipython2",
      "version": "2.7.6"
    },
    "kernelspec": {
      "name": "python3",
      "language": "python",
      "display_name": "Python 3"
    },
    "stem_cell": {
      "cell_type": "raw",
      "source": "",
      "metadata": {
        "pycharm": {
          "metadata": false
        }
      }
    }
  },
  "nbformat": 4,
  "nbformat_minor": 0
}