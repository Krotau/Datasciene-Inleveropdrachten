{
 "cells": [
  {
   "cell_type": "markdown",
   "metadata": {
    "pycharm": {
     "metadata": false,
     "name": "#%% md\n"
    }
   },
   "source": [
    "# Logistische Regressie\n",
    "### Uitwerking en Evaluatie\n",
    "\n",
    "In deze notebook wordt met behulp van een dataset verkregen van Kaggle een uitwerking van logistische regressie\n",
    "uitgevoerd. De uitwerking wordt vergeleken met die van de naive methodiek om te toetsen hoe goed het model is.\n"
   ]
  },
  {
   "cell_type": "markdown",
   "metadata": {
    "pycharm": {
     "is_executing": false,
     "metadata": false,
     "name": "#%% md\n"
    }
   },
   "source": [
    "<b>Formules voor simpele logistische regressie:</b>\n",
    "\n",
    "\\begin{equation}\n",
    "\\ p(x) = \\frac{1}{1 + e^{-(\\beta_i x_i + {m_i})}}\n",
    "\\end{equation}\n",
    "\n",
    "<u>Of equivalent in odds:</u>\n",
    "\n",
    "\\begin{equation}\n",
    "\\ odds = e^{\\beta_i x_i + {m_i}}\n",
    "\\end{equation}\n",
    "\n",
    "<u>De logit van de odds:</u>\n",
    "\n",
    "\\begin{equation}\n",
    "\\ log(odds) = \\beta_i x_i + {m_i}\n",
    "\\end{equation}\n",
    "\n",
    "\n",
    "\n",
    "<b>Formule voor multiple logistiche regressie</b>\n",
    "\n",
    "\\begin{equation}\n",
    "\\ p(x) = \\frac{1}{1 + e^{-(\\beta_0 x_i{_0} + \\beta_1 x_i{_1}... + \\beta_p x_i{_p} + {m_i})}}\n",
    "\\end{equation}\n",
    "\n",
    "<u>Of equivalent in odds:</u>\n",
    "\n",
    "\\begin{equation}\n",
    "\\ odds = e^{\\beta_0 x_i{_0} + \\beta_1 x_i{_1}... + \\beta_p x_i{_p} + {m_i}}\n",
    "\\end{equation}\n",
    "\n",
    "<u>De logit van de odds: </u>\n",
    "\n",
    "\\begin{equation}\n",
    "\\ log(odds) = \\beta_0 x_i{_0} + \\beta_1 x_i{_1}... + \\beta_p x_i{_p} + {m_i}\n",
    "\\end{equation}"
   ]
  },
  {
   "cell_type": "markdown",
   "metadata": {
    "pycharm": {
     "metadata": false,
     "name": "#%% md\n"
    }
   },
   "source": [
    "Voor dat we de uitwerking beginnen moeten we eerst de juiste import doen.\n"
   ]
  },
  {
   "cell_type": "code",
   "execution_count": 1,
   "metadata": {
    "pycharm": {
     "is_executing": false
    }
   },
   "outputs": [],
   "source": [
    "import pandas as pd\n",
    "import numpy as np\n",
    "from sklearn.datasets import load_iris\n",
    "from sklearn.linear_model import LogisticRegression\n"
   ]
  },
  {
   "cell_type": "markdown",
   "metadata": {
    "pycharm": {
     "metadata": false,
     "name": "#%% md\n"
    }
   },
   "source": [
    "#### Voorbeeld\n",
    "Met de iris dataset van sci-kit-learn kunnen we een voorbeeld van Logistical Regression uitwerken. De data van X heeft\n",
    "meerdere attributen dus we doen bij het voorbeeld Multiple Logistiscal Regression.\n"
   ]
  },
  {
   "cell_type": "markdown",
   "metadata": {
    "pycharm": {
     "is_executing": false,
     "metadata": false,
     "name": "#%% md\n"
    }
   },
   "source": [
    "Als eerste initialiseren we de data en het LogisticRegression object.\n"
   ]
  },
  {
   "cell_type": "code",
   "execution_count": 2,
   "metadata": {
    "pycharm": {
     "is_executing": false,
     "metadata": false,
     "name": "#%%\n"
    }
   },
   "outputs": [],
   "source": [
    "data_X, data_y = load_iris(return_X_y=True)\n",
    "clf = LogisticRegression(random_state=0, solver='lbfgs', multi_class='multinomial')\n"
   ]
  },
  {
   "cell_type": "markdown",
   "metadata": {
    "pycharm": {
     "metadata": false,
     "name": "#%% md\n"
    }
   },
   "source": [
    "##### Trainen\n",
    "Het model is gebouwd, nu kunnen we data erop trainen via de .fit() methode.\n"
   ]
  },
  {
   "cell_type": "code",
   "execution_count": 3,
   "metadata": {
    "pycharm": {
     "is_executing": false,
     "metadata": false,
     "name": "#%%\n"
    }
   },
   "outputs": [
    {
     "name": "stderr",
     "output_type": "stream",
     "text": [
      "/Users/tim/Developer/Pycharm/Datascience-Opdrachten/venv/lib/python3.7/site-packages/sklearn/linear_model/logistic.py:947: ConvergenceWarning: lbfgs failed to converge. Increase the number of iterations.\n",
      "  \"of iterations.\", ConvergenceWarning)\n"
     ]
    },
    {
     "data": {
      "text/plain": [
       "LogisticRegression(C=1.0, class_weight=None, dual=False, fit_intercept=True,\n",
       "                   intercept_scaling=1, l1_ratio=None, max_iter=100,\n",
       "                   multi_class='multinomial', n_jobs=None, penalty='l2',\n",
       "                   random_state=0, solver='lbfgs', tol=0.0001, verbose=0,\n",
       "                   warm_start=False)"
      ]
     },
     "execution_count": 3,
     "metadata": {},
     "output_type": "execute_result"
    }
   ],
   "source": [
    "clf.fit(data_X, data_y)\n"
   ]
  },
  {
   "cell_type": "markdown",
   "metadata": {
    "pycharm": {
     "metadata": false,
     "name": "#%% md\n"
    }
   },
   "source": [
    "##### Voorspellen\n",
    "\n",
    "Nu kunnen we proberen te voorspellen met wat van de originele data:\n"
   ]
  },
  {
   "cell_type": "code",
   "execution_count": 4,
   "metadata": {
    "pycharm": {
     "is_executing": false,
     "metadata": false,
     "name": "#%%\n"
    }
   },
   "outputs": [
    {
     "data": {
      "text/plain": [
       "array([0, 0])"
      ]
     },
     "execution_count": 4,
     "metadata": {},
     "output_type": "execute_result"
    }
   ],
   "source": [
    "clf.predict(data_X[:2, :])\n"
   ]
  },
  {
   "cell_type": "markdown",
   "metadata": {
    "pycharm": {
     "metadata": false,
     "name": "#%% md\n"
    }
   },
   "source": [
    "Via de .predict_proba() methode kunnen we de probabilities van ieder attribuut zien van de eerste 2 twee cases.\n",
    "Er zijn 4 predictors dus is er per set van 2 een probability dus zijn er 3 probabilities\n"
   ]
  },
  {
   "cell_type": "code",
   "execution_count": 5,
   "metadata": {
    "pycharm": {
     "is_executing": false,
     "metadata": false,
     "name": "#%% \n"
    }
   },
   "outputs": [
    {
     "name": "stdout",
     "output_type": "stream",
     "text": [
      "[[5.1 3.5 1.4 0.2]\n",
      " [4.9 3.  1.4 0.2]]\n"
     ]
    },
    {
     "data": {
      "text/plain": [
       "array([[9.81802911e-01, 1.81970751e-02, 1.43580537e-08],\n",
       "       [9.71729527e-01, 2.82704429e-02, 3.00353141e-08]])"
      ]
     },
     "execution_count": 5,
     "metadata": {},
     "output_type": "execute_result"
    }
   ],
   "source": [
    "print(data_X[:2, :])\n",
    "clf.predict_proba(data_X[:2, :])\n"
   ]
  },
  {
   "cell_type": "markdown",
   "metadata": {
    "pycharm": {
     "metadata": false,
     "name": "#%% md\n"
    }
   },
   "source": [
    "\n",
    "##### Score\n",
    "\n",
    "Als laatst kunnen we de score bekijken van hoe goed het model werkt met een gegeven dataset.\n"
   ]
  },
  {
   "cell_type": "code",
   "execution_count": 6,
   "metadata": {
    "pycharm": {
     "is_executing": false,
     "metadata": false,
     "name": "#%%\n"
    }
   },
   "outputs": [
    {
     "data": {
      "text/plain": [
       "0.9733333333333334"
      ]
     },
     "execution_count": 6,
     "metadata": {},
     "output_type": "execute_result"
    }
   ],
   "source": [
    "clf.score(data_X, data_y)\n"
   ]
  },
  {
   "cell_type": "markdown",
   "metadata": {
    "pycharm": {
     "metadata": false,
     "name": "#%% md\n"
    }
   },
   "source": [
    "## Uitwerking dataset\n",
    "\n",
    "Er is gekozen voor een dataset van Kaggle: pokemon.\n",
    "\n",
    "Link naar dataset: https://www.kaggle.com/abcsds/pokemon/downloads/pokemon.zip/2\n",
    "\n",
    "Met deze dataset gaat worden geprobeerd te voorspellen of afhankelijk van de stats van een pokemon die pokemon als legendary\n",
    "kan worden geclassificeerd. Er zijn ook andere velden zoals de eerste en mogelijke tweede type van een pokemon. Deze\n",
    "worden echter niet meegenomen omdat niet alle pokemon een tweede type hebben, dit kan voor problemen zorgen in het model. \n"
   ]
  },
  {
   "cell_type": "code",
   "execution_count": 7,
   "metadata": {
    "pycharm": {
     "is_executing": false,
     "metadata": false,
     "name": "#%%\n"
    }
   },
   "outputs": [],
   "source": [
    "data = pd.read_csv('data/pokemon.csv')\n",
    "data_indexed = data.set_index('Name')\n",
    "data_sorted = data.sort_values('Total')\n",
    "data_filterd = data_sorted.filter(['Total', 'Attack', 'Defense', 'Sp. Atk', 'Sp. Def', 'Speed', 'Legendary'])"
   ]
  },
  {
   "cell_type": "markdown",
   "metadata": {},
   "source": [
    "##### Splitsen van data\n",
    "\n",
    "Nu we de data hebben kunnen we de data splitsen in X en y zoals te zien was in het voorbeeld. Deze X en y data kunnen we vervolgens in trainings en test data splitsen om het model te testen."
   ]
  },
  {
   "cell_type": "code",
   "execution_count": 8,
   "metadata": {},
   "outputs": [
    {
     "data": {
      "text/html": [
       "<div>\n",
       "<style scoped>\n",
       "    .dataframe tbody tr th:only-of-type {\n",
       "        vertical-align: middle;\n",
       "    }\n",
       "\n",
       "    .dataframe tbody tr th {\n",
       "        vertical-align: top;\n",
       "    }\n",
       "\n",
       "    .dataframe thead th {\n",
       "        text-align: right;\n",
       "    }\n",
       "</style>\n",
       "<table border=\"1\" class=\"dataframe\">\n",
       "  <thead>\n",
       "    <tr style=\"text-align: right;\">\n",
       "      <th></th>\n",
       "      <th>Legendary</th>\n",
       "    </tr>\n",
       "  </thead>\n",
       "  <tbody>\n",
       "    <tr>\n",
       "      <th>206</th>\n",
       "      <td>False</td>\n",
       "    </tr>\n",
       "    <tr>\n",
       "      <th>322</th>\n",
       "      <td>False</td>\n",
       "    </tr>\n",
       "    <tr>\n",
       "      <th>446</th>\n",
       "      <td>False</td>\n",
       "    </tr>\n",
       "    <tr>\n",
       "      <th>288</th>\n",
       "      <td>False</td>\n",
       "    </tr>\n",
       "    <tr>\n",
       "      <th>16</th>\n",
       "      <td>False</td>\n",
       "    </tr>\n",
       "  </tbody>\n",
       "</table>\n",
       "</div>"
      ],
      "text/plain": [
       "     Legendary\n",
       "206      False\n",
       "322      False\n",
       "446      False\n",
       "288      False\n",
       "16       False"
      ]
     },
     "execution_count": 8,
     "metadata": {},
     "output_type": "execute_result"
    }
   ],
   "source": [
    "data_X = data_filterd.copy()\n",
    "data_y = pd.DataFrame(data_X.pop('Legendary'))\n",
    "data_y.head()"
   ]
  },
  {
   "cell_type": "code",
   "execution_count": 9,
   "metadata": {},
   "outputs": [
    {
     "data": {
      "text/html": [
       "<div>\n",
       "<style scoped>\n",
       "    .dataframe tbody tr th:only-of-type {\n",
       "        vertical-align: middle;\n",
       "    }\n",
       "\n",
       "    .dataframe tbody tr th {\n",
       "        vertical-align: top;\n",
       "    }\n",
       "\n",
       "    .dataframe thead th {\n",
       "        text-align: right;\n",
       "    }\n",
       "</style>\n",
       "<table border=\"1\" class=\"dataframe\">\n",
       "  <thead>\n",
       "    <tr style=\"text-align: right;\">\n",
       "      <th></th>\n",
       "      <th>Total</th>\n",
       "      <th>Attack</th>\n",
       "      <th>Defense</th>\n",
       "      <th>Sp. Atk</th>\n",
       "      <th>Sp. Def</th>\n",
       "      <th>Speed</th>\n",
       "    </tr>\n",
       "  </thead>\n",
       "  <tbody>\n",
       "    <tr>\n",
       "      <th>206</th>\n",
       "      <td>180</td>\n",
       "      <td>30</td>\n",
       "      <td>30</td>\n",
       "      <td>30</td>\n",
       "      <td>30</td>\n",
       "      <td>30</td>\n",
       "    </tr>\n",
       "    <tr>\n",
       "      <th>322</th>\n",
       "      <td>190</td>\n",
       "      <td>20</td>\n",
       "      <td>40</td>\n",
       "      <td>20</td>\n",
       "      <td>40</td>\n",
       "      <td>20</td>\n",
       "    </tr>\n",
       "    <tr>\n",
       "      <th>446</th>\n",
       "      <td>194</td>\n",
       "      <td>25</td>\n",
       "      <td>41</td>\n",
       "      <td>25</td>\n",
       "      <td>41</td>\n",
       "      <td>25</td>\n",
       "    </tr>\n",
       "    <tr>\n",
       "      <th>288</th>\n",
       "      <td>195</td>\n",
       "      <td>45</td>\n",
       "      <td>35</td>\n",
       "      <td>20</td>\n",
       "      <td>30</td>\n",
       "      <td>20</td>\n",
       "    </tr>\n",
       "    <tr>\n",
       "      <th>16</th>\n",
       "      <td>195</td>\n",
       "      <td>35</td>\n",
       "      <td>30</td>\n",
       "      <td>20</td>\n",
       "      <td>20</td>\n",
       "      <td>50</td>\n",
       "    </tr>\n",
       "  </tbody>\n",
       "</table>\n",
       "</div>"
      ],
      "text/plain": [
       "     Total  Attack  Defense  Sp. Atk  Sp. Def  Speed\n",
       "206    180      30       30       30       30     30\n",
       "322    190      20       40       20       40     20\n",
       "446    194      25       41       25       41     25\n",
       "288    195      45       35       20       30     20\n",
       "16     195      35       30       20       20     50"
      ]
     },
     "execution_count": 9,
     "metadata": {},
     "output_type": "execute_result"
    }
   ],
   "source": [
    "data_X.head()"
   ]
  },
  {
   "cell_type": "markdown",
   "metadata": {},
   "source": [
    "#### Opsplitsen in train en test data\n",
    "Nu de X en y data is gesplitst kunnen we de trainingsdata ervan maken via train_test_split() functie van sci-kit-learn. Deze wordt geimporteerd en toegepast op de X en y data. Hier komen vier variabelen uit:\n",
    "- Test en trainings data voor X\n",
    "- Test en trainings data voor y"
   ]
  },
  {
   "cell_type": "code",
   "execution_count": 10,
   "metadata": {},
   "outputs": [],
   "source": [
    "from sklearn.model_selection import train_test_split\n",
    "X_train, X_test, y_train, y_test = train_test_split(data_X, data_y, test_size=0.33)"
   ]
  },
  {
   "cell_type": "markdown",
   "metadata": {},
   "source": [
    "#### Aanmaken en trainen van het Model\n",
    "Net als in het voorbeeld moet het object voor de Logistische Regressie worden geinitaliseerd en worden getraind."
   ]
  },
  {
   "cell_type": "code",
   "execution_count": 11,
   "metadata": {},
   "outputs": [
    {
     "data": {
      "text/plain": [
       "LogisticRegression(C=1.0, class_weight=None, dual=False, fit_intercept=True,\n",
       "                   intercept_scaling=1, l1_ratio=None, max_iter=100,\n",
       "                   multi_class='multinomial', n_jobs=None, penalty='l2',\n",
       "                   random_state=None, solver='lbfgs', tol=0.0001, verbose=0,\n",
       "                   warm_start=False)"
      ]
     },
     "execution_count": 11,
     "metadata": {},
     "output_type": "execute_result"
    }
   ],
   "source": [
    "from sklearn.linear_model import LogisticRegression\n",
    "LR_model = LogisticRegression(solver='lbfgs', multi_class='multinomial')\n",
    "LR_model.fit(X_train.values, y_train.values.ravel())\n"
   ]
  },
  {
   "cell_type": "markdown",
   "metadata": {},
   "source": [
    "##### Score\n",
    "Sci-kit-learn heeft een ingebouwde .score() methode voor de Logistische Regressie model. Deze score wordt berekent door het aantal cases te bepalen die verkeerd zijn voorspelt en deze eruit te halen, deze grote van deze populatie wordt met het totaal gedeeld en daar komt dus een waarde tussen de 0 en 1 uit. "
   ]
  },
  {
   "cell_type": "code",
   "execution_count": 12,
   "metadata": {},
   "outputs": [
    {
     "name": "stdout",
     "output_type": "stream",
     "text": [
      "De score van het LR_model is: 93.94% (0.9394)\n"
     ]
    }
   ],
   "source": [
    "score = LR_model.score(X_test.values, y_test.values.ravel())\n",
    "print(f\"De score van het LR_model is: {score*100:.2f}% ({score:.4f})\")"
   ]
  },
  {
   "cell_type": "markdown",
   "metadata": {},
   "source": [
    "De score van 95% houdt dus in dat in 95% van de gevallen het model een goeie voorspelling doet."
   ]
  },
  {
   "cell_type": "markdown",
   "metadata": {},
   "source": [
    "##### Inkijk op de data\n",
    "\n",
    "Zoals te zien met behulp van de .head() methode van geconstructeerde Dataframe van test waardes en de voorspellingen, is te zien dat ook niet legendaries goed worden voorspeld. Kort gezegd heeft het model ergens een omklap waarde voor wanneer een pokemon als legendary wordt geclassificeerd.\n",
    "\n",
    "In de volgende paragraaf worden de resultaten visueel getoond in een plot."
   ]
  },
  {
   "cell_type": "code",
   "execution_count": 13,
   "metadata": {},
   "outputs": [
    {
     "data": {
      "text/html": [
       "<div>\n",
       "<style scoped>\n",
       "    .dataframe tbody tr th:only-of-type {\n",
       "        vertical-align: middle;\n",
       "    }\n",
       "\n",
       "    .dataframe tbody tr th {\n",
       "        vertical-align: top;\n",
       "    }\n",
       "\n",
       "    .dataframe thead th {\n",
       "        text-align: right;\n",
       "    }\n",
       "</style>\n",
       "<table border=\"1\" class=\"dataframe\">\n",
       "  <thead>\n",
       "    <tr style=\"text-align: right;\">\n",
       "      <th></th>\n",
       "      <th>Legendary</th>\n",
       "      <th>Voorspelling LR</th>\n",
       "    </tr>\n",
       "  </thead>\n",
       "  <tbody>\n",
       "    <tr>\n",
       "      <th>206</th>\n",
       "      <td>False</td>\n",
       "      <td>False</td>\n",
       "    </tr>\n",
       "    <tr>\n",
       "      <th>367</th>\n",
       "      <td>False</td>\n",
       "      <td>False</td>\n",
       "    </tr>\n",
       "    <tr>\n",
       "      <th>530</th>\n",
       "      <td>False</td>\n",
       "      <td>False</td>\n",
       "    </tr>\n",
       "    <tr>\n",
       "      <th>319</th>\n",
       "      <td>False</td>\n",
       "      <td>False</td>\n",
       "    </tr>\n",
       "    <tr>\n",
       "      <th>362</th>\n",
       "      <td>False</td>\n",
       "      <td>False</td>\n",
       "    </tr>\n",
       "  </tbody>\n",
       "</table>\n",
       "</div>"
      ],
      "text/plain": [
       "     Legendary  Voorspelling LR\n",
       "206      False            False\n",
       "367      False            False\n",
       "530      False            False\n",
       "319      False            False\n",
       "362      False            False"
      ]
     },
     "execution_count": 13,
     "metadata": {},
     "output_type": "execute_result"
    }
   ],
   "source": [
    "predictions = LR_model.predict(X_test)\n",
    "predictions_df = y_test.copy()\n",
    "predictions_df['Voorspelling LR'] = predictions\n",
    "predictions_df.head()"
   ]
  },
  {
   "cell_type": "markdown",
   "metadata": {},
   "source": [
    "##### De voorspelling visualiseren\n",
    "Om een betere grip op het model te krijgen worden de resultaten van het model geplot door middel van MatPlotLib en twee scatter plots."
   ]
  },
  {
   "cell_type": "code",
   "execution_count": 14,
   "metadata": {},
   "outputs": [
    {
     "data": {
      "image/png": "[encoded data removed]",
      "text/plain": [
       "<Figure size 1800x360 with 1 Axes>"
      ]
     },
     "metadata": {
      "needs_background": "light"
     },
     "output_type": "display_data"
    }
   ],
   "source": [
    "%matplotlib inline\n",
    "\n",
    "from matplotlib import pyplot as plt\n",
    "\n",
    "x = np.arange(len(predictions_df))\n",
    "\n",
    "plt.figure(figsize=(15,3), dpi=120)\n",
    "plt.scatter(x, predictions_df['Legendary'], c='teal', alpha=0.5)\n",
    "plt.scatter(x, predictions_df['Voorspelling LR'], c='red', alpha=0.5)\n",
    "plt.show()"
   ]
  },
  {
   "cell_type": "markdown",
   "metadata": {},
   "source": [
    "Overal waar punten overelkaar heen zijn dus goeie voorspellingen. Het model wordt in de Evaluatie verder uitgepluisd met verschillende methodieken."
   ]
  },
  {
   "cell_type": "markdown",
   "metadata": {},
   "source": [
    "## Evaluatie\n",
    "In de evaluatie gaan we naar enkele berekeningen kijken die de correctheid van het model impliceren.\n",
    "\n",
    "Om een begrip te krijgen aan de aantallen van de fout voorspelt, goed voorspelt etc. wordt een confusion matrix getoond."
   ]
  },
  {
   "cell_type": "code",
   "execution_count": 15,
   "metadata": {},
   "outputs": [
    {
     "name": "stdout",
     "output_type": "stream",
     "text": [
      "Goed voorspelt  : 16\n",
      "legendary maar geen sterke pokemon : 9\n",
      "Sterke pokemon maar geen legedary : 7\n",
      "Geen legendaries  : 232\n"
     ]
    }
   ],
   "source": [
    "from sklearn.metrics import confusion_matrix\n",
    "\n",
    "tn, fp, fn, tp = confusion_matrix(predictions_df['Legendary'], predictions_df['Voorspelling LR']).ravel()\n",
    "\n",
    "print(f\"Goed voorspelt  : {tp}\")\n",
    "print(f\"legendary maar geen sterke pokemon : {fp}\")\n",
    "print(f\"Sterke pokemon maar geen legedary : {fn}\")\n",
    "print(f\"Geen legendaries  : {tn}\")"
   ]
  },
  {
   "cell_type": "markdown",
   "metadata": {},
   "source": [
    "Deze waardes kunnen we in een markdown tabel zetten door handmatig wat Juypter (IPython) code te schrijven. Als notitie: in dit geval zijn onze True Negatives eigenlijk ook goeie voorspellingen, maar dat wordt bij een confusion matrix geen rekening bij gehouden. Want dit zijn nogsteeds pokemon die goed zijn geclassificeerd."
   ]
  },
  {
   "cell_type": "code",
   "execution_count": 16,
   "metadata": {},
   "outputs": [
    {
     "data": {
      "text/markdown": [
       "\n",
       "| *confusion matrix* | Goed voorspelt | slecht voorspelt |\n",
       "| --- | --- | --- |\n",
       "| **legendary pokemon** | 16 | 7 |\n",
       "| **niet legendary pokemon** | 9 | 232|\n"
      ],
      "text/plain": [
       "<IPython.core.display.Markdown object>"
      ]
     },
     "execution_count": 16,
     "metadata": {},
     "output_type": "execute_result"
    }
   ],
   "source": [
    "from IPython.display import Markdown as md\n",
    "\n",
    "md(f\"\"\"\n",
    "| *confusion matrix* | Goed voorspelt | slecht voorspelt |\n",
    "| --- | --- | --- |\n",
    "| **legendary pokemon** | {tp} | {fn} |\n",
    "| **niet legendary pokemon** | {fp} | {tn}|\n",
    "\"\"\")"
   ]
  },
  {
   "cell_type": "markdown",
   "metadata": {},
   "source": [
    "#### Metrics\n",
    "De r^2 methode kan niet worden berekent omdat bij Logistische Regressie er geen 'residual' heeft om de score te berekenen. Hiervoor moet je de 'maximum likelihood' berekenen. Overige Metrics zoals de <i>Root Mean Squared Error</i> zeggen niks over het model omdat de waardes <i>binominaal</i> zijn: waar of niet waar. Het probleem ligt er dus in dat de waardes van de voorspellingen niet goed passen.\n",
    "\n",
    "<u>Er zijn methodes om een LR model te beoordelen.</u>\n",
    "1. ROC Curve (lift chart)\n",
    "2. classification matrix\n",
    "\n",
    "Deze methodes worden verder in de Evaluatie getoond en uitgelegd."
   ]
  },
  {
   "cell_type": "markdown",
   "metadata": {},
   "source": [
    "##### ROC curve\n",
    "\n",
    "In deze paragraaf wordt een ROC curve uitgewerkt van het model vergeleken met het gemiddelde (naive methodiek) van het LR_model, oftwel 50/50 en dus een lijn met een r.c. van 1 door de oorsprong. We gebruiken RandomTreesEmbedding om de data wat meer random te verdelen tijdens de het maken van de pipeline en dit model te trainen.\n",
    "\n",
    "RandomTreesEmbedding van de sci-kit-learn website:\n",
    "> An unsupervised transformation of a dataset to a high-dimensional sparse representation. A datapoint is coded according to which leaf of each tree it is sorted into. Using a one-hot encoding of the leaves, this leads to a binary coding with as many ones as there are trees in the forest.\n",
    "\n",
    "Waarom hier voor gekozen? Het doel is om de curve wat te laten worden bepaald op iets willekeurigs zodat als er een bias zit in de volgorde van de pokemons, wat zeer mogelijk kan zijn aangezien de legendaries altijd op het einde van de Pokémon dex staan. Dooruit dit document heb is steeds geprobeerd de volgorde te veranderen om de bias eruit te halen. Met RandomTreesEmbeding is dit hopelijk de laatste slag op de kop.\n",
    "\n",
    "De n_estimator staat op 10 omdat uit enkele keren handmatig testen deze waarde het meest op de beste curve uitkwam."
   ]
  },
  {
   "cell_type": "code",
   "execution_count": 17,
   "metadata": {},
   "outputs": [
    {
     "data": {
      "image/png": "[encoded data removed]",
      "text/plain": [
       "<Figure size 960x600 with 1 Axes>"
      ]
     },
     "metadata": {
      "needs_background": "light"
     },
     "output_type": "display_data"
    }
   ],
   "source": [
    "%matplotlib inline\n",
    "\n",
    "from sklearn.metrics import roc_curve\n",
    "from sklearn.pipeline import make_pipeline\n",
    "from sklearn.ensemble import RandomTreesEmbedding\n",
    "\n",
    "# constanten voor de plot\n",
    "n_estimator = 10\n",
    "\n",
    "# Unsupervised transformation based on totally random trees (RTE)\n",
    "rt = RandomTreesEmbedding(max_depth=3, n_estimators=n_estimator, random_state=0)\n",
    "\n",
    "pipeline = make_pipeline(rt, LR_model)\n",
    "pipeline.fit(X_train, y_train.values.ravel())\n",
    "y_pred_rt = pipeline.predict_proba(X_test)[:, 1]\n",
    "fpr_rt_lm, tpr_rt_lm, _ = roc_curve(y_test.values.ravel(), y_pred_rt.ravel())\n",
    "\n",
    "# opzetten van de grafiek\n",
    "plt.figure(figsize=(8,5), dpi=120)\n",
    "\n",
    "# plot de rechte lijn (naive bayes) en de roc curve van het LR_model\n",
    "plt.plot([0, 1], [0, 1], 'k--', label='')\n",
    "plt.plot(fpr_rt_lm, tpr_rt_lm, label='RTE + LR')\n",
    "\n",
    "# instellingen voor de grafiek\n",
    "plt.xlabel('False positive rate')\n",
    "plt.ylabel('True positive rate')\n",
    "plt.title('ROC curve')\n",
    "plt.legend(loc='lower right')\n",
    "\n",
    "# Toon de grafiek\n",
    "plt.tight_layout()\n",
    "plt.show()"
   ]
  },
  {
   "cell_type": "markdown",
   "metadata": {},
   "source": [
    "##### Classification Matrix"
   ]
  }
 ],
 "metadata": {
  "kernelspec": {
   "display_name": "Python 3",
   "language": "python",
   "name": "python3"
  },
  "language_info": {
   "codemirror_mode": {
    "name": "ipython",
    "version": 3
   },
   "file_extension": ".py",
   "mimetype": "text/x-python",
   "name": "python",
   "nbconvert_exporter": "python",
   "pygments_lexer": "ipython3",
   "version": "3.7.2"
  },
  "stem_cell": {
   "cell_type": "raw",
   "metadata": {
    "pycharm": {
     "metadata": false
    }
   },
   "source": ""
  }
 },
 "nbformat": 4,
 "nbformat_minor": 1
}
