{
  "cells": [
    {
      "cell_type": "markdown",
      "metadata": {
        "pycharm": {
          "metadata": false,
          "name": "#%% md\n"
        }
      },
      "source": [
        "# Logistische Regressie\n",
        "### Uitwerking en Evaluatie\n",
        "\n",
        "In deze notebook wordt met behulp van een dataset verkregen van Kaggle een uitwerking van logistische regressie\n",
        "uitgevoerd. De uitwerking wordt vergeleken met die van de naive methodiek om te toetsen hoe goed het model is.\n"
      ]
    },
    {
      "cell_type": "markdown",
      "metadata": {
        "pycharm": {
          "is_executing": false,
          "metadata": false,
          "name": "#%% md\n"
        }
      },
      "source": [
        "\u003cb\u003eFormules voor simpele logistische regressie:\u003c/b\u003e\n",
        "\n",
        "\\begin{equation}\n",
        "\\ p(x) \u003d \\frac{1}{1 + e^{-(\\beta_i x_i + {m_i})}}\n",
        "\\end{equation}\n",
        "\n",
        "\u003cu\u003eOf equivalent in odds:\u003c/u\u003e\n",
        "\n",
        "\\begin{equation}\n",
        "\\ odds \u003d e^{\\beta_i x_i + {m_i}}\n",
        "\\end{equation}\n",
        "\n",
        "\u003cu\u003eDe logit van de odds:\u003c/u\u003e\n",
        "\n",
        "\\begin{equation}\n",
        "\\ log(odds) \u003d \\beta_i x_i + {m_i}\n",
        "\\end{equation}\n",
        "\n",
        "\n",
        "\n",
        "\u003cb\u003eFormules voor multiple logistiche regressie\u003c/b\u003e\n",
        "\n",
        "\\begin{equation}\n",
        "\\ p(x) \u003d \\frac{1}{1 + e^{-(\\beta_0 x_i{_0} + \\beta_1 x_i{_1}... + \\beta_p x_i{_p} + {m_i})}}\n",
        "\\end{equation}\n",
        "\n",
        "\u003cu\u003eOf equivalent in odds:\u003c/u\u003e\n",
        "\n",
        "\\begin{equation}\n",
        "\\ odds \u003d e^{\\beta_0 x_i{_0} + \\beta_1 x_i{_1}... + \\beta_p x_i{_p} + {m_i}}\n",
        "\\end{equation}\n",
        "\n",
        "\u003cu\u003eDe logit van de odds: \u003c/u\u003e\n",
        "\n",
        "\\begin{equation}\n",
        "\\ log(odds) \u003d \\beta_0 x_i{_0} + \\beta_1 x_i{_1}... + \\beta_p x_i{_p} + {m_i}\n",
        "\\end{equation}"
      ]
    },
    {
      "cell_type": "markdown",
      "metadata": {
        "pycharm": {
          "metadata": false,
          "name": "#%% md\n"
        }
      },
      "source": [
        "Voordat aan de uitwerking en evaluatie kan worden begonnen zullen enkele libraries worden geimport.\n"
      ]
    },
    {
      "cell_type": "code",
      "execution_count": 1,
      "metadata": {
        "pycharm": {
          "is_executing": false
        }
      },
      "outputs": [],
      "source": [
        "import pandas as pd\n",
        "import numpy as np\n",
        "from sklearn.datasets import load_iris\n",
        "from sklearn.linear_model import LogisticRegression\n"
      ]
    },
    {
      "cell_type": "markdown",
      "metadata": {
        "pycharm": {
          "metadata": false,
          "name": "#%% md\n"
        }
      },
      "source": [
        "### Voorbeeld uitwerking\n",
        "Met de iris dataset van sci-kit-learn kunnen we een voorbeeld van Logistical Regression uitwerken. De data van X heeft\n",
        "meerdere attributen dus we doen bij het voorbeeld Multiple Logistiscal Regression.\n"
      ]
    },
    {
      "cell_type": "markdown",
      "metadata": {
        "pycharm": {
          "is_executing": false,
          "metadata": false,
          "name": "#%% md\n"
        }
      },
      "source": [
        "Als eerste initialiseren we de data en het LogisticRegression object.\n"
      ]
    },
    {
      "cell_type": "code",
      "execution_count": 2,
      "metadata": {
        "pycharm": {
          "is_executing": false,
          "metadata": false,
          "name": "#%%\n"
        }
      },
      "outputs": [],
      "source": [
        "data_X, data_y \u003d load_iris(return_X_y\u003dTrue)\n",
        "clf \u003d LogisticRegression(random_state\u003d0, solver\u003d\u0027lbfgs\u0027, multi_class\u003d\u0027multinomial\u0027)\n"
      ]
    },
    {
      "cell_type": "markdown",
      "metadata": {
        "pycharm": {
          "metadata": false,
          "name": "#%% md\n"
        }
      },
      "source": [
        "##### Trainen\n",
        "Het model is gebouwd, nu kunnen we data erop trainen via de .fit() methode.\n"
      ]
    },
    {
      "cell_type": "code",
      "execution_count": 3,
      "metadata": {
        "pycharm": {
          "is_executing": false,
          "metadata": false,
          "name": "#%%\n"
        }
      },
      "outputs": [
        {
          "name": "stderr",
          "output_type": "stream",
          "text": [
            "/Users/tim/Developer/Pycharm/Datascience-Opdrachten/venv/lib/python3.7/site-packages/sklearn/linear_model/logistic.py:947: ConvergenceWarning: lbfgs failed to converge. Increase the number of iterations.\n",
            "  \"of iterations.\", ConvergenceWarning)\n"
          ]
        },
        {
          "data": {
            "text/plain": [
              "LogisticRegression(C\u003d1.0, class_weight\u003dNone, dual\u003dFalse, fit_intercept\u003dTrue,\n",
              "                   intercept_scaling\u003d1, l1_ratio\u003dNone, max_iter\u003d100,\n",
              "                   multi_class\u003d\u0027multinomial\u0027, n_jobs\u003dNone, penalty\u003d\u0027l2\u0027,\n",
              "                   random_state\u003d0, solver\u003d\u0027lbfgs\u0027, tol\u003d0.0001, verbose\u003d0,\n",
              "                   warm_start\u003dFalse)"
            ]
          },
          "execution_count": 3,
          "metadata": {},
          "output_type": "execute_result"
        }
      ],
      "source": [
        "clf.fit(data_X, data_y)\n"
      ]
    },
    {
      "cell_type": "markdown",
      "metadata": {
        "pycharm": {
          "metadata": false,
          "name": "#%% md\n"
        }
      },
      "source": [
        "##### Voorspellen\n",
        "\n",
        "Nu kunnen we proberen te voorspellen met wat van de originele data:\n"
      ]
    },
    {
      "cell_type": "code",
      "execution_count": 4,
      "metadata": {
        "pycharm": {
          "is_executing": false,
          "metadata": false,
          "name": "#%%\n"
        }
      },
      "outputs": [
        {
          "data": {
            "text/plain": [
              "array([0, 0])"
            ]
          },
          "execution_count": 4,
          "metadata": {},
          "output_type": "execute_result"
        }
      ],
      "source": [
        "clf.predict(data_X[:2, :])\n"
      ]
    },
    {
      "cell_type": "markdown",
      "metadata": {
        "pycharm": {
          "metadata": false,
          "name": "#%% md\n"
        }
      },
      "source": [
        "Via de .predict_proba() methode kunnen we de probabilities van ieder attribuut zien van de eerste 2 twee cases.\n",
        "Er zijn 4 predictors dus is er per set van 2 een probability dus zijn er 3 probabilities\n"
      ]
    },
    {
      "cell_type": "code",
      "execution_count": 5,
      "metadata": {
        "pycharm": {
          "is_executing": false,
          "metadata": false,
          "name": "#%% \n"
        }
      },
      "outputs": [
        {
          "name": "stdout",
          "output_type": "stream",
          "text": [
            "[[5.1 3.5 1.4 0.2]\n",
            " [4.9 3.  1.4 0.2]]\n"
          ]
        },
        {
          "data": {
            "text/plain": [
              "array([[9.81802911e-01, 1.81970751e-02, 1.43580537e-08],\n",
              "       [9.71729527e-01, 2.82704429e-02, 3.00353141e-08]])"
            ]
          },
          "execution_count": 5,
          "metadata": {},
          "output_type": "execute_result"
        }
      ],
      "source": [
        "print(data_X[:2, :])\n",
        "clf.predict_proba(data_X[:2, :])\n"
      ]
    },
    {
      "cell_type": "markdown",
      "metadata": {
        "pycharm": {
          "metadata": false,
          "name": "#%% md\n"
        }
      },
      "source": [
        "\n",
        "##### Score\n",
        "\n",
        "Als laatst kunnen we de score bekijken van hoe goed het model werkt met een gegeven dataset.\n"
      ]
    },
    {
      "cell_type": "code",
      "execution_count": 6,
      "metadata": {
        "pycharm": {
          "is_executing": false,
          "metadata": false,
          "name": "#%%\n"
        }
      },
      "outputs": [
        {
          "data": {
            "text/plain": [
              "0.9733333333333334"
            ]
          },
          "execution_count": 6,
          "metadata": {},
          "output_type": "execute_result"
        }
      ],
      "source": [
        "clf.score(data_X, data_y)\n"
      ]
    },
    {
      "cell_type": "markdown",
      "metadata": {
        "pycharm": {
          "metadata": false,
          "name": "#%% md\n"
        }
      },
      "source": [
        "## Uitwerking dataset\n",
        "\n",
        "Er is gekozen voor een dataset van Kaggle: pokémon.\n",
        "\n",
        "Link naar dataset: https://www.kaggle.com/abcsds/pokemon/downloads/pokemon.zip/2\n",
        "\n",
        "Met deze dataset gaat worden geprobeerd te voorspellen of: \n",
        "\u003e \"\u003ci\u003eAfhankelijk van de stats van een pokémon, die pokémon als legendary kan worden geclassificeerd.\"\u003c/i\u003e\n",
        "\n",
        "Er zijn ook andere velden zoals de eerste en mogelijke tweede type van een pokémon. Deze worden echter niet meegenomen omdat niet alle pokemon een tweede type hebben, dit kan voor problemen in het model zorgen. \n"
      ]
    },
    {
      "cell_type": "code",
      "execution_count": 7,
      "metadata": {
        "pycharm": {
          "is_executing": false,
          "metadata": false,
          "name": "#%%\n"
        }
      },
      "outputs": [],
      "source": [
        "data \u003d pd.read_csv(\u0027data/pokemon.csv\u0027)\n",
        "data_indexed \u003d data.set_index(\u0027Name\u0027)\n",
        "data_sorted \u003d data.sort_values(\u0027Total\u0027)\n",
        "data_filterd \u003d data_sorted.filter([\u0027Total\u0027, \u0027Attack\u0027, \u0027Defense\u0027, \u0027Sp. Atk\u0027, \u0027Sp. Def\u0027, \u0027Speed\u0027, \u0027Legendary\u0027])"
      ]
    },
    {
      "cell_type": "markdown",
      "metadata": {
        "pycharm": {}
      },
      "source": [
        "##### Splitsen van data\n",
        "\n",
        "Nu de data uit het csv-bestand is gehaald kan de data gesplitst worden in X en y zoals te zien was in het voorbeeld. Deze X en y data kunnen we vervolgens in trainings en test data splitsen om het model te trainen en te testen."
      ]
    },
    {
      "cell_type": "code",
      "execution_count": 8,
      "metadata": {
        "pycharm": {}
      },
      "outputs": [
        {
          "data": {
            "text/html": [
              "\u003cdiv\u003e\n",
              "\u003cstyle scoped\u003e\n",
              "    .dataframe tbody tr th:only-of-type {\n",
              "        vertical-align: middle;\n",
              "    }\n",
              "\n",
              "    .dataframe tbody tr th {\n",
              "        vertical-align: top;\n",
              "    }\n",
              "\n",
              "    .dataframe thead th {\n",
              "        text-align: right;\n",
              "    }\n",
              "\u003c/style\u003e\n",
              "\u003ctable border\u003d\"1\" class\u003d\"dataframe\"\u003e\n",
              "  \u003cthead\u003e\n",
              "    \u003ctr style\u003d\"text-align: right;\"\u003e\n",
              "      \u003cth\u003e\u003c/th\u003e\n",
              "      \u003cth\u003eLegendary\u003c/th\u003e\n",
              "    \u003c/tr\u003e\n",
              "  \u003c/thead\u003e\n",
              "  \u003ctbody\u003e\n",
              "    \u003ctr\u003e\n",
              "      \u003cth\u003e206\u003c/th\u003e\n",
              "      \u003ctd\u003eFalse\u003c/td\u003e\n",
              "    \u003c/tr\u003e\n",
              "    \u003ctr\u003e\n",
              "      \u003cth\u003e322\u003c/th\u003e\n",
              "      \u003ctd\u003eFalse\u003c/td\u003e\n",
              "    \u003c/tr\u003e\n",
              "    \u003ctr\u003e\n",
              "      \u003cth\u003e446\u003c/th\u003e\n",
              "      \u003ctd\u003eFalse\u003c/td\u003e\n",
              "    \u003c/tr\u003e\n",
              "    \u003ctr\u003e\n",
              "      \u003cth\u003e288\u003c/th\u003e\n",
              "      \u003ctd\u003eFalse\u003c/td\u003e\n",
              "    \u003c/tr\u003e\n",
              "    \u003ctr\u003e\n",
              "      \u003cth\u003e16\u003c/th\u003e\n",
              "      \u003ctd\u003eFalse\u003c/td\u003e\n",
              "    \u003c/tr\u003e\n",
              "  \u003c/tbody\u003e\n",
              "\u003c/table\u003e\n",
              "\u003c/div\u003e"
            ],
            "text/plain": [
              "     Legendary\n",
              "206      False\n",
              "322      False\n",
              "446      False\n",
              "288      False\n",
              "16       False"
            ]
          },
          "execution_count": 8,
          "metadata": {},
          "output_type": "execute_result"
        }
      ],
      "source": [
        "data_X \u003d data_filterd.copy()\n",
        "data_y \u003d pd.DataFrame(data_X.pop(\u0027Legendary\u0027))\n",
        "data_y.head()"
      ]
    },
    {
      "cell_type": "code",
      "execution_count": 9,
      "metadata": {
        "pycharm": {}
      },
      "outputs": [
        {
          "data": {
            "text/html": [
              "\u003cdiv\u003e\n",
              "\u003cstyle scoped\u003e\n",
              "    .dataframe tbody tr th:only-of-type {\n",
              "        vertical-align: middle;\n",
              "    }\n",
              "\n",
              "    .dataframe tbody tr th {\n",
              "        vertical-align: top;\n",
              "    }\n",
              "\n",
              "    .dataframe thead th {\n",
              "        text-align: right;\n",
              "    }\n",
              "\u003c/style\u003e\n",
              "\u003ctable border\u003d\"1\" class\u003d\"dataframe\"\u003e\n",
              "  \u003cthead\u003e\n",
              "    \u003ctr style\u003d\"text-align: right;\"\u003e\n",
              "      \u003cth\u003e\u003c/th\u003e\n",
              "      \u003cth\u003eTotal\u003c/th\u003e\n",
              "      \u003cth\u003eAttack\u003c/th\u003e\n",
              "      \u003cth\u003eDefense\u003c/th\u003e\n",
              "      \u003cth\u003eSp. Atk\u003c/th\u003e\n",
              "      \u003cth\u003eSp. Def\u003c/th\u003e\n",
              "      \u003cth\u003eSpeed\u003c/th\u003e\n",
              "    \u003c/tr\u003e\n",
              "  \u003c/thead\u003e\n",
              "  \u003ctbody\u003e\n",
              "    \u003ctr\u003e\n",
              "      \u003cth\u003e206\u003c/th\u003e\n",
              "      \u003ctd\u003e180\u003c/td\u003e\n",
              "      \u003ctd\u003e30\u003c/td\u003e\n",
              "      \u003ctd\u003e30\u003c/td\u003e\n",
              "      \u003ctd\u003e30\u003c/td\u003e\n",
              "      \u003ctd\u003e30\u003c/td\u003e\n",
              "      \u003ctd\u003e30\u003c/td\u003e\n",
              "    \u003c/tr\u003e\n",
              "    \u003ctr\u003e\n",
              "      \u003cth\u003e322\u003c/th\u003e\n",
              "      \u003ctd\u003e190\u003c/td\u003e\n",
              "      \u003ctd\u003e20\u003c/td\u003e\n",
              "      \u003ctd\u003e40\u003c/td\u003e\n",
              "      \u003ctd\u003e20\u003c/td\u003e\n",
              "      \u003ctd\u003e40\u003c/td\u003e\n",
              "      \u003ctd\u003e20\u003c/td\u003e\n",
              "    \u003c/tr\u003e\n",
              "    \u003ctr\u003e\n",
              "      \u003cth\u003e446\u003c/th\u003e\n",
              "      \u003ctd\u003e194\u003c/td\u003e\n",
              "      \u003ctd\u003e25\u003c/td\u003e\n",
              "      \u003ctd\u003e41\u003c/td\u003e\n",
              "      \u003ctd\u003e25\u003c/td\u003e\n",
              "      \u003ctd\u003e41\u003c/td\u003e\n",
              "      \u003ctd\u003e25\u003c/td\u003e\n",
              "    \u003c/tr\u003e\n",
              "    \u003ctr\u003e\n",
              "      \u003cth\u003e288\u003c/th\u003e\n",
              "      \u003ctd\u003e195\u003c/td\u003e\n",
              "      \u003ctd\u003e45\u003c/td\u003e\n",
              "      \u003ctd\u003e35\u003c/td\u003e\n",
              "      \u003ctd\u003e20\u003c/td\u003e\n",
              "      \u003ctd\u003e30\u003c/td\u003e\n",
              "      \u003ctd\u003e20\u003c/td\u003e\n",
              "    \u003c/tr\u003e\n",
              "    \u003ctr\u003e\n",
              "      \u003cth\u003e16\u003c/th\u003e\n",
              "      \u003ctd\u003e195\u003c/td\u003e\n",
              "      \u003ctd\u003e35\u003c/td\u003e\n",
              "      \u003ctd\u003e30\u003c/td\u003e\n",
              "      \u003ctd\u003e20\u003c/td\u003e\n",
              "      \u003ctd\u003e20\u003c/td\u003e\n",
              "      \u003ctd\u003e50\u003c/td\u003e\n",
              "    \u003c/tr\u003e\n",
              "  \u003c/tbody\u003e\n",
              "\u003c/table\u003e\n",
              "\u003c/div\u003e"
            ],
            "text/plain": [
              "     Total  Attack  Defense  Sp. Atk  Sp. Def  Speed\n",
              "206    180      30       30       30       30     30\n",
              "322    190      20       40       20       40     20\n",
              "446    194      25       41       25       41     25\n",
              "288    195      45       35       20       30     20\n",
              "16     195      35       30       20       20     50"
            ]
          },
          "execution_count": 9,
          "metadata": {},
          "output_type": "execute_result"
        }
      ],
      "source": [
        "data_X.head()"
      ]
    },
    {
      "cell_type": "markdown",
      "metadata": {
        "pycharm": {}
      },
      "source": [
        "#### Opsplitsen in train en test data\n",
        "Nu de X en y data is gesplitst kunnen we de trainingsdata ervan maken via train_test_split() functie van sci-kit-learn. Deze wordt geimporteerd en toegepast op de X en y data. Hier komen vier variabelen uit:\n",
        "- Test en trainings data voor X\n",
        "- Test en trainings data voor y"
      ]
    },
    {
      "cell_type": "code",
      "execution_count": 10,
      "metadata": {
        "pycharm": {}
      },
      "outputs": [],
      "source": [
        "from sklearn.model_selection import train_test_split\n",
        "X_train, X_test, y_train, y_test \u003d train_test_split(data_X, data_y, test_size\u003d0.33)"
      ]
    },
    {
      "cell_type": "markdown",
      "metadata": {
        "pycharm": {}
      },
      "source": [
        "#### Aanmaken en trainen van het Model\n",
        "Net als in het voorbeeld moet het object voor de Logistische Regressie worden geinitaliseerd en worden getraind."
      ]
    },
    {
      "cell_type": "code",
      "execution_count": 11,
      "metadata": {
        "pycharm": {}
      },
      "outputs": [
        {
          "data": {
            "text/plain": [
              "array([[ 1.57115685e-02, -3.90608160e-03, -1.11137450e-05,\n",
              "         3.26778002e-03,  7.59290136e-03,  1.51721567e-02]])"
            ]
          },
          "execution_count": 11,
          "metadata": {},
          "output_type": "execute_result"
        }
      ],
      "source": [
        "from sklearn.linear_model import LogisticRegression\n",
        "LR_model \u003d LogisticRegression(solver\u003d\u0027lbfgs\u0027, multi_class\u003d\u0027multinomial\u0027)\n",
        "LR_model.fit(X_train.values, y_train.values.ravel())\n",
        "LR_model.coef_\n"
      ]
    },
    {
      "cell_type": "markdown",
      "metadata": {
        "pycharm": {}
      },
      "source": [
        "##### Score\n",
        "Sci-kit-learn heeft een ingebouwde .score() methode voor de Logistische Regressie model. Deze score wordt berekent door het aantal cases te bepalen die verkeerd zijn voorspelt en deze eruit te halen, deze grote van deze populatie wordt met het totaal gedeeld en daar komt dus een waarde tussen de 0 en 1 uit. "
      ]
    },
    {
      "cell_type": "code",
      "execution_count": 12,
      "metadata": {
        "pycharm": {}
      },
      "outputs": [
        {
          "name": "stdout",
          "output_type": "stream",
          "text": [
            "De score van het LR_model is: 93.56% (0.9356)\n"
          ]
        }
      ],
      "source": [
        "score \u003d LR_model.score(X_test.values, y_test.values.ravel())\n",
        "print(f\"De score van het LR_model is: {score*100:.2f}% ({score:.4f})\")"
      ]
    },
    {
      "cell_type": "markdown",
      "metadata": {
        "pycharm": {}
      },
      "source": [
        "De score tussen 90% en 97% (variërend op de splitsing van de data) houdt dus in dat in deze range van de gevallen het model een goeie voorspelling doet."
      ]
    },
    {
      "cell_type": "markdown",
      "metadata": {
        "pycharm": {}
      },
      "source": [
        "##### Inkijk op de data\n",
        "\n",
        "Zoals te zien met behulp van de .head() methode van geconstructeerde Dataframe van test waardes en de voorspellingen, is te zien dat ook niet legendaries goed worden voorspeld. Kort gezegd heeft het model ergens een omklap waarde voor wanneer een pokémon als legendary wordt geclassificeerd.\n",
        "\n",
        "In de volgende paragraaf worden de resultaten visueel getoond in een plot."
      ]
    },
    {
      "cell_type": "code",
      "execution_count": 13,
      "metadata": {
        "pycharm": {}
      },
      "outputs": [
        {
          "data": {
            "text/html": [
              "\u003cdiv\u003e\n",
              "\u003cstyle scoped\u003e\n",
              "    .dataframe tbody tr th:only-of-type {\n",
              "        vertical-align: middle;\n",
              "    }\n",
              "\n",
              "    .dataframe tbody tr th {\n",
              "        vertical-align: top;\n",
              "    }\n",
              "\n",
              "    .dataframe thead th {\n",
              "        text-align: right;\n",
              "    }\n",
              "\u003c/style\u003e\n",
              "\u003ctable border\u003d\"1\" class\u003d\"dataframe\"\u003e\n",
              "  \u003cthead\u003e\n",
              "    \u003ctr style\u003d\"text-align: right;\"\u003e\n",
              "      \u003cth\u003e\u003c/th\u003e\n",
              "      \u003cth\u003eLegendary\u003c/th\u003e\n",
              "      \u003cth\u003eVoorspelling LR\u003c/th\u003e\n",
              "    \u003c/tr\u003e\n",
              "  \u003c/thead\u003e\n",
              "  \u003ctbody\u003e\n",
              "    \u003ctr\u003e\n",
              "      \u003cth\u003e790\u003c/th\u003e\n",
              "      \u003ctd\u003eFalse\u003c/td\u003e\n",
              "      \u003ctd\u003eFalse\u003c/td\u003e\n",
              "    \u003c/tr\u003e\n",
              "    \u003ctr\u003e\n",
              "      \u003cth\u003e20\u003c/th\u003e\n",
              "      \u003ctd\u003eFalse\u003c/td\u003e\n",
              "      \u003ctd\u003eFalse\u003c/td\u003e\n",
              "    \u003c/tr\u003e\n",
              "    \u003ctr\u003e\n",
              "      \u003cth\u003e414\u003c/th\u003e\n",
              "      \u003ctd\u003eTrue\u003c/td\u003e\n",
              "      \u003ctd\u003eFalse\u003c/td\u003e\n",
              "    \u003c/tr\u003e\n",
              "    \u003ctr\u003e\n",
              "      \u003cth\u003e605\u003c/th\u003e\n",
              "      \u003ctd\u003eFalse\u003c/td\u003e\n",
              "      \u003ctd\u003eFalse\u003c/td\u003e\n",
              "    \u003c/tr\u003e\n",
              "    \u003ctr\u003e\n",
              "      \u003cth\u003e782\u003c/th\u003e\n",
              "      \u003ctd\u003eFalse\u003c/td\u003e\n",
              "      \u003ctd\u003eFalse\u003c/td\u003e\n",
              "    \u003c/tr\u003e\n",
              "  \u003c/tbody\u003e\n",
              "\u003c/table\u003e\n",
              "\u003c/div\u003e"
            ],
            "text/plain": [
              "     Legendary  Voorspelling LR\n",
              "790      False            False\n",
              "20       False            False\n",
              "414       True            False\n",
              "605      False            False\n",
              "782      False            False"
            ]
          },
          "execution_count": 13,
          "metadata": {},
          "output_type": "execute_result"
        }
      ],
      "source": [
        "predictions \u003d LR_model.predict(X_test)\n",
        "predictions_df \u003d y_test.copy()\n",
        "predictions_df[\u0027Voorspelling LR\u0027] \u003d predictions\n",
        "predictions_df.head()"
      ]
    },
    {
      "cell_type": "markdown",
      "metadata": {
        "pycharm": {}
      },
      "source": [
        "##### De voorspelling visualiseren\n",
        "Om een betere grip op het model te krijgen worden de resultaten van het model geplot door middel van MatPlotLib en twee scatter plots."
      ]
    },
    {
      "cell_type": "code",
      "execution_count": 14,
      "metadata": {
        "pycharm": {}
      },
      "outputs": [
        {
          "data": {
            "image/png": "iVBORw0KGgoAAAANSUhEUgAABbEAAAFFCAYAAADSCqA8AAAABHNCSVQICAgIfAhkiAAAAAlwSFlzAAASdAAAEnQB3mYfeAAAADh0RVh0U29mdHdhcmUAbWF0cGxvdGxpYiB2ZXJzaW9uMy4xLjAsIGh0dHA6Ly9tYXRwbG90bGliLm9yZy+17YcXAAAgAElEQVR4nOzde5Bc130f+O/pngcGQ4AARIBPkBTIJcWQevghyRQZW1YsbiqrxNYjsjeJX3HK61W57LUdOZvEG8erZF1W5HgdZ10V7XpLUeJEtqTYysOxRUdyHNkSpbX1Ik2RoiCQEAkSBAESw8E8u8/+0QNoOJgBmo0ZzO3B51M1BfJ033N/t+95za/v3FtqrQEAAAAAgCZqbXYAAAAAAACwFklsAAAAAAAaSxIbAAAAAIDGksQGAAAAAKCxJLEBAAAAAGgsSWwAAAAAABpLEhsAAAAAgMaSxAYAAAAAoLEksQEAAAAAaCxJbAAAAAAAGmtkswNYD6WUy5N8W5LDSeY3ORwAAAAAAFY3lmR/kv9aa32unw22RBI7vQT2RzY7CAAAAAAA+vKdSf59P2/cKknsw0ny27/927n55ps3OxYAAAAAAFbxyCOP5Lu+67uSpZxuP7ZKEns+SW6++ebcfvvtmx0LAAAAAADn1vdtoT3YEQAAAACAxpLEBgAAAACgsSSxAQAAAABoLElsAAAAAAAaSxIbAAAAAIDGksQGAAAAAKCxRgbdsJRyWZJ3Jnltktck2Z3kB2ut7+tz+11J3p3kzUm2J/l0kp+qtf7poDFxfp1uN4dPnszMwkImRkezf+fOtFsb/F1Gp5McPpzMzCQTE8n+/Um7vbH75NKyWhtLGtvuOgsLOfLgg5mbmsr4jh25+rbb0h4d3eywht6mjG8DGqY2MEyxXpBNmKsuiTm5z/1dMu1sPQ14Ljf8s14lrk63O9g+rSFJg8aHYW+PGxh/Y87ROtqKx9QUw7RmZx00eOxc137e4OPcSgZOYie5Isk/SPJYks8neX2/G5ZSWkn+U5JXJvknSY4leUeSPyilfFOt9csXEBer6HS7+cRjj+WPv/a1HDpxIvOdTsba7bx09+7ced11ufv669d/4uh0kk98IvnjP04OHUrm55OxseSlL03uvDO5+26dmguzWhsbGUlKSWrtvWdxsTHtrrOwkC9++MM58fGPp/3ooynz86ljY/nyjTdm9+tfn5e/9a0WxwPYlPFtQMPUBoYp1guyCXPVJTEn97m/S6adracBz+WGf9arxNVtt3NkejpPPf98np+bS1lc7G+f1pCkQfPQsLfHDYy/MedoHW3FY2qKYVqzsw4aPHauaz9v8HFuRaWeTvS82A1LGU+yu9b6ZCnlm5N8Jn1eiV1KeXuS30jyV2utH1oq25vk4ST/udb6115kLLcnuf/+++/P7bff/iKPZOvrdLv5wP335/cPHszR6ensnZzMxMhIZhYX8/T0dPZNTuaNN92U77799vWbNDqd5AMfSH7/95OjR5O9e3vfRs3MJE8/nezbl7zxjcl3f7cOzWBWa2Pj48mDDyYHD/bec+BActttydzcpre7zsJCPvWe96R7773Zdvx4ZvfsSXfbtrRmZ8/8f+uee/ItP/VTFsYvwqaMb4PGOkRtYJhivSCbMFddEnNyn/vrvOUt+dQv/dLWb2fracBzueF9epW4umNjefpP/iSjhw6lU2ueufrqHN2/P2V+/tz7tIYkDZqHhr09bmD8jTlH62grHlNTDNOanXXQ4LFzXft5g49zGDzwwAO54447kuSOWusD/Wwz8JXYtda5JE8OuPnbkjyV5N8tq+/pUspvJvkbpZTxpfpZB5947LH8/sGDObW4mG+65pq0Sjnz2vWXX56Hnnkm937lK7lu58586w03rNNOP9HryKdOJd/0Tcnyiej665OHHkruvTe57rrkW791ffbJpWW1NnboUHLyZHL55b0rsU+e7H0TeuONm97uvvjhD6d7771pzc3l+Ze/PGVpEuskef7aazN28GC6H/1o7j9wIK98+9svamzDbFPGtwENUxsYplgvyCbMVZfEnNzn/g4+9FC6/+2/bf12tp4GPJcb3qdXieup++/P/PHjmZuYyHi7ncvn5jKT5Lnrrz/3Pq0hSYPmoWFvjxsYf2PO0TraisfUFMO0ZmcdNHjsXNd+3uDj3Ko26yuub0jyp7XW7oryT6d3f+xbLn5IW1On280ff+1rOTo9nVtf8pIXTBZJ0iolt77kJTk6PZ1PHj6cTnflKRlkp53en1IcPZrceusLO3LS+/9bb+29/slP9t4PL8ZqbazbTb72tWR6Orniit63oNPTvftSdbub2u46Cws58fGPZ9vx45k/cODMRHlaabczf+BAth0/nhMf+1g6CwsXLbZhtinj24CGqQ0MU6wXZBPmqktiTu5zf90nn0zrd3832555Zmu3s/U04Lnc8D69SlzdTiezX/1qRmZm0tmzJzO7dmVsdjY7n3466XbX3qc1JGnQPDTs7XED42/MOVpHW/GYmmKY1uysgwaPnevazxt8nFvZZiWxr05yZJXy02XXrLVhKWVfKeX25T9JbtqIILeCwydP5tCJE9k7OXnWZHFaq5TsnZzMwRMncvjkyXXY6eHeFbF7957dkc/stNV7/eDB3vvhxVitjZ08mZw4kUxO9u6JXUrvv0+c6L2WbFq7O/Lgg2k/+mhm9+w5a6I8rbTbvT9dOnQoRx588KLFNsw2ZXwb0DC1gWGK9YJswlx1SczJfe7v1Ohotj/xRDI5ubXb2Xoa8FxueJ9eJa7njx1L69lnszgxkdJqJaVkftu2TExNZdupU2vv0xqSNGgeGvb2uIHxN+YcraOteExNMUxrdtZBg8fOde3nDT7OrexCHux4ISaSrHa7kNllr6/lHUl+dt0j2qJmFhYy3+lkYuTcp3piZCSzi4uZWY9vlGdmerdwmDjXaUzv9dnZ3vvhxVitjS0s9L7dXN7WR0Z6D3Zc3q43od3NTU2lzM+nu23bOd/XHR9Pa24uc1NTFymy4bYp49uAhqkNDFOsF2QT5qpLYk7uc3+LrVbK4uJ57w849O1sPQ14Lje8T68S1+LcXNLtpi5r6912O61OJ63FxbX3aQ1JGjQPDXt73MD4G3OO1tFWPKamGKY1O+ugwWPnuvbzBh/nVrZZSeyZJOOrlG9b9vpafjXJB1eU3ZTkI+sQ15YzMTqasXY7M8t+YVjNzOJixtvtTKzHAyomJnpPYz1fJ52Z6T2I73ydHlZarY2NjvaSIcvb+ukEyfJ2vQntbnzHjtSxsbRmZ3OuPyJqzc2ljo1lfMeOixbbMNuU8W1Aw9QGhinWC7IJc9UlMSf3ub+R0wnO8/xp5dC3s/U04Lnc8D69Slwj4+PJ0hcVpx8h3+p0UlutdJclMc7apzUkadA8NOztcQPjb8w5Wkdb8ZiaYpjW7KyDBo+d69rPG3ycW9lm3U7kSHq3FFnpdNkTa21Yaz1aa31g+U+Sr2xEkFvB/p07c+Pu3Xl6ejrdWld9T7fWPD09nQO7d2f/zp3rsNP9vQfpLd33cPWddnuvHzjQez+8GKu1sZ07k927e/fBrrX3Mz3dKzvdrjep3V19223p3HBDth0/nrpGwqZ2Otl2/Hi6N96Yq2+77aLFNsw2ZXwb0DC1gWGK9YJswlx1SczJfe5v+8JCTl1zTTI9vbXb2Xoa8FxueJ9eJa7Lrrgi3V27MjIzk9rtJrVmbHY2Mzt2ZHb79rX3aQ1JGjQPDXt73MD4G3OO1tFWPKamGKY1O+ugwWPnuvbzBh/nVrZZSezPJfnGUsrK/b82yakkD1/8kLamdquV1113XfZNTuahZ545a9Lo1pqHnnkm+yYnc+f+/WmvdS+fF7XTdvK61yX79vWexrqyQ3e7vfJ9+5I77zzvnxLDWVZrY61W76m/k5PJsWO9yWJysjdZnH7w4ya1u/boaHZ/+7dnds+ejB08eNaEWTudjB08mNk9e7L7DW9I29UHfdmU8W1Aw9QGhinWC7IJc9UlMSf3ub/WVVel+xf/YmZf8pKt3c7W04DncsP79CpxtdrtbHvpS7M4MZH28eOZePbZzG/blpNL941cc5/WkKRB89Cwt8cNjL8x52gdbcVjaophWrOzDho8dq5rP2/wcW5lG347kVLK1UkuT/KVWuvpmxt9KMnbkrxl6b9TSrkiyV9N8h9qravdL5sB3X399Xl8air3fuUr+ZMnnsjeyclMjIxkZnExT09PZ9/kZN540025az2/Gbr77uTxx5N7703+5E96N7OfmOj9KcXTT/c68hvfmNx11/rtk0vLam1sfLx31fXBg733HDjQ+xOfQ4c2vd29/K1vzacOHUr3ox/NZV/8Ymb37Dlzr61tx4/3Hh5xzz25481vvuixDbNNGd8GNExtYJhivSCbMFddEnNyn/s78Ja35OjExNZvZ+tpwHO54X16lbiu3LMnT+/Zk9FDh9KpNSeuvjpTSdqPPXbufVpDkgbNQ8PeHjcw/saco3W0FY+pKYZpzc46aPDYua79vMHHuVWVusafc/S1cSk/mmRXkmuS/M9J/l2Szy69/Cu11udKKe9L8v1JXlprPbS0XTvJJ5LckeSfJDmW3gMbr0/y6lrrQy8yjtuT3H///ffn9ttvH/h4trJOt5s/Onw4nzx8OAdPnMh8p5OxdjsHdu/Onfv3566N+Maz00n+6I+ST36yl1Scn+8lFA8c6H0Tddddvo3iwqzWxkZGvv504Fp7D3VsSLvrLCzk/t/6rZz42MfSOnQoZX4+dWws3RtvzO43vCF3vPnNruoYwKaMbwMapjYwTLFekE2Yqy6JObnP/V0y7Ww9DXguN/yzXiWubrudJ2dm8tTzz2dqdjZlYaG/fVpDkgbNQ8PeHjcw/saco3W0FY+pKYZpzc46aPDYua79vMHH2XQPPPBA7rjjjiS5Y+lW0ed1oUnsQ0luWOPll9ZaD62WxF7adnd6CezvSjKR5DNJ/nat9f8bIA5J7D51ut0cPnkyMwsLmRgdzf6dOzd+ouh0ksOHe99GTUz0bu+gE7OeVmtjSWPbXWdhIUcefDBzU1MZ37EjV992m8XwOtiU8W1Aw9QGhinWC7IJc9UlMSf3ub9Lpp2tpwHP5YZ/1qvE1el2B9unNSRp0Pgw7O1xA+NvzDlaR1vxmJpimNbsrIMGj53r2s8bfJxNddGT2E0hiQ0AAAAA0HyDJLF93QUAAAAAQGNJYgMAAAAA0FiS2AAAAAAANJYkNgAAAAAAjSWJDQAAAABAY0liAwAAAADQWJLYAAAAAAA0liQ2AAAAAACNJYkNAAAAAEBjSWIDAAAAANBYktgAAAAAADSWJDYAAAAAAI0liQ0AAAAAQGNJYgMAAAAA0FiS2AAAAAAANJYkNgAAAAAAjSWJDQAAAABAY0liAwAAAADQWJLYAAAAAAA0liQ2AAAAAACNJYkNAAAAAEBjSWIDAAAAANBYktgAAAAAADSWJDYAAAAAAI0liQ0AAAAAQGNJYgMAAAAA0FiS2AAAAAAANJYkNgAAAAAAjSWJDQAAAABAY0liAwAAAADQWJLYAAAAAAA0liQ2AAAAAACNJYkNAAAAAEBjSWIDAAAAANBYktgAAAAAADTWwEnsUsp4KeUXSilPlFJmSin3lVLe2Oe231FK+Xgp5Vgp5dlSyqdLKd87aCwAAAAAAGxNF3Il9vuS/GSSX0/y40k6SX6nlHL3uTYqpfyVJB9NMpbkHyb5+0lmkry/lPITFxAPAAAAAABbzMggG5VSXpPke5K8s9b6nqWy9ye5P8m7k7zuHJv/aJIjSd5Qa51b2vZfJPlSkh9I8kuDxAQAAAAAwNYz6JXYb0vvyuv3ni6otc4m+bUkd5ZS9p9j251JTpxOYC9tu5jkWHpXZAMAAAAAQJIBr8RO8g1JHq61nlxR/umlf1+V5PAa2/5Bkr9TSnlXkn+ZpCb5a0m+Ocnbz7fjUsq+JHtXFN/UX9gAAAAAAAyTQZPYV6d3S5CVTpddc45t35XkpendC/tnlspOJXlrrfUjfez7HUl+ts84AQAAAAAYYoMmsSeSzK1SPrvs9bXMJXk4yYeS/Lsk7SQ/nORfl1LeWGv91Hn2/atJPrii7KYk/STAAQAAAAAYIoMmsWeSjK9Svm3Z62v550m+Jck31lq7SVJK+c0kDyT55SSvPdeOa61HkxxdXlZK6S9qAAAAAACGyqAPdjyS3i1FVjpd9sRqG5VSxpL8UJL/dDqBnSS11oUk/znJNy+9BwAAAAAABk5ify7JLaWUnSvKX7vs9dW8JL2rv9urvDa6FM9qrwEAAAAAcAkaNIn9oXz9XtZJklLKeJIfTHJfrfXwUtn1pZSXLdvuaJJnk7x5+RXXpZTLkvzlJF+qtZ7rViQAAAAAAFxCBrondq31vlLKB5P8fCllX5JHknx/khvTu13Iae9P8m1JytJ2nVLKe5L8oySfKqW8P71k+A8luS7J3xjwOAAAAAAA2IIGfbBjknxfkncl+d4ku5N8Icmbaq1/eK6Naq3/uJTy1SQ/nuRn03tA5BeSvK3W+uELiAcAAAAAgC1m4CR2rXU2yTuXftZ6z+vXKP83Sf7NoPsGAAAAAODSMOg9sQEAAAAAYMNJYgMAAAAA0FiS2AAAAAAANJYkNgAAAAAAjSWJDQAAAABAY0liAwAAAADQWJLYAAAAAAA0liQ2AAAAAACNJYkNAAAAAEBjSWIDAAAAANBYktgAAAAAADSWJDYAAAAAAI0liQ0AAAAAQGNJYgMAAAAA0FiS2AAAAAAANJYkNgAAAAAAjSWJDQAAAABAY0liAwAAAADQWJLYAAAAAAA0liQ2AAAAAACNJYkNAAAAAEBjSWIDAAAAANBYktgAAAAAADSWJDYAAAAAAI0liQ0AAAAAQGNJYgMAAAAA0FiS2AAAAAAANJYkNgAAAAAAjSWJDQAAAABAY0liAwAAAADQWJLYAAAAAAA0liQ2AAAAAACNJYkNAAAAAEBjSWIDAAAAANBYAyexSynjpZRfKKU8UUqZKaXcV0p544vY/rtLKZ8spUyXUp4tpfxxKeUNg8YDAAAAAMDWcyFXYr8vyU8m+fUkP56kk+R3Sil3n2/DUso/TPJvkxxequNnknwhybUXEA8AAAAAAFvMyCAblVJek+R7kryz1vqepbL3J7k/ybuTvO4c235Lkn+Q5Kdqrb80yP4BAAAAALg0DHol9tvSu/L6vacLaq2zSX4tyZ2llP3n2PZ/SfJkkl8uPZcNGAMAAAAAAFvcoEnsb0jycK315IryTy/9+6pzbPsXknwmyY8leTrJVCnlSCnlR/vZcSllXynl9uU/SW56kfEDAAAAADAEBrqdSJKrkxxZpfx02TWrbVRK2Z3kiiR3JXlDkp9L8liSH0zyK6WUhVrrvzjPvt+R5GcHCRoAAAAAgOEyaBJ7IsncKuWzy15fzelbh7wkyffUWn8jSUopH0ryxfQe8Hi+JPavJvngirKbknzkPNsBAAAAADBkBk1izyQZX6V827LX19ouSRaSfOh0Ya21W0r5jSQ/V0q5vtb62Fo7rrUeTXJ0eVkppd+4AQAAAAAYIoPeE/tIercUWel02RNrbHc8vau1n6m1dla8djoxvXvAmAAAAAAA2GIGTWJ/LsktpZSdK8pfu+z1s9Rau0uv7S2ljK14+fR9tJ8eMCYAAAAAALaYQZPYH0rSTvLDpwtKKePpPaDxvlrr4aWy60spL1ux7W8sbfv9y7bdluSvJ/mzWutaV3EDAAAAAHCJGeie2LXW+0opH0zy86WUfUkeSS8pfWOSH1r21vcn+bYky29a/S+S/K0k/1cp5ZYkjyX53iQ3JPnLg8QDAAAAAMDWNOiDHZPk+5K8K70E9O4kX0jyplrrH55ro1rrTCnlDUneneRvJplM7xYj/0Ot9fcuIB4AAAAAALaYgZPYtdbZJO9c+lnrPa9fo/xokh8YdN8AAAAAAFwaBr0nNgAAAAAAbDhJbAAAAAAAGksSGwAAAACAxpLEBgAAAACgsSSxAQAAAABoLElsAAAAAAAaSxIbAAAAAIDGksQGAAAAAKCxJLEBAAAAAGgsSWwAAAAAABpLEhsAAAAAgMaSxAYAAAAAoLEksQEAAAAAaCxJbAAAAAAAGksSGwAAAACAxpLEBgAAAACgsSSxAQAAAABoLElsAAAAAAAaSxIbAAAAAIDGksQGAAAAAKCxJLEBAAAAAGgsSWwAAAAAABpLEhsAAAAAgMaSxAYAAAAAoLEksQEAAAAAaCxJbAAAAAAAGksSGwAAAACAxpLEBgAAAACgsSSxAQAAAABoLElsAAAAAAAaSxIbAAAAAIDGksQGAAAAAKCxJLEBAAAAAGgsSWwAAAAAABpr4CR2KWW8lPILpZQnSikzpZT7SilvHKCee0sptZTyzweNBQAAAACArelCrsR+X5KfTPLrSX48SSfJ75RS7u63glLKW5LceQExAAAAAACwhQ2UxC6lvCbJ9yT5u7XWd9Za35vkDUkeTfLuPuvYluQXk/zCIDEAAAAAALD1DXol9tvSu/L6vacLaq2zSX4tyZ2llP191PHTS/t/z4AxAAAAAACwxQ2axP6GJA/XWk+uKP/00r+vOtfGpZTrk/yvSf5OrXVmwBgAAAAAANjiRgbc7uokR1YpP112zXm2/8Ukn621fuDF7riUsi/J3hXFN73YegAAAAAAaL5Bk9gTSeZWKZ9d9vqqSinfnuStSV474L7fkeRnB9wWAAAAAIAhMmgSeybJ+Crl25a9fpZSykiSf5bkX9VaPzPgvn81yQdXlN2U5CMD1gcAAAAAQEMNmsQ+kuTaVcqvXvr3iTW2+74ktyb5n0opN654bcdS2dFa66m1dlxrPZrk6PKyUsp5AwYAAAAAYPgM+mDHzyW5pZSyc0X5a5e9vprrk4wm+aMkX132k/QS3F9Ncs+AMQEAAAAAsMUMeiX2h5L87SQ/nOQ9SVJKGU/yg0nuq7UeXiq7Psn2WuuXlrb7QFZPcP9Wkt9J8n8nuW/AmAAAAAAA2GIGSmLXWu8rpXwwyc+XUvYleSTJ9ye5MckPLXvr+5N8W5KytN2XknwpKyzdDuSrtdbfHiQeAAAAAAC2pkGvxE56t/94V5LvTbI7yReSvKnW+ofrERgAAAAAAAycxK61ziZ559LPWu95fZ91eTIjAAAAAABnGfTBjgAAAAAAsOEksQEAAAAAaCxJbAAAAAAAGksSGwAAAACAxpLEBgAAAACgsSSxAQAAAABoLElsAAAAAAAaSxIbAAAAAIDGksQGAAAAAKCxJLEBAAAAAGgsSWwAAAAAABpLEhsAAAAAgMaSxAYAAAAAoLEksQEAAAAAaCxJbAAAAAAAGksSGwAAAACAxpLEBgAAAACgsSSxAQAAAABoLElsAAAAAAAaSxIbAAAAAIDGksQGAAAAAKCxJLEBAAAAAGgsSWwAAAAAABpLEhsAAAAAgMaSxAYAAAAAoLEksQEAAAAAaCxJbAAAAAAAGksSGwAAAACAxpLEBgAAAACgsSSxAQAAAABoLElsAAAAAAAaSxIbAAAAAIDGksQGAAAAAKCxJLEBAAAAAGisgZPYpZTxUsovlFKeKKXMlFLuK6W8sY/t3lJK+Y1SysFSyqlSykOllF8spewaNBYAAAAAALamC7kS+31JfjLJryf58SSdJL9TSrn7PNu9N8ltSf51kh9L8rtJfjTJJ0spExcQDwAAAAAAW8zIIBuVUl6T5HuSvLPW+p6lsvcnuT/Ju5O87hybv63W+gcr6vuTJP8yyV9P8v8MEhMAAAAAAFvPoFdivy29K6/fe7qg1jqb5NeS3FlK2b/WhisT2Et+a+nf2waMBwAAAACALWjQJPY3JHm41npyRfmnl/591Yus76qlf48NGA8AAAAAAFvQQLcTSXJ1kiOrlJ8uu+ZF1vd30ruy+0Pne2MpZV+SvSuKb3qR+wMAAAAAYAgMmsSeSDK3Svnsstf7Ukr5a0l+KMm7a61f7mOTdyT52X7rBwAAAABgeA2axJ5JMr5K+bZlr59XKeXPp3cf7d9L8vf73PevJvngirKbknykz+0BAAAAABgSgyaxjyS5dpXyq5f+feJ8FZRSXpnk3ye5P8nbaq2L/ey41no0ydEVdfWzKQAAAAAAQ2bQBzt+LsktpZSdK8pfu+z1NZVSbkryu+klo/9SrfX5AeMAAAAAAGALGzSJ/aEk7SQ/fLqglDKe5AeT3FdrPbxUdn0p5WXLNyylXJXko0m6Sf77WuvTA8YAAAAAAMAWN9DtRGqt95VSPpjk50sp+5I8kuT7k9yY3kMaT3t/km9Lsvx+H7+b5ECSdye5u5Ry97LXnqq13jtITAAAAAAAbD2D3hM7Sb4vybuSfG+S3Um+kORNtdY/PM92r1z696dXee2/JpHEBgAAAAAgyQUksWuts0neufSz1ntev0qZpzACAAAAANCXQe+JDQAAAAAAG04SGwAAAACAxpLEBgAAAACgsSSxAQAAAABoLElsAAAAAAAaSxIbAAAAAIDGksQGAAAAAKCxJLEBAAAAAGgsSWwAAAAAABpLEhsAAAAAgMaSxAYAAAAAoLEksQEAAAAAaCxJbAAAAAAAGksSGwAAAACAxpLEBgAAAACgsSSxAQAAAABoLElsAAAAAAAaSxIbAAAAAIDGksQGAAAAAKCxJLEBAAAAAGgsSWwAAAAAABpLEhsAAAAAgMaSxAYAAAAAoLEksQEAAAAAaCxJbAAAAAAAGksSGwAAAACAxpLEBgAAAACgsSSxAQAAAABoLElsAAAAAAAaSxIbAAAAAIDGksQGAAAAAKCxJLEBAAAAAGgsSWwAAAAAABpLEhsAAAAAgMYaGXTDUsp4kv89yfcm2Z3kC0l+ptZ6bx/bXpvkl5Lck14i/eNJfqLWenDQeC51nYWFHHnwwcxNTWV8x45cfdttSXJWWbvVSg4fTmZmkomJZP/+dLrd82677+abc/SRR85b/6pl7XYOnzyZmYWFTIyOZv/OnUmns37191Gm/i1e/6235omZmRe2seS87W6z4m+Pjg7Ufxv7+Tek/k0Z3waMf2UbuJB2sNHxb3SbbUr76WeuWu/4+2mz6+u+N/UAACAASURBVP75rDjOayYmcvShhy7u+LzK5zpon2hM+9mM+gdcX234+LNKXO3W2dfN9HV++2w/W/L8qr9548PFHj+HLP6ttlYYprXasNW/cv3TueqqHHn44aGJX/0bsxbcjPj76ecb/bvEWnGwulJrHWzDUv5tkrcl+T+TfDnJDyR5dZJvr7V+4hzbXZbkT5NcnuQXkywk+YkkJcmraq3PDBDL7Unuv//++3P77be/2M2HWmdhIV/88Idz4uMfT/vRR1Pm59MdGUlKSZKUWlMWF1NHR7NjfDxXbt+eq3bsSGtxMd12O0emp/PU88/n+bm5lMXFs7ddWMjYs8/23j86mvnLL093dPSs+lfbZ3d0NMeuuioHX/ayfPllL8tCKRmtNbd86Ut56YMP5oqnnkprfn7w+vspu5D41d/8+hcXM53k8SuuyCO33pojr3xlRsfGUkpJTZJas9jtnt3uFhY2Jf46NpbOjTdm9+tfn5e/9a1J0lf/bezn35D6N2V8GzD+Oj7+gjbQHh3texzfjP61oW22Ie2nr7lqtTHjAuLvq82u9+ez4jjnO51c/fnP5+aHHsq1x45lMlnf8WeV8Xms3T7rc13ZxvruE01pP5tR/4Drqw0ff8bGzoprrN3OS3fvzp3XXZe7r78+7Var733203625PlV/5pz0KaNDxd7/Byy+LfaWmGo1mpDVv/K9U/m5nL8iSfy3NRUnq81U5OT6TQ4fvW/+LKmzuV9zS9zcxv7u8QacVxKHnjggdxxxx1Jcket9YF+timDJLFLKa9Jcl+Sd9Za37NUti3J/UmO1lpfd45tfzrJLyR5Ta31M0tlL1va9t211r83QDyXZBK7s7CQT73nPenee2+2HT+e2T170hkby66DB7PvqaeSUnJ0374899KX5srDh/OSJ59Mu5Qs3HhjrviGb8ixz342o4cOpVNrnrn66jx13XW5/KtfPbPtU3v3pjs6mpccPZrJ2dlMb9uWY3v3ZmRxMfuOHj1T/7MvfWl2Ldvu6L59efbAgZyamsr48eM5dtlleegbvzGP33NPrvu938stn/1srnj++czt3p0rn312sPr7KLug+NXf/Pr37cvha6/NwqlT2XnyZJ7buTMPvepV+eirX52vnDyZJDmwe3detnt39v/O73y93e3Zk4kdO7J7RT/Z6PifO3Agrfn5M321fMd3JN1u6sc+ds7+29jPvyH1b8r4NmD8z1x5ZU7t25dtJ05kds+etO65J6/+sR/LZ375l887jl/sz3+j22xT2k9fc9UqY8aFxN9Xm73yykyXsn6fz8rjfOUrM9Jq5ZbPfz6XnzyZkzt3ZmT79tzw+OPrM/6sMj4//IpXpFNrbvn85898rtsvvzzt2dkz7anfPtGY9rMZ9Q+4vtrw8WffvhzdtSvjJ06cieuJv/SXMltrnp6ezr7JybzxppvytltuyWf+6T899/nts/30M5cP3flV/5pz0KaNDxd7/Byy+LfaWmGY1mrDVv9Z658bbkh3dDTlsceybXo6s5OTOb53bxZmZrK3gfGrf2PWgpsxl/czv8zs2pXJo0c37HeJteL4lp/6qUsqkX0xk9jvTvKTSfbUWk8uK/+7Sf6PJNfXWg+vse2nk6TW+poV5b+X5KZa680DxHNJJrE/94EPZOq9701rbi7zBw6ktNtpP/ZY9j78cNqLi0mSzshI5vfuzd6pqbQWFjLX6aSOjqZedVXKk0+mLCxkvN1Od3Q0T+/YkbGnnz6z7ejSvwujo5nesSOTU1MZXVjolY2MnKl/as+e7Dh+/AX7fOzAgRzcuTPdTic3PvVUFsbH88TNN+eaRx7J6NxcDl15Za48fjy3fe1rGe12X3T9/ZRdSPzqb379C+12/uy663L0iiuyvd3Ovscfz6mRkXz4ta/NF269NTXJWLudew4fzl0f+9iZdtdqt3Pg5Mlcf/DgRY3/6VtuSef661M7nYwdPJixqamklMxfdtk5+29TP/+m1L8Z49ug8Xfa7Tx9yy1ZvPbajB08mO74eDqvelXan/vcecfxi/35b3SbbUr76WeuWm3MuJD4+2mzdX4+84uLmRsZWZfPZ+Vxbp+ZSZLMbN+ep669NtOdTq46dqw3J3c6F/z5rzY+bz91KklyamLizOd61WWXZde2bWfaWL99ointZzPqH3R9tdHjz0Kr1Tvne/acievP3vSmzN11V7q15qFnnsn2kZG86ciR7PvgB8+5z37bTz9z+bCdX/V/vf6Vc9BmjQ8Xe/wctvi32lphmNZqw1b/yvVPe6muzthYOrt2ZXJqKt25ud76p91uXPzq35i14GbM5f3MLyOPP97r453OhvwusVYcO3/kR/LKt789l4qLmcS+N8m1tdY/t6L8LyT5/SR/pdb6H1bZrpXkVJL/t9b6jhWvvSvJzyTZWWudepHxXHJJ7M7CQv7wR380l913X55/+ctT2u3UTic7//RPs+fo0Ty7e3dKKbn8mWcy2mplYnQ0U1dckVprxp56Kqm1t8C48sqUUrLj2LHMLCxksdac2L07Jcn+r30tKSWHr702abWSbveFZUv1J0kppbddKbn8+PE8vnt3PnvgQC4bH0+pNTd8+csptSatVg7d3Pue4sYHHsj+557LyT17Ul5M/f2UXUj86m9+/aVkxzPP5PDu3Tl0221n6r/m4YfzyQMH8vG3vCW13c6RZ5/N3/ov/yWvPngwj958c2opeX52Nt/41a/mmhMnXtBPNjT+48dzfN++nPymb0pptdJdWMiN996bWkoe/Y7vSGt0dM3+28jPv0H1X/TxbdD4a31BO0itmfzCF3rjYil5/hWvOOc4frH714a22aa0nz7mqlXHjAuM/3xtNrVm91e/mm6teWydxp/lx9nqdnPnpz6VlJJPvva1qe120u2+cE5e5/G5dDov2Ge31crU/Hx2bduW/Tt3ppSS2un01yea0n42o/5B11cbPf7U+sJznuSGRx7JI3fcka/98A+njIykW2v+9PDhvOU//sfc8fDDmT7H2rWf9tPXXD5s51f9Lxifl89BmzY+XOzxc9ji32prhWFaqw1h/S9Y/3S72XXwYGqS55a+GKidzgvXPw2LX/3rvxbclLm8j/klyQv7+Hr/LrFGHJd98YuZ/pZvyZ//lV+5ZK7GHiSJffZTVvpzdZIjq5SfLrtmje32JBkfcNskSSllXynl9uU/SW7qI+Yt5ciDD6b96KO9P9ta+qayNTWViampzI2P9zpaKemOjGTy1KnMt9tJKb0FxuhoJqane3++s/S++VYrk6dOpTMyktJqZWTpG6LUeua/zyorJZ12OztOncpiu32mrtmxsVw2PZ3L5+ZSSklarcyPj+fq48czNz6etFrZdupUds3OZnp0NLWUF1V/P2UXEr/6m19/N8mp0dHsOnUq25a+0V1McmxyMjc880x2HzuWUkqun5rKlU8/nWd37OhNnqXk8rm5TE5PZ3ZZP9no+OfGxzMxNZXW0m1O2tPTSZJS65n/Xq3/NvXzb0r9mzG+DRr/ynZQ2u10Jiay56mnsrBt2znH8Yv9+W90m21K++lnrlptzLiQ+Ptps2VhIak1JcnY0lVxF/L5rDzO8ZmZ3n34ut2ML12Rd9acvM7j88p9ltK7V/LM0tVYSfruE01pP5tR/6Drq40ef846561WTl5+efYcOZL244/36i4l+0+ezOTjj2d6164199lv++lnLh+286v+r9e/cg7arPHhYo+fwxb/VlsrDNNabdjqP2v9s7TWydJ9jZOcvf5pUPzq35i14GbM5f3ML2f18TXqH/R3ibXimN2zJ61Dh3LkwQfD2gZNYk8kmVulfHbZ62ttlwG3Pe0d6d0/e/nPR86zzZYzNzXVe6DEtm1fL1xYSKvbTWdpgk2S2mqldLvpnv5FJklN0qr167/cJOmWktLtnikr3e6Z107/92pltdVKq9YX1N9pt9PqdjOy9ItpknRarYx0OllcGgRai4tpdbtZbLdz+q8B+q2/n7ILiV/9za+/1prFVivtWtM6/Ut0rZkdGclYp5ORud4QM7GwkJHFxcyOjZ2pa6Tb7bW9VmvN+tc7/u5Sn8jpyW9hITW9vri8bLX+28TPv0n1X+zxbdD4k7PbQW210u50eldCndZHO9jo+FeLdT3bbFPaTz9zVXL2mHGh8Z+3zXY6qSvqupDPZ+VxthYXe+eylDPj52pz8nqOz6vus/QewNtZdmz99ImmtJ/NqH/Q9VWysePPaud8YWys90veUqIs6c3J7cXFLCybk1fus9/2089cvt6fv/ovXv1nzUHZnPHhYo+fwxb/VlsrrHZMTV2rDWP9L1j/dDpfX/ecrneV9U+T4ld///U3eS7va35ZpY+v5+8Sa8XRHR9PmZ/P3NSLujHFJWfQJPZMeldUr7Rt2etrbZcBtz3tV5PcseLnO8+zzZYzvmNH6thYWrOzXy8cHU13qQOeVrrdM533TFmWkjrLylq19iaXZYuX007/92plpyej5fW3O510W60sLuv07aXF0cjpxenISLpLHbycHuz6rL+fsguJX/3Nr7+UkpFuN53S+2Y/6SVEti0uZr7dzuJ4b4iZGR3N4shIts3Pn6lrsdXqtb0VE9FGxt9a6hNZijWjoynp9cXlZav13yZ+/k2q/2KPb4PGn5zdDsrS4qgsO+f9tIONjn+1WNezzTal/fQzVyVnjxkXGv9522y7nbKirgv5fFYeZ3dkpHcuaz0zfq42J6/n+LzqPmvvaqv2smPrp080pf1sRv2Drq+SjR1/Vjvno/PzWRwZSSa+fm3KzOhoOiMjGV02J6/cZ7/tp5+5fL0/f/VfvPrPmoOyOePDxR4/hy3+rbZWWO2YmrpWG8b6X7D+abe/vu45Xe8q658mxa/+/utv8lze1/yySh9fz98l1oqjNTeXOjaW8R07wtpa53/Lqo6kd0uRlU6XPbHGdsfTuwp7kG2TJLXWo7XWB5b/JPlKHzFvKVffdls6N9yQbcePpy51ru6OHZnZsSPjc3Op3W5Se998TW/f3vuTnFpTu920FhYyMzmZ1sLCmfeNdbuZ3r497cXF1G6394tHkpRy5r/PKqs17U4nU9u3Z6TTOVPXtvn5PD85mefGx3vf6He7GZuby5E9ezI+N5d0u5ndvj3PbtuWyYWFMxNYv/X3U3Yh8au/+fW3kmxfWMiz27dndvv2JMlIkiump/PoS16SE0v3mn1sx448tXdvdk1N9Z6UXmueGx/P9ORkti3rJxsd//jcXGZ27Eh3584kSWdyMklSSznz36v136Z+/k2pfzPGt0HjX9kOaqeT9sxMjl95ZUZnZ885jl/sz3+j22xT2k8/c9VqY8aFxN9Pm62jo0npXaU8v7QovpDPZ+Vxzk1MpJaS2mplbinBeNacvM7j88p91loz3+lkYnQ046evwO2zTzSl/WxG/YOurzZ6/DnrnHe72fncczl+9dXpXHttr+5ac3jnzkxfe20mn312zX322376mcuH7fyq/+v1r5yDNmt8uNjj57DFv9XWCsO0Vhu2+s9a/yytdVJK77+Ts9c/DYpf/RuzFtyMubyf+eWsPr5G/YP+LrFWHNuOH0/3xhtz9dLzRVjdoA92/CdJfiLJnlrryWXlfy/JP05yfa318BrbfiZJrbW+ZkX5R5PcVGt90fe3Lpfggx2T5HMf+ECm3vve8z4peeWTgOvoaOpVV6U8+WTKwkLG2+10R0fz9I4dGXv66XV54ms/T2m98vjx3pOwu92hfOKu+pv3xONTIyP58Gtfmy/cemtqkrF2O/ccPpy7Pvax8z4deKPj38int2/F89tv/Zsxvl0KT7zf6DbblPYz6BPFLyT+ftpsnZ/P/OJi5kZG1uXzWXmc25du8TCzfXueuvbaTHc6uerYsd6cvPRL+sV4Iv1Vl12WXdu2nfPp8Ku1s6a0n82of9D11UaPPwutVu+c79lzJq4/e9ObMnfXXenWmoeeeSbbR0bypiNHsu+DHzznPvttP/3M5cN2ftX/9fpXzkGbNT5c7PFz2OLfamuFYVqrDVv9K9c/7aW6OmNj6ezalcmpqXTn5nrrn6UvuJsUv/o3Zi24GXN5P/PLyOOP9/p4p7Mhv0usFcfOH/mRvPLtb8+l4mI+2PFDSdpJfvh0QSllPMkPJrnvdAK7lHJ9KeVlq2z76lLKNy/b9tYkb0jywQHjuSS9/K1vTeuee9IdH89lX/xi2o89ls7YWGa3b8/kzEwmZ2czu317Tuzbl+fGx9OamsplMzPZtmdP9v+5P5dte/bkspmZtKam8tz4eE7s2/eCbU/s3p1n9u7N6MJCrn3iiYwuLOSZK67Is7t3v6D+6auuOmufYxMTuf7Eidx66FCm2u18/hWvyOe+8zvz+Ve8IlPtdm49dCgT7XZmLr98oPr7KbuQ+NXf/PrnJiczNjGRK48dy7Vf/nJOjYzkoVe9Kk+84hV5bm4uJ+fmsnN8PM9+8ze/oN1df+JExpa+Fb6Y8XfHxtJ+7LFc9sUvpjs+nrnv+Z7Mv/3t5+2/Tf38m1L/Zoxvg8Y/vXNnUuuZNtC655687h/9o77G8Yv9+W90m21K++lnrlptzLiQ+Ptps8/u2pVj6/j5rDzOP7zrrvzxt35rpkdGcu2Xv5yrjh3L6MRE5icnN2x8/uO7785/u/vuF3yuu5577gVtrN8+0ZT2sxn1D7q+2ujxZ2bnzmxf2v/puB69/fYcevbZ/MkTT2T7yEjeeNNN+ct/82+ed5/9tp9+5vJhO7/qX3sO2qzx4WKPn8MW/1ZbKwzTWm3Y6l+5/hm59tq0brghY4uL2f3oo+nOzeXE3r05vmtXI+NX/8asBTdjLu9nfqndbqb7yFUN+rvEWnHc8eY3b3aasfEGuhI7SUopv5nkzUl+KckjSb4/yWuS/IVa6x8uvecPknxbrbUs225Hks8m2ZHkPUkWkvxkeknxV9Vanx4glkvySuwk6Sws5P7f+q2c+NjH0jp0qPewx2V/nlM6nZTFxdTR0ewYH8+VO3bkqu3b01pcTLfdzpMzM3nq+eczNTubsrBw9rYLCxl77rne+0dGMn/55emOjZ1V/2r77I6N5ZmrrsrBl70sX7711syXktFac8uXvpQDDz2Ulzz5ZFpzc4PX30/ZhcSv/ubXv7iY6VLyxBVX5Mu33pojr3hFRsfG0jr952ndbha63bPb3Rr9ZKPjr2Nj6d54Y3a/4Q1nJqh++m9jP/+G1L8p49uA8dfx8Re0gfboaN/j+Gb0rw1tsw1pP33NVasd5wXE31ebnZ9f389nxXHOdTq5+vOfz3/38MO55tixTNa6vuPPKuPzWLt91ue6so313Sea0n42o/4B11cbPv6Mj58V11i7nQO7d+fO/ftz1/79abdafe+zn/azJc+v+tecgzZtfLjY4+eQxb/V1gpDtVYbsvpXrn8yN5fjTzyR56am8nytmZqcTKfB8at/Y9aCmxF/X/NLv7mqQX+XWCOOS8kgV2JfSBJ7W5J3JfkbSXYn+UKS/63W+nvL3vMHWZHEXiq/Lr3k9z3pXQ3+B0l+otb6yICxXLJJ7NM6Cws58uCDmZuayviOHWfuo7OyrN1qJYcP954WPzGR7N+fTrd73m333Xxzjj7yyHnrX7Ws3c7hkyczs7CQidHR7N+5M+l01q/+PsrUv8Xrv/XWPDEz88I2lpy33W1W/Csnp377b2M//4bUvynj24Dxr7ZAGbQdbHT8G91mm9J++pmr1jv+ftrsun8+K47zmomJHH3ooYs7Pq/yuQ7aJxrTfjaj/gHXVxs+/qwS1/IHeL6o89tn+9mS51f9zRsfLvb4OWTxb7W1wjCt1Yat/pXrn85VV+XIww8PTfzq35i14GbE308/3+jfJdaK41JwUZPYTSKJDQAAAADQfBfzntgAAAAAALDhJLEBAAAAAGgsSWwAAAAAABpLEhsAAAAAgMaSxAYAAAAAoLEksQEAAAAAaKyRzQ5gnYwlySOPPLLZcQAAAAAAsIZlOdyxfrcptdaNieYiKqX8lSQf2ew4AAAAAADoy3fWWv99P2/cKknsy5N8W5LDSeY3OZzNdFN6yfzvTPKVTY4FeHH0Xxhe+i8ML/0Xhpf+C8NL/2Usyf4k/7XW+lw/G2yJ24ksHWxfWfutrJRy+j+/Umt9YDNjAV4c/ReGl/4Lw0v/heGl/8Lw0n9Z8tkX82YPdgQAAAAAoLEksQEAAAAAaCxJbAAAAAAAGksSe2t5OsnPLf0LDBf9F4aX/gvDS/+F4aX/wvDSf3nRSq11s2MAAAAAAIBVuRIbAAAAAIDGksQGAAAAAKCxJLEBAAAAAGgsSWwAAAAAABpLEhsAAAAAgMaSxN4CSinjpZRfKKU8UUqZKaXcV0p542bHBXxdKeX1pZS6xs+3rHjv60opnyilnCqlPFlK+WellMs2K3a4lJRSLiul/Fwp5XdLKceX+ugPrPHe25be9/zSe/9VKWXvKu9rlVJ+upTy1VLKbCnlC6WU/3HDDwYuMf3231LK+9aYj7+0ynv1X7gISimvLqX881LKA6WU6VLKY6WU3yyl3LLKe82/0CD99l/zLxdqZLMDYF28L8nb8v+3d3exclVlHMaf1wZaFRAaxColghFSMYRiTKUVYokY0KCY2HrTGiUSMabxQmwADSbGaKNBRQ2Y1BiqAQVaLipaESEVNSUFAhXqR9omEhAL+BEPoP3g4/Vi7W33mZ45M6eHzuzxPL+bnq69ZrLOxT/vnHf2XguuBXYCHwM2RcR5mfnbIa5L0sG+DdzfMbar/iEiFgJ3A38EPgPMBz4LnAq8d0BrlGay44EvAI8BvwOWTjQpIuYDvwbGgM8BR1GyekZELMrM/Y3pXwauBL5Hyf/FwI8iIjPz5sP0e0gzUV/5rewDLu0YG5tgnvmVBuMK4J3AeuBhYB6wCngwIs7OzO1g/ZVaqq/8Vqy/OmSRmcNeg6YhIhYBW4HVmXlNNTYH2A48nZlLhrk+SUVELAU2A8szc8Mk8zYBC4EFmflMNXYppXhfkJl3DmC50owVEbOB4zLzyYh4O+VD8yWZua5j3vWUL40XZOZj1dj5wC+ByzJzbTV2IvBnYG1mrqrGArgHOAU4OTNfHMTvJv2/m0J+1wHLMnPSp5zMrzQ4EbEEeKDZhI6IU4FHgA2ZubIas/5KLTOF/K7D+qtpcDuR0bcMeBFYWw9k5l7g+8DiiDhpWAuTNLGIODoiDnoSJiKOAd4D3Fg3sCs/BJ4DPjygJUozVmbuy8wn+5j6IeCn9R/Q1WvvAnYwPqsXA0cA1zfmJfBdypMWi1+OdUuaUn4BiIhZVe3txvxKA5KZWzruoiYzdwK/B97SGLb+Si0zhfwC1l8dOpvYo+8sYEdHwwvgvurfhQNej6TJ3QA8A+yNiM3VnWK1MyjbPD3QfEH1gWAbJe+Shqy6O+QEOrJauY/xWT0L+Ddli6DOeWCupWF5FaUej1V76l4XB58/YX6lIaruvHwd8Pfq/9ZfaUR05rfB+qtD5p7Yo+/1wO4JxuuxNwxwLZK62w/cBmyiFPLTKfv3/SYilmTmQ5Q8Q/dMnzuIhUrqqVdW50bE7MzcV819Kg/ev806LQ3PbuBrwIOUm3ouBD4FnBkRSzPzhWqe+ZWGawVwImWve7D+SqOkM79g/dU02cQefa+kbIzfaW/juqQhy8wtwJbG0E8iYgPl4Is1lAJe57Vbps2z1A69slrP2Yd1WmqdzLyqY+jmiNhBOURqGVAfGGV+pSGJiAXAdcC9wA+qYeuvNAK65Nf6q2lzO5HRtweYPcH4nMZ1SS2UmbuAjcB5ETGLA3ntlmnzLLVDr6w251inpdHwTeAl4PzGmPmVhiAi5gE/A8Yoh8DVB7hZf6WWmyS/3Vh/1Teb2KNvNwceq2qqx/46wLVImrrHgSOBV3Pg8ahumTbPUjv0yuo/q0eZ67nzqn0BO+eBuZZaITP3AP8A5jaGza80YBHxGuDnwLHAhZnZzJn1V2qxHvmdkPVXU2ETe/RtA06b4GTXdzSuS2qvN1Eei3oO2A68ADQPeyQijqQc0mqepRbIzCeAv9GR1coixmd1G+UAm86T2a3TUotExNHA8ZRs18yvNEARMQe4HTgNuCgz/9C8bv2V2qtXfid5nfVXfbOJPfo2ALOAT9QDETEbuATYmpmPD2thkg6IiNdOMHYm8AHgzsx8KTPHgLuAlVUxr30EOApYP5DFSurHbcBFEXFSPRAR76Z8cG9mdSPwPOXQmnpeAJ8EnmD8XvmSDrOImNNRY2tXAwHc0Rgzv9KAVFvr3QIsBpZn5r1dplp/pZbpJ7/WX70cPNhxxGXm1ohYD6yJiBOAXcBHgZOBjw9zbZLGuSUi9lAK7tPA6ZQvn/4DXNmY9/lqzj0RsRaYD1xOaXTfgaTDLiJWUR6DrE8+f39EzK9+/k71hdNXgOXA5oj4FuWLptXAI8AN9Xtl5l8i4lpgdUQcAdwPfBA4F1jRxz6BkqagV36B44CHIuLHwJ+q8QuA91H+gN5Yv5f5lQbq65SbO24H5kbEyubFzLyx+tH6K7VPP/mdh/VX0xSZOew1aJqqxza+BKykfDB/GLg6M38x1IVJ+p+I+DSwAngzcAzlcam7gS9WBzw2554DfBV4G/AscCtwVWY+O9BFSzNURDwKvLHL5VMy89Fq3luBbwDnAPsph9hcnplPdbzfK4ArgMsoe/ntBNZk5k2HY/3STNYrv8C/KM3ssymN7lmUm0BuAq7JzOc73s/8SgMQEb8C3tXtemZGY671V2qRfvIbEcdi/dU02cSWJEmSJEmSJLWWe2JLkiRJkiRJklrLJrYkSZIkSZIkqbVsYkuSJEmSJEmSWssmtiRJkiRJkiSptWxiS5IkSZIkSZJayya2JEmSJEmSJKm1bGJLkiRJkiRJklrLJrYkSZIkSZIkqbVsYkuSJEmSJEmSWssmtiRJkiRJkiSptWxiS5IkM/cH4wAAADpJREFUSZIkSZJayya2JEmSJEmSJKm1bGJLkiRJkiRJklrLJrYkSZIkSZIkqbVsYkuSJEmSJEmSWuu/lQSDcnVeO9IAAAAASUVORK5CYII\u003d\n",
            "text/plain": [
              "\u003cFigure size 1800x360 with 1 Axes\u003e"
            ]
          },
          "metadata": {
            "needs_background": "light"
          },
          "output_type": "display_data"
        }
      ],
      "source": [
        "%matplotlib inline\n",
        "\n",
        "from matplotlib import pyplot as plt\n",
        "\n",
        "x \u003d np.arange(len(predictions_df))\n",
        "\n",
        "plt.figure(figsize\u003d(15,3), dpi\u003d120)\n",
        "plt.scatter(x, predictions_df[\u0027Legendary\u0027], c\u003d\u0027teal\u0027, alpha\u003d0.5)\n",
        "plt.scatter(x, predictions_df[\u0027Voorspelling LR\u0027], c\u003d\u0027red\u0027, alpha\u003d0.5)\n",
        "plt.show()"
      ]
    },
    {
      "cell_type": "markdown",
      "metadata": {
        "pycharm": {}
      },
      "source": [
        "Overal waar punten overelkaar heen zijn dus goeie voorspellingen. Het model wordt in de Evaluatie verder uitgepluisd met verschillende methodieken."
      ]
    },
    {
      "cell_type": "markdown",
      "metadata": {
        "pycharm": {}
      },
      "source": [
        "## Evaluatie\n",
        "In de evaluatie gaan we naar enkele berekeningen kijken die de correctheid van het model impliceren.\n",
        "\n",
        "Om een begrip te krijgen aan de aantallen van de fout voorspelt, goed voorspelt etc. wordt een confusion matrix getoond."
      ]
    },
    {
      "cell_type": "code",
      "execution_count": 15,
      "metadata": {
        "pycharm": {}
      },
      "outputs": [
        {
          "name": "stdout",
          "output_type": "stream",
          "text": [
            "Goed voorspelt  : 10\n",
            "legendary maar geen sterke pokémon : 13\n",
            "Sterke pokémon maar geen legedary : 4\n",
            "Geen legendaries  : 237\n"
          ]
        }
      ],
      "source": [
        "from sklearn.metrics import confusion_matrix\n",
        "\n",
        "tn, fp, fn, tp \u003d confusion_matrix(predictions_df[\u0027Legendary\u0027], predictions_df[\u0027Voorspelling LR\u0027]).ravel()\n",
        "\n",
        "print(f\"Goed voorspelt  : {tp}\")\n",
        "print(f\"legendary maar geen sterke pokémon : {fp}\")\n",
        "print(f\"Sterke pokémon maar geen legedary : {fn}\")\n",
        "print(f\"Geen legendaries  : {tn}\")"
      ]
    },
    {
      "cell_type": "markdown",
      "metadata": {
        "pycharm": {}
      },
      "source": [
        "Deze waardes kunnen we in een markdown tabel zetten door handmatig wat Juypter (IPython) code te schrijven. Als notitie: in dit geval zijn onze True Negatives eigenlijk ook goeie voorspellingen, maar dat wordt bij een confusion matrix geen rekening bij gehouden. Want dit zijn nogsteeds pokémon die goed zijn geclassificeerd."
      ]
    },
    {
      "cell_type": "code",
      "execution_count": 16,
      "metadata": {
        "pycharm": {}
      },
      "outputs": [
        {
          "data": {
            "text/markdown": [
              "\n",
              "| *confusion matrix* | Goed voorspelt | slecht voorspelt |\n",
              "| --- | --- | --- |\n",
              "| **legendary pokémon** | 10 | 4 |\n",
              "| **niet legendary pokémon** | 13 | 237|\n"
            ],
            "text/plain": [
              "\u003cIPython.core.display.Markdown object\u003e"
            ]
          },
          "execution_count": 16,
          "metadata": {},
          "output_type": "execute_result"
        }
      ],
      "source": [
        "from IPython.display import Markdown as md\n",
        "\n",
        "md(f\"\"\"\n",
        "| *confusion matrix* | Goed voorspelt | slecht voorspelt |\n",
        "| --- | --- | --- |\n",
        "| **legendary pokémon** | {tp} | {fn} |\n",
        "| **niet legendary pokémon** | {fp} | {tn}|\n",
        "\"\"\")"
      ]
    },
    {
      "cell_type": "markdown",
      "metadata": {
        "pycharm": {}
      },
      "source": [
        "#### Metrics\n",
        "De r^2 methode kan niet worden berekent omdat bij Logistische Regressie er geen \u0027residual\u0027 heeft om de score te berekenen. Hiervoor moet je de \u0027maximum likelihood\u0027 berekenen. Overige Metrics zoals de \u003ci\u003eRoot Mean Squared Error\u003c/i\u003e zeggen niks over het model omdat de waardes \u003ci\u003ebinominaal\u003c/i\u003e zijn: waar of niet waar. Het probleem ligt er dus in dat de waardes van de voorspellingen niet goed passen.\n",
        "\n",
        "\u003cu\u003eEr zijn methodes om een LR model te beoordelen.\u003c/u\u003e\n",
        "1. ROC Curve\n",
        "2. classification matrix\n",
        "\n",
        "Deze methodes worden verder in de Evaluatie getoond en uitgelegd."
      ]
    },
    {
      "cell_type": "markdown",
      "metadata": {
        "pycharm": {}
      },
      "source": [
        "##### ROC curve\n",
        "\n",
        "In deze paragraaf wordt een ROC curve uitgewerkt van het model vergeleken met het gemiddelde (naive methodiek) van het LR_model, oftwel 50/50 en dus een lijn met een r.c. van 1 door de oorsprong. We gebruiken RandomTreesEmbedding om de data wat meer random te verdelen tijdens de het maken van de pipeline en dit model te trainen.\n",
        "\n",
        "API referentie: https://scikit-learn.org/stable/modules/generated/sklearn.ensemble.RandomTreesEmbedding.html\n",
        "\n",
        "\u003c/br\u003e\n",
        "\u003c/br\u003e\n",
        "\n",
        "RandomTreesEmbedding van de sci-kit-learn website:\n",
        "\n",
        "\u003e An unsupervised transformation of a dataset to a high-dimensional sparse representation. A datapoint is coded according to which leaf of each tree it is sorted into. Using a one-hot encoding of the leaves, this leads to a binary coding with as many ones as there are trees in the forest.\n",
        "\n",
        "Waarom hier voor gekozen? Het doel is om de curve wat te laten worden bepaald op iets willekeurigs zodat als er een bias zit in de volgorde van de pokémon, wat zeer mogelijk kan zijn aangezien de legendaries altijd op het einde van de pokémon dex staan. Dooruit dit document heb is steeds geprobeerd de volgorde te veranderen om de bias eruit te halen. Met RandomTreesEmbeding is dit hopelijk de laatste slag op de kop.\n",
        "\n",
        "De n_estimator staat op 10 omdat uit enkele keren handmatig testen deze waarde het meest op de beste curve uitkwam."
      ]
    },
    {
      "cell_type": "code",
      "execution_count": 17,
      "metadata": {
        "pycharm": {}
      },
      "outputs": [
        {
          "data": {
            "image/png": "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\u003d\u003d\n",
            "text/plain": [
              "\u003cFigure size 960x600 with 1 Axes\u003e"
            ]
          },
          "metadata": {
            "needs_background": "light"
          },
          "output_type": "display_data"
        }
      ],
      "source": [
        "%matplotlib inline\n",
        "\n",
        "from sklearn.metrics import roc_curve\n",
        "from sklearn.pipeline import make_pipeline\n",
        "from sklearn.ensemble import RandomTreesEmbedding\n",
        "\n",
        "# constanten voor de plot\n",
        "n_estimator \u003d 10\n",
        "\n",
        "# Unsupervised transformation based on totally random trees (RTE)\n",
        "rt \u003d RandomTreesEmbedding(max_depth\u003d3, n_estimators\u003dn_estimator, random_state\u003d0)\n",
        "\n",
        "pipeline \u003d make_pipeline(rt, LR_model)\n",
        "pipeline.fit(X_train, y_train.values.ravel())\n",
        "y_pred_rt \u003d pipeline.predict_proba(X_test)[:, 1]\n",
        "fpr_rt_lm, tpr_rt_lm, _ \u003d roc_curve(y_test.values.ravel(), y_pred_rt.ravel())\n",
        "\n",
        "# opzetten van de grafiek\n",
        "plt.figure(figsize\u003d(8,5), dpi\u003d120)\n",
        "\n",
        "# plot de rechte lijn (naive bayes) en de roc curve van het LR_model\n",
        "plt.plot([0, 1], [0, 1], \u0027k--\u0027, label\u003d\u0027\u0027)\n",
        "plt.plot(fpr_rt_lm, tpr_rt_lm, label\u003d\u0027RTE + LR\u0027)\n",
        "\n",
        "# instellingen voor de grafiek\n",
        "plt.xlabel(\u0027False positive rate\u0027)\n",
        "plt.ylabel(\u0027True positive rate\u0027)\n",
        "plt.title(\u0027ROC curve\u0027)\n",
        "plt.legend(loc\u003d\u0027lower right\u0027)\n",
        "plt.grid()\n",
        "\n",
        "# Toon de grafiek\n",
        "plt.tight_layout()\n",
        "plt.show()"
      ]
    },
    {
      "cell_type": "markdown",
      "metadata": {
        "pycharm": {}
      },
      "source": [
        "##### Classification Matrix\n",
        "In sci-kit-learn is een functie die een soortgelijke actie onderneemt, deze functie heet classification_summary en die is te vinden in de metrics gedeelte.\n",
        "\n",
        "API referentie: https://scikit-learn.org/stable/modules/generated/sklearn.metrics.classification_report.html\n",
        "\n",
        "Informatie van sci-kit-learn:\n",
        "\u003e Build a text report showing the main classification metrics\n",
        "\n",
        "Met de classification summary kunnen we row kijken wat voor impact het op had."
      ]
    },
    {
      "cell_type": "code",
      "execution_count": 18,
      "metadata": {
        "pycharm": {}
      },
      "outputs": [
        {
          "name": "stdout",
          "output_type": "stream",
          "text": [
            "                precision    recall  f1-score   support\n",
            "\n",
            "Niet legendary       0.98      0.95      0.97       250\n",
            "     Legendary       0.43      0.71      0.54        14\n",
            "\n",
            "      accuracy                           0.94       264\n",
            "     macro avg       0.71      0.83      0.75       264\n",
            "  weighted avg       0.95      0.94      0.94       264\n",
            "\n"
          ]
        }
      ],
      "source": [
        "from sklearn.metrics import classification_report\n",
        "\n",
        "names\u003d[\"Niet legendary\", \"Legendary\"]\n",
        "print(classification_report(predictions_df[\u0027Legendary\u0027], predictions_df[\u0027Voorspelling LR\u0027], target_names\u003dnames))\n"
      ]
    },
    {
      "cell_type": "markdown",
      "metadata": {
        "pycharm": {}
      },
      "source": [
        "Zoals te zien is de f1 score van de accruacy en weighted average hetzelfde wat een goeie indicator is dat het model goed werkt. De f1 score is het harmonisch gemiddelde van de precision en de recall. \n",
        "\n",
        "f1 referentie: https://en.wikipedia.org/wiki/F1_score\n"
      ]
    },
    {
      "cell_type": "markdown",
      "metadata": {
        "pycharm": {}
      },
      "source": [
        "## Conclusie\n",
        "\n",
        "Al om al is te zeggen dat het model goeie voorspellingen doet, het is echter sinds de introductie van Mega evoluties bepaalde pokémon tijdens een gevecht hogere stats kunnen krijgen. Dit houdt in dat het model deze pokémon met een tijdelijke boost in kracht, snelheid en verdediging als Legendary classificeerd. Ook zijn er enkele Legendary pokémon dat gewoon baggere stats hebben en dus niet als Legendary worden geclassificeerd. \n",
        "\n",
        "Stats zijn een goeie indicator of een pokémon Legendary is of niet, maar het is niet alles zeggend, iedere pokémon heeft een bepaald verhaal achter zich wat het Legendary maakt of niet, daarom kan afhankelijk van alleen de stats er geen perfect model worden gemaakt om pokémon wel of niet als legendary te classificeren."
      ]
    }
  ],
  "metadata": {
    "kernelspec": {
      "display_name": "Python 3",
      "language": "python",
      "name": "python3"
    },
    "language_info": {
      "codemirror_mode": {
        "name": "ipython",
        "version": 3
      },
      "file_extension": ".py",
      "mimetype": "text/x-python",
      "name": "python",
      "nbconvert_exporter": "python",
      "pygments_lexer": "ipython3",
      "version": "3.7.2"
    },
    "stem_cell": {
      "cell_type": "raw",
      "metadata": {
        "pycharm": {
          "metadata": false
        }
      },
      "source": ""
    }
  },
  "nbformat": 4,
  "nbformat_minor": 1
}